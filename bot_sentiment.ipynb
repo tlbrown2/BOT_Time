{
  "nbformat": 4,
  "nbformat_minor": 0,
  "metadata": {
    "kernelspec": {
      "display_name": "Python [conda env:pyvizenv]",
      "language": "python",
      "name": "conda-env-pyvizenv-py"
    },
    "language_info": {
      "codemirror_mode": {
        "name": "ipython",
        "version": 3
      },
      "file_extension": ".py",
      "mimetype": "text/x-python",
      "name": "python",
      "nbconvert_exporter": "python",
      "pygments_lexer": "ipython3",
      "version": "3.7.9"
    },
    "colab": {
      "name": "bot_sentiment.ipynb",
      "provenance": [],
      "collapsed_sections": []
    }
  },
  "cells": [
    {
      "cell_type": "markdown",
      "metadata": {
        "id": "TiTKzJAzn2TY"
      },
      "source": [
        ""
      ]
    },
    {
      "cell_type": "code",
      "metadata": {
        "colab": {
          "base_uri": "https://localhost:8080/"
        },
        "id": "hCQo8uh5FXqF",
        "outputId": "fd9b8c9c-4acf-4662-ce52-a384536a6b9a"
      },
      "source": [
        "# Initial imports\n",
        "import pandas as pd\n",
        "import numpy as np\n",
        "from pathlib import Path\n",
        "import tensorflow as tf\n",
        "%matplotlib inline\n",
        "\n",
        "from urllib.request import urlopen, Request\n",
        "from bs4 import BeautifulSoup\n",
        "import pandas as pd\n",
        "import matplotlib.pyplot as plt\n",
        "import nltk\n",
        "from nltk.sentiment.vader import SentimentIntensityAnalyzer\n",
        "\n",
        "import warnings\n",
        "warnings.filterwarnings('ignore')"
      ],
      "execution_count": 1,
      "outputs": [
        {
          "output_type": "stream",
          "text": [
            "/usr/local/lib/python3.7/dist-packages/nltk/twitter/__init__.py:20: UserWarning: The twython library has not been installed. Some functionality from the twitter package will not be available.\n",
            "  warnings.warn(\"The twython library has not been installed. \"\n"
          ],
          "name": "stderr"
        }
      ]
    },
    {
      "cell_type": "code",
      "metadata": {
        "id": "BXyqVuIAFXqT"
      },
      "source": [
        "finviz_url = 'https://finviz.com/quote.ashx?t='\n",
        "tickers = ['AAPL','MSFT','AMZN','FB','GOOGL','GOOG','TSLA','JPM','JNJ']\n",
        "\n",
        "news_tables = {}\n",
        "for ticker in tickers:\n",
        "    url = finviz_url + ticker\n",
        "\n",
        "    req = Request(url=url, headers={'user-agent': 'my-app'})\n",
        "    response = urlopen(req)\n",
        "\n",
        "    html = BeautifulSoup(response, features='html.parser')\n",
        "    news_table = html.find(id='news-table')\n",
        "    news_tables[ticker] = news_table"
      ],
      "execution_count": 2,
      "outputs": []
    },
    {
      "cell_type": "code",
      "metadata": {
        "colab": {
          "base_uri": "https://localhost:8080/",
          "height": 424
        },
        "id": "38R4DqlQFXqV",
        "outputId": "81a5fd31-f3fe-41a3-aca9-ab0f3889f997"
      },
      "source": [
        "parsed_data = []\n",
        "\n",
        "for ticker, news_table in news_tables.items():\n",
        "    for row in news_table.findAll('tr'):\n",
        "        title = row.a.text\n",
        "        date_data = row.td.text.split(' ')\n",
        "\n",
        "        if len(date_data) == 1:\n",
        "            time = date_data[0]\n",
        "        else:\n",
        "            date = date_data[0]\n",
        "            time = date_data[1]\n",
        "\n",
        "        parsed_data.append([ticker, date, time, title])\n",
        "\n",
        "df = pd.DataFrame(parsed_data, columns=['ticker', 'date', 'time', 'title'])\n",
        "df['date'] = pd.to_datetime(df.date).dt.date\n",
        "df"
      ],
      "execution_count": 3,
      "outputs": [
        {
          "output_type": "execute_result",
          "data": {
            "text/html": [
              "<div>\n",
              "<style scoped>\n",
              "    .dataframe tbody tr th:only-of-type {\n",
              "        vertical-align: middle;\n",
              "    }\n",
              "\n",
              "    .dataframe tbody tr th {\n",
              "        vertical-align: top;\n",
              "    }\n",
              "\n",
              "    .dataframe thead th {\n",
              "        text-align: right;\n",
              "    }\n",
              "</style>\n",
              "<table border=\"1\" class=\"dataframe\">\n",
              "  <thead>\n",
              "    <tr style=\"text-align: right;\">\n",
              "      <th></th>\n",
              "      <th>ticker</th>\n",
              "      <th>date</th>\n",
              "      <th>time</th>\n",
              "      <th>title</th>\n",
              "    </tr>\n",
              "  </thead>\n",
              "  <tbody>\n",
              "    <tr>\n",
              "      <th>0</th>\n",
              "      <td>AAPL</td>\n",
              "      <td>2021-03-21</td>\n",
              "      <td>06:32PM</td>\n",
              "      <td>Dow Jones Futures Fall In Uncertain Market Ral...</td>\n",
              "    </tr>\n",
              "    <tr>\n",
              "      <th>1</th>\n",
              "      <td>AAPL</td>\n",
              "      <td>2021-03-21</td>\n",
              "      <td>03:47PM</td>\n",
              "      <td>Saudi Aramco has lost the title of worlds most...</td>\n",
              "    </tr>\n",
              "    <tr>\n",
              "      <th>2</th>\n",
              "      <td>AAPL</td>\n",
              "      <td>2021-03-21</td>\n",
              "      <td>12:51PM</td>\n",
              "      <td>How Reddit Makes Money</td>\n",
              "    </tr>\n",
              "    <tr>\n",
              "      <th>3</th>\n",
              "      <td>AAPL</td>\n",
              "      <td>2021-03-21</td>\n",
              "      <td>12:30PM</td>\n",
              "      <td>Right to repair: what can you do if your mobil...</td>\n",
              "    </tr>\n",
              "    <tr>\n",
              "      <th>4</th>\n",
              "      <td>AAPL</td>\n",
              "      <td>2021-03-21</td>\n",
              "      <td>11:45AM</td>\n",
              "      <td>Battle of Dividend Stocks: Microsoft vs. Apple</td>\n",
              "    </tr>\n",
              "    <tr>\n",
              "      <th>...</th>\n",
              "      <td>...</td>\n",
              "      <td>...</td>\n",
              "      <td>...</td>\n",
              "      <td>...</td>\n",
              "    </tr>\n",
              "    <tr>\n",
              "      <th>895</th>\n",
              "      <td>JNJ</td>\n",
              "      <td>2021-03-11</td>\n",
              "      <td>09:04AM</td>\n",
              "      <td>Johnson &amp; Johnson Single-Shot Vaccine Cleared ...</td>\n",
              "    </tr>\n",
              "    <tr>\n",
              "      <th>896</th>\n",
              "      <td>JNJ</td>\n",
              "      <td>2021-03-11</td>\n",
              "      <td>08:52AM</td>\n",
              "      <td>Stimulus Package &amp; Vaccine Rollout to Aid Reco...</td>\n",
              "    </tr>\n",
              "    <tr>\n",
              "      <th>897</th>\n",
              "      <td>JNJ</td>\n",
              "      <td>2021-03-11</td>\n",
              "      <td>07:54AM</td>\n",
              "      <td>EU Governments Are Bracing for More Covid Vacc...</td>\n",
              "    </tr>\n",
              "    <tr>\n",
              "      <th>898</th>\n",
              "      <td>JNJ</td>\n",
              "      <td>2021-03-11</td>\n",
              "      <td>07:39AM</td>\n",
              "      <td>5 Top Blue Chip Stocks to Buy as Dow Breezes P...</td>\n",
              "    </tr>\n",
              "    <tr>\n",
              "      <th>899</th>\n",
              "      <td>JNJ</td>\n",
              "      <td>2021-03-11</td>\n",
              "      <td>06:11AM</td>\n",
              "      <td>Will Johnson &amp; Johnson's Vaccine Be Able to Co...</td>\n",
              "    </tr>\n",
              "  </tbody>\n",
              "</table>\n",
              "<p>900 rows × 4 columns</p>\n",
              "</div>"
            ],
            "text/plain": [
              "    ticker  ...                                              title\n",
              "0     AAPL  ...  Dow Jones Futures Fall In Uncertain Market Ral...\n",
              "1     AAPL  ...  Saudi Aramco has lost the title of worlds most...\n",
              "2     AAPL  ...                             How Reddit Makes Money\n",
              "3     AAPL  ...  Right to repair: what can you do if your mobil...\n",
              "4     AAPL  ...     Battle of Dividend Stocks: Microsoft vs. Apple\n",
              "..     ...  ...                                                ...\n",
              "895    JNJ  ...  Johnson & Johnson Single-Shot Vaccine Cleared ...\n",
              "896    JNJ  ...  Stimulus Package & Vaccine Rollout to Aid Reco...\n",
              "897    JNJ  ...  EU Governments Are Bracing for More Covid Vacc...\n",
              "898    JNJ  ...  5 Top Blue Chip Stocks to Buy as Dow Breezes P...\n",
              "899    JNJ  ...  Will Johnson & Johnson's Vaccine Be Able to Co...\n",
              "\n",
              "[900 rows x 4 columns]"
            ]
          },
          "metadata": {
            "tags": []
          },
          "execution_count": 3
        }
      ]
    },
    {
      "cell_type": "code",
      "metadata": {
        "colab": {
          "base_uri": "https://localhost:8080/"
        },
        "id": "47tlc_bwFXqY",
        "outputId": "d794aed5-6c0b-458c-8c85-1d9718cb6b6b"
      },
      "source": [
        "nltk.download('vader_lexicon')\n",
        "\n",
        "vader = SentimentIntensityAnalyzer()\n",
        "\n",
        "f = lambda title: vader.polarity_scores(title)['compound']\n",
        "df['compound'] = df['title'].apply(f)\n",
        "df['compound']"
      ],
      "execution_count": 4,
      "outputs": [
        {
          "output_type": "stream",
          "text": [
            "[nltk_data] Downloading package vader_lexicon to /root/nltk_data...\n",
            "[nltk_data]   Package vader_lexicon is already up-to-date!\n"
          ],
          "name": "stdout"
        },
        {
          "output_type": "execute_result",
          "data": {
            "text/plain": [
              "0     -0.2960\n",
              "1      0.2247\n",
              "2      0.0000\n",
              "3      0.0000\n",
              "4     -0.3818\n",
              "        ...  \n",
              "895    0.1027\n",
              "896    0.0000\n",
              "897    0.0000\n",
              "898    0.2023\n",
              "899    0.0000\n",
              "Name: compound, Length: 900, dtype: float64"
            ]
          },
          "metadata": {
            "tags": []
          },
          "execution_count": 4
        }
      ]
    },
    {
      "cell_type": "code",
      "metadata": {
        "colab": {
          "base_uri": "https://localhost:8080/",
          "height": 433
        },
        "id": "yL1w_inJFXqZ",
        "outputId": "2a49e8f9-b7c7-47c8-bb9f-a63ee45df26b"
      },
      "source": [
        "plt.figure(figsize=(10,8))\n",
        "mean_df = df.groupby(['ticker', 'date']).mean().unstack()\n",
        "#mean_df = df.groupby(['ticker', 'date']).mean().unstack().dropna(axis='columns', thresh=7)\n",
        "mean_df"
      ],
      "execution_count": 5,
      "outputs": [
        {
          "output_type": "execute_result",
          "data": {
            "text/html": [
              "<div>\n",
              "<style scoped>\n",
              "    .dataframe tbody tr th:only-of-type {\n",
              "        vertical-align: middle;\n",
              "    }\n",
              "\n",
              "    .dataframe tbody tr th {\n",
              "        vertical-align: top;\n",
              "    }\n",
              "\n",
              "    .dataframe thead tr th {\n",
              "        text-align: left;\n",
              "    }\n",
              "\n",
              "    .dataframe thead tr:last-of-type th {\n",
              "        text-align: right;\n",
              "    }\n",
              "</style>\n",
              "<table border=\"1\" class=\"dataframe\">\n",
              "  <thead>\n",
              "    <tr>\n",
              "      <th></th>\n",
              "      <th colspan=\"23\" halign=\"left\">compound</th>\n",
              "    </tr>\n",
              "    <tr>\n",
              "      <th>date</th>\n",
              "      <th>2021-02-26</th>\n",
              "      <th>2021-02-27</th>\n",
              "      <th>2021-02-28</th>\n",
              "      <th>2021-03-01</th>\n",
              "      <th>2021-03-02</th>\n",
              "      <th>2021-03-03</th>\n",
              "      <th>2021-03-04</th>\n",
              "      <th>2021-03-05</th>\n",
              "      <th>2021-03-06</th>\n",
              "      <th>2021-03-08</th>\n",
              "      <th>2021-03-09</th>\n",
              "      <th>2021-03-10</th>\n",
              "      <th>2021-03-11</th>\n",
              "      <th>2021-03-12</th>\n",
              "      <th>2021-03-13</th>\n",
              "      <th>2021-03-14</th>\n",
              "      <th>2021-03-15</th>\n",
              "      <th>2021-03-16</th>\n",
              "      <th>2021-03-17</th>\n",
              "      <th>2021-03-18</th>\n",
              "      <th>2021-03-19</th>\n",
              "      <th>2021-03-20</th>\n",
              "      <th>2021-03-21</th>\n",
              "    </tr>\n",
              "    <tr>\n",
              "      <th>ticker</th>\n",
              "      <th></th>\n",
              "      <th></th>\n",
              "      <th></th>\n",
              "      <th></th>\n",
              "      <th></th>\n",
              "      <th></th>\n",
              "      <th></th>\n",
              "      <th></th>\n",
              "      <th></th>\n",
              "      <th></th>\n",
              "      <th></th>\n",
              "      <th></th>\n",
              "      <th></th>\n",
              "      <th></th>\n",
              "      <th></th>\n",
              "      <th></th>\n",
              "      <th></th>\n",
              "      <th></th>\n",
              "      <th></th>\n",
              "      <th></th>\n",
              "      <th></th>\n",
              "      <th></th>\n",
              "      <th></th>\n",
              "    </tr>\n",
              "  </thead>\n",
              "  <tbody>\n",
              "    <tr>\n",
              "      <th>AAPL</th>\n",
              "      <td>NaN</td>\n",
              "      <td>NaN</td>\n",
              "      <td>NaN</td>\n",
              "      <td>NaN</td>\n",
              "      <td>NaN</td>\n",
              "      <td>NaN</td>\n",
              "      <td>NaN</td>\n",
              "      <td>NaN</td>\n",
              "      <td>NaN</td>\n",
              "      <td>NaN</td>\n",
              "      <td>NaN</td>\n",
              "      <td>NaN</td>\n",
              "      <td>NaN</td>\n",
              "      <td>NaN</td>\n",
              "      <td>NaN</td>\n",
              "      <td>NaN</td>\n",
              "      <td>NaN</td>\n",
              "      <td>-0.040460</td>\n",
              "      <td>0.102058</td>\n",
              "      <td>0.177409</td>\n",
              "      <td>-0.039889</td>\n",
              "      <td>0.051392</td>\n",
              "      <td>-0.124887</td>\n",
              "    </tr>\n",
              "    <tr>\n",
              "      <th>AMZN</th>\n",
              "      <td>NaN</td>\n",
              "      <td>NaN</td>\n",
              "      <td>NaN</td>\n",
              "      <td>NaN</td>\n",
              "      <td>NaN</td>\n",
              "      <td>NaN</td>\n",
              "      <td>NaN</td>\n",
              "      <td>NaN</td>\n",
              "      <td>NaN</td>\n",
              "      <td>NaN</td>\n",
              "      <td>NaN</td>\n",
              "      <td>NaN</td>\n",
              "      <td>NaN</td>\n",
              "      <td>NaN</td>\n",
              "      <td>NaN</td>\n",
              "      <td>NaN</td>\n",
              "      <td>NaN</td>\n",
              "      <td>NaN</td>\n",
              "      <td>0.196155</td>\n",
              "      <td>0.115057</td>\n",
              "      <td>0.211442</td>\n",
              "      <td>-0.059078</td>\n",
              "      <td>0.134650</td>\n",
              "    </tr>\n",
              "    <tr>\n",
              "      <th>FB</th>\n",
              "      <td>NaN</td>\n",
              "      <td>NaN</td>\n",
              "      <td>NaN</td>\n",
              "      <td>NaN</td>\n",
              "      <td>NaN</td>\n",
              "      <td>NaN</td>\n",
              "      <td>NaN</td>\n",
              "      <td>NaN</td>\n",
              "      <td>NaN</td>\n",
              "      <td>NaN</td>\n",
              "      <td>NaN</td>\n",
              "      <td>NaN</td>\n",
              "      <td>NaN</td>\n",
              "      <td>NaN</td>\n",
              "      <td>NaN</td>\n",
              "      <td>NaN</td>\n",
              "      <td>0.031664</td>\n",
              "      <td>-0.079895</td>\n",
              "      <td>-0.017645</td>\n",
              "      <td>-0.022042</td>\n",
              "      <td>0.013245</td>\n",
              "      <td>0.471733</td>\n",
              "      <td>0.058480</td>\n",
              "    </tr>\n",
              "    <tr>\n",
              "      <th>GOOG</th>\n",
              "      <td>NaN</td>\n",
              "      <td>NaN</td>\n",
              "      <td>NaN</td>\n",
              "      <td>NaN</td>\n",
              "      <td>NaN</td>\n",
              "      <td>NaN</td>\n",
              "      <td>NaN</td>\n",
              "      <td>NaN</td>\n",
              "      <td>NaN</td>\n",
              "      <td>NaN</td>\n",
              "      <td>NaN</td>\n",
              "      <td>NaN</td>\n",
              "      <td>NaN</td>\n",
              "      <td>NaN</td>\n",
              "      <td>NaN</td>\n",
              "      <td>NaN</td>\n",
              "      <td>NaN</td>\n",
              "      <td>-0.030196</td>\n",
              "      <td>-0.017724</td>\n",
              "      <td>0.077709</td>\n",
              "      <td>-0.098389</td>\n",
              "      <td>0.359100</td>\n",
              "      <td>-0.244182</td>\n",
              "    </tr>\n",
              "    <tr>\n",
              "      <th>GOOGL</th>\n",
              "      <td>NaN</td>\n",
              "      <td>NaN</td>\n",
              "      <td>NaN</td>\n",
              "      <td>NaN</td>\n",
              "      <td>NaN</td>\n",
              "      <td>NaN</td>\n",
              "      <td>NaN</td>\n",
              "      <td>NaN</td>\n",
              "      <td>NaN</td>\n",
              "      <td>NaN</td>\n",
              "      <td>NaN</td>\n",
              "      <td>NaN</td>\n",
              "      <td>NaN</td>\n",
              "      <td>NaN</td>\n",
              "      <td>NaN</td>\n",
              "      <td>NaN</td>\n",
              "      <td>NaN</td>\n",
              "      <td>-0.014404</td>\n",
              "      <td>-0.017724</td>\n",
              "      <td>0.076185</td>\n",
              "      <td>-0.098389</td>\n",
              "      <td>0.359100</td>\n",
              "      <td>-0.210010</td>\n",
              "    </tr>\n",
              "    <tr>\n",
              "      <th>JNJ</th>\n",
              "      <td>NaN</td>\n",
              "      <td>NaN</td>\n",
              "      <td>NaN</td>\n",
              "      <td>NaN</td>\n",
              "      <td>NaN</td>\n",
              "      <td>NaN</td>\n",
              "      <td>NaN</td>\n",
              "      <td>NaN</td>\n",
              "      <td>NaN</td>\n",
              "      <td>NaN</td>\n",
              "      <td>NaN</td>\n",
              "      <td>NaN</td>\n",
              "      <td>0.185825</td>\n",
              "      <td>0.177550</td>\n",
              "      <td>0.401333</td>\n",
              "      <td>0.24695</td>\n",
              "      <td>-0.066322</td>\n",
              "      <td>0.044154</td>\n",
              "      <td>0.079980</td>\n",
              "      <td>0.053743</td>\n",
              "      <td>0.152767</td>\n",
              "      <td>NaN</td>\n",
              "      <td>0.237700</td>\n",
              "    </tr>\n",
              "    <tr>\n",
              "      <th>JPM</th>\n",
              "      <td>0.00645</td>\n",
              "      <td>0.4944</td>\n",
              "      <td>0.0</td>\n",
              "      <td>0.153714</td>\n",
              "      <td>0.3612</td>\n",
              "      <td>0.209114</td>\n",
              "      <td>0.273675</td>\n",
              "      <td>0.01904</td>\n",
              "      <td>0.1405</td>\n",
              "      <td>0.1657</td>\n",
              "      <td>-0.0058</td>\n",
              "      <td>0.18298</td>\n",
              "      <td>0.252000</td>\n",
              "      <td>0.258067</td>\n",
              "      <td>NaN</td>\n",
              "      <td>0.12500</td>\n",
              "      <td>0.149867</td>\n",
              "      <td>0.000000</td>\n",
              "      <td>0.138625</td>\n",
              "      <td>0.027329</td>\n",
              "      <td>NaN</td>\n",
              "      <td>0.220200</td>\n",
              "      <td>NaN</td>\n",
              "    </tr>\n",
              "    <tr>\n",
              "      <th>MSFT</th>\n",
              "      <td>NaN</td>\n",
              "      <td>NaN</td>\n",
              "      <td>NaN</td>\n",
              "      <td>NaN</td>\n",
              "      <td>NaN</td>\n",
              "      <td>NaN</td>\n",
              "      <td>NaN</td>\n",
              "      <td>NaN</td>\n",
              "      <td>NaN</td>\n",
              "      <td>NaN</td>\n",
              "      <td>NaN</td>\n",
              "      <td>NaN</td>\n",
              "      <td>NaN</td>\n",
              "      <td>-0.048086</td>\n",
              "      <td>0.181086</td>\n",
              "      <td>0.50935</td>\n",
              "      <td>0.122465</td>\n",
              "      <td>0.108011</td>\n",
              "      <td>-0.057945</td>\n",
              "      <td>0.126893</td>\n",
              "      <td>0.030650</td>\n",
              "      <td>0.000000</td>\n",
              "      <td>-0.190900</td>\n",
              "    </tr>\n",
              "    <tr>\n",
              "      <th>TSLA</th>\n",
              "      <td>NaN</td>\n",
              "      <td>NaN</td>\n",
              "      <td>NaN</td>\n",
              "      <td>NaN</td>\n",
              "      <td>NaN</td>\n",
              "      <td>NaN</td>\n",
              "      <td>NaN</td>\n",
              "      <td>NaN</td>\n",
              "      <td>NaN</td>\n",
              "      <td>NaN</td>\n",
              "      <td>NaN</td>\n",
              "      <td>NaN</td>\n",
              "      <td>NaN</td>\n",
              "      <td>NaN</td>\n",
              "      <td>NaN</td>\n",
              "      <td>NaN</td>\n",
              "      <td>NaN</td>\n",
              "      <td>NaN</td>\n",
              "      <td>0.035886</td>\n",
              "      <td>0.006130</td>\n",
              "      <td>-0.038910</td>\n",
              "      <td>0.127038</td>\n",
              "      <td>0.162975</td>\n",
              "    </tr>\n",
              "  </tbody>\n",
              "</table>\n",
              "</div>"
            ],
            "text/plain": [
              "         compound                        ...                                 \n",
              "date   2021-02-26 2021-02-27 2021-02-28  ... 2021-03-19 2021-03-20 2021-03-21\n",
              "ticker                                   ...                                 \n",
              "AAPL          NaN        NaN        NaN  ...  -0.039889   0.051392  -0.124887\n",
              "AMZN          NaN        NaN        NaN  ...   0.211442  -0.059078   0.134650\n",
              "FB            NaN        NaN        NaN  ...   0.013245   0.471733   0.058480\n",
              "GOOG          NaN        NaN        NaN  ...  -0.098389   0.359100  -0.244182\n",
              "GOOGL         NaN        NaN        NaN  ...  -0.098389   0.359100  -0.210010\n",
              "JNJ           NaN        NaN        NaN  ...   0.152767        NaN   0.237700\n",
              "JPM       0.00645     0.4944        0.0  ...        NaN   0.220200        NaN\n",
              "MSFT          NaN        NaN        NaN  ...   0.030650   0.000000  -0.190900\n",
              "TSLA          NaN        NaN        NaN  ...  -0.038910   0.127038   0.162975\n",
              "\n",
              "[9 rows x 23 columns]"
            ]
          },
          "metadata": {
            "tags": []
          },
          "execution_count": 5
        },
        {
          "output_type": "display_data",
          "data": {
            "text/plain": [
              "<Figure size 720x576 with 0 Axes>"
            ]
          },
          "metadata": {
            "tags": []
          }
        }
      ]
    },
    {
      "cell_type": "code",
      "metadata": {
        "colab": {
          "base_uri": "https://localhost:8080/",
          "height": 593
        },
        "id": "tPci62-3FXqa",
        "outputId": "edb6a478-d24f-46d3-c428-d2b8b1a4e9b4"
      },
      "source": [
        "mean_df = mean_df.xs('compound', axis=\"columns\").transpose()\n",
        "mean_df.plot(kind='bar', figsize=(20, 12))\n",
        "plt.show()"
      ],
      "execution_count": 6,
      "outputs": [
        {
          "output_type": "display_data",
          "data": {
            "image/png": "[encoded data removed]",
            "text/plain": [
              "<Figure size 1440x864 with 1 Axes>"
            ]
          },
          "metadata": {
            "tags": [],
            "needs_background": "light"
          }
        }
      ]
    },
    {
      "cell_type": "code",
      "metadata": {
        "colab": {
          "base_uri": "https://localhost:8080/"
        },
        "id": "ftGoE2u_jtCV",
        "outputId": "c3736d69-dfa3-4f78-d462-106e827c64fd"
      },
      "source": [
        "df['comp_class'] = [1 if x > 0 else 0 for x in df['compound']] \n",
        "df['comp_class']"
      ],
      "execution_count": 7,
      "outputs": [
        {
          "output_type": "execute_result",
          "data": {
            "text/plain": [
              "0      0\n",
              "1      1\n",
              "2      0\n",
              "3      0\n",
              "4      0\n",
              "      ..\n",
              "895    1\n",
              "896    0\n",
              "897    0\n",
              "898    1\n",
              "899    0\n",
              "Name: comp_class, Length: 900, dtype: int64"
            ]
          },
          "metadata": {
            "tags": []
          },
          "execution_count": 7
        }
      ]
    },
    {
      "cell_type": "code",
      "metadata": {
        "id": "b9vtbitJFXqf"
      },
      "source": [
        "# Create the features set (X) and the target vector (y)\n",
        "X = df['title'].values\n",
        "y = df['comp_class'].values"
      ],
      "execution_count": 8,
      "outputs": []
    },
    {
      "cell_type": "code",
      "metadata": {
        "id": "-ckc24W9FXqf"
      },
      "source": [
        "# Create the train, test, and validation sets\n",
        "from sklearn.model_selection import train_test_split\n",
        "\n",
        "X_train, X_test, y_train, y_test = train_test_split(X, y)\n",
        "\n",
        "X_train, X_val, y_train, y_val = train_test_split(X_train, y_train)"
      ],
      "execution_count": 9,
      "outputs": []
    },
    {
      "cell_type": "code",
      "metadata": {
        "id": "b18tS1a8FXqi"
      },
      "source": [
        "# Import the libraries for sentiment scoring using Vader\n",
        "import nltk\n",
        "from nltk.sentiment.vader import SentimentIntensityAnalyzer"
      ],
      "execution_count": 10,
      "outputs": []
    },
    {
      "cell_type": "code",
      "metadata": {
        "colab": {
          "base_uri": "https://localhost:8080/"
        },
        "id": "SoGp7ODCFXqi",
        "outputId": "13fcae1d-49bf-4471-90f4-8c7d8f54a111"
      },
      "source": [
        "# Download/Update the VADER Lexicon\n",
        "nltk.download('vader_lexicon')"
      ],
      "execution_count": 11,
      "outputs": [
        {
          "output_type": "stream",
          "text": [
            "[nltk_data] Downloading package vader_lexicon to /root/nltk_data...\n",
            "[nltk_data]   Package vader_lexicon is already up-to-date!\n"
          ],
          "name": "stdout"
        },
        {
          "output_type": "execute_result",
          "data": {
            "text/plain": [
              "True"
            ]
          },
          "metadata": {
            "tags": []
          },
          "execution_count": 11
        }
      ]
    },
    {
      "cell_type": "code",
      "metadata": {
        "id": "N4IRgLTWFXqi"
      },
      "source": [
        "# Initialize the VADER sentiment analyzer\n",
        "analyzer = SentimentIntensityAnalyzer()"
      ],
      "execution_count": 12,
      "outputs": []
    },
    {
      "cell_type": "code",
      "metadata": {
        "id": "zW3FaTSjFXqj"
      },
      "source": [
        "# Define two lists to store vader sentiment scoring\n",
        "y_vader_pred = []\n",
        "y_vader_prob = []"
      ],
      "execution_count": 13,
      "outputs": []
    },
    {
      "cell_type": "code",
      "metadata": {
        "id": "UQ4wGG5LFXqj"
      },
      "source": [
        "# Score sentiment of test set using Vader\n",
        "for comment in X_test:\n",
        "    y_vader_prob.append(analyzer.polarity_scores(comment)[\"pos\"])\n",
        "    sentiment_score = analyzer.polarity_scores(comment)[\"compound\"]\n",
        "    if sentiment_score >= 0.1:\n",
        "        y_vader_pred.append(1)\n",
        "    else:\n",
        "        y_vader_pred.append(0)"
      ],
      "execution_count": 14,
      "outputs": []
    },
    {
      "cell_type": "code",
      "metadata": {
        "colab": {
          "base_uri": "https://localhost:8080/"
        },
        "id": "G5LVQni8FXqk",
        "outputId": "930330dd-282b-4dab-efb7-5fff559f9406"
      },
      "source": [
        "# Option 1: Normalizing data using MinMaxScaler from sklearn\n",
        "from sklearn.preprocessing import MinMaxScaler\n",
        "\n",
        "scaler = MinMaxScaler()\n",
        "scaler.fit(np.array(y_vader_prob).reshape(-1,1))\n",
        "y_vader_prob_norm = scaler.transform(np.array(y_vader_prob).reshape(-1,1))\n",
        "y_vader_prob_norm[:200]"
      ],
      "execution_count": 15,
      "outputs": [
        {
          "output_type": "execute_result",
          "data": {
            "text/plain": [
              "array([[0.70398482],\n",
              "       [0.        ],\n",
              "       [0.        ],\n",
              "       [0.        ],\n",
              "       [0.69829222],\n",
              "       [0.39089184],\n",
              "       [0.        ],\n",
              "       [0.        ],\n",
              "       [0.        ],\n",
              "       [0.        ],\n",
              "       [0.43833017],\n",
              "       [0.33206831],\n",
              "       [0.        ],\n",
              "       [0.        ],\n",
              "       [0.18595825],\n",
              "       [0.        ],\n",
              "       [0.        ],\n",
              "       [0.61480076],\n",
              "       [0.        ],\n",
              "       [0.        ],\n",
              "       [0.35863378],\n",
              "       [0.41745731],\n",
              "       [0.29981025],\n",
              "       [0.        ],\n",
              "       [0.        ],\n",
              "       [0.        ],\n",
              "       [0.31119545],\n",
              "       [0.42694497],\n",
              "       [0.77419355],\n",
              "       [0.        ],\n",
              "       [0.64895636],\n",
              "       [0.41745731],\n",
              "       [0.29032258],\n",
              "       [0.20303605],\n",
              "       [0.        ],\n",
              "       [0.        ],\n",
              "       [0.        ],\n",
              "       [0.        ],\n",
              "       [0.        ],\n",
              "       [0.        ],\n",
              "       [0.4971537 ],\n",
              "       [0.38519924],\n",
              "       [0.        ],\n",
              "       [0.        ],\n",
              "       [0.        ],\n",
              "       [0.19165085],\n",
              "       [0.48387097],\n",
              "       [0.68311195],\n",
              "       [0.        ],\n",
              "       [0.52751423],\n",
              "       [0.75521822],\n",
              "       [0.        ],\n",
              "       [0.        ],\n",
              "       [0.        ],\n",
              "       [0.        ],\n",
              "       [0.        ],\n",
              "       [0.        ],\n",
              "       [0.        ],\n",
              "       [0.        ],\n",
              "       [0.43833017],\n",
              "       [0.        ],\n",
              "       [0.        ],\n",
              "       [0.        ],\n",
              "       [0.        ],\n",
              "       [0.        ],\n",
              "       [0.83301708],\n",
              "       [0.        ],\n",
              "       [0.        ],\n",
              "       [0.        ],\n",
              "       [0.21062619],\n",
              "       [0.        ],\n",
              "       [0.        ],\n",
              "       [0.        ],\n",
              "       [0.4857685 ],\n",
              "       [0.38709677],\n",
              "       [0.59392789],\n",
              "       [0.41745731],\n",
              "       [0.        ],\n",
              "       [0.        ],\n",
              "       [0.68311195],\n",
              "       [0.        ],\n",
              "       [0.61859583],\n",
              "       [0.34914611],\n",
              "       [0.43833017],\n",
              "       [0.        ],\n",
              "       [0.        ],\n",
              "       [0.        ],\n",
              "       [0.        ],\n",
              "       [0.        ],\n",
              "       [0.        ],\n",
              "       [0.        ],\n",
              "       [0.4345351 ],\n",
              "       [0.        ],\n",
              "       [0.17267552],\n",
              "       [0.        ],\n",
              "       [0.        ],\n",
              "       [0.43833017],\n",
              "       [0.        ],\n",
              "       [0.14041746],\n",
              "       [1.        ],\n",
              "       [0.        ],\n",
              "       [0.59962049],\n",
              "       [0.        ],\n",
              "       [0.        ],\n",
              "       [0.        ],\n",
              "       [0.41935484],\n",
              "       [0.        ],\n",
              "       [0.        ],\n",
              "       [0.        ],\n",
              "       [0.        ],\n",
              "       [0.44971537],\n",
              "       [0.        ],\n",
              "       [0.25426945],\n",
              "       [0.        ],\n",
              "       [0.33206831],\n",
              "       [0.23529412],\n",
              "       [0.        ],\n",
              "       [0.        ],\n",
              "       [0.38709677],\n",
              "       [0.25426945],\n",
              "       [0.        ],\n",
              "       [0.33776091],\n",
              "       [0.        ],\n",
              "       [0.        ],\n",
              "       [0.36812144],\n",
              "       [0.        ],\n",
              "       [0.        ],\n",
              "       [0.        ],\n",
              "       [0.        ],\n",
              "       [0.        ],\n",
              "       [0.38899431],\n",
              "       [0.26755218],\n",
              "       [0.69639469],\n",
              "       [0.        ],\n",
              "       [0.88425047],\n",
              "       [0.22011385],\n",
              "       [0.        ],\n",
              "       [0.51612903],\n",
              "       [0.42694497],\n",
              "       [0.67931689],\n",
              "       [0.22201139],\n",
              "       [0.        ],\n",
              "       [0.        ],\n",
              "       [0.        ],\n",
              "       [0.        ],\n",
              "       [0.        ],\n",
              "       [0.28842505],\n",
              "       [0.        ],\n",
              "       [0.        ],\n",
              "       [0.        ],\n",
              "       [0.        ],\n",
              "       [0.36812144],\n",
              "       [0.        ],\n",
              "       [0.4288425 ],\n",
              "       [0.20113852],\n",
              "       [0.        ],\n",
              "       [0.81404175],\n",
              "       [0.        ],\n",
              "       [0.46489564],\n",
              "       [0.        ],\n",
              "       [0.44971537],\n",
              "       [0.        ],\n",
              "       [0.        ],\n",
              "       [0.33206831],\n",
              "       [0.41555977],\n",
              "       [0.40417457],\n",
              "       [0.42314991],\n",
              "       [0.87096774],\n",
              "       [0.        ],\n",
              "       [0.        ],\n",
              "       [0.46679317],\n",
              "       [0.22960152],\n",
              "       [0.47058824],\n",
              "       [0.        ],\n",
              "       [0.41745731],\n",
              "       [0.        ],\n",
              "       [0.        ],\n",
              "       [0.        ],\n",
              "       [0.        ],\n",
              "       [0.50474383],\n",
              "       [0.        ],\n",
              "       [0.66603416],\n",
              "       [0.        ],\n",
              "       [0.        ],\n",
              "       [0.        ],\n",
              "       [0.34155598],\n",
              "       [0.21252372],\n",
              "       [0.87666034],\n",
              "       [0.        ],\n",
              "       [0.        ],\n",
              "       [0.        ],\n",
              "       [0.61859583],\n",
              "       [0.        ],\n",
              "       [0.        ],\n",
              "       [0.        ],\n",
              "       [0.        ],\n",
              "       [0.        ],\n",
              "       [0.        ],\n",
              "       [0.        ],\n",
              "       [0.        ]])"
            ]
          },
          "metadata": {
            "tags": []
          },
          "execution_count": 15
        }
      ]
    },
    {
      "cell_type": "code",
      "metadata": {
        "colab": {
          "base_uri": "https://localhost:8080/"
        },
        "id": "_qOhxKzVFXqk",
        "outputId": "daaf63bd-e120-443f-b459-a762cc6f6275"
      },
      "source": [
        "# Option 2: Using a comprehension list\n",
        "normalized = [(x - min(y_vader_prob)) / (max(y_vader_prob) - min(y_vader_prob))\n",
        "              for x in y_vader_prob]\n",
        "normalized[:5]"
      ],
      "execution_count": 16,
      "outputs": [
        {
          "output_type": "execute_result",
          "data": {
            "text/plain": [
              "[0.7039848197343453, 0.0, 0.0, 0.0, 0.698292220113852]"
            ]
          },
          "metadata": {
            "tags": []
          },
          "execution_count": 16
        }
      ]
    },
    {
      "cell_type": "code",
      "metadata": {
        "id": "W2pLglN5FXql"
      },
      "source": [
        "# Import the Tokenizer method from Keras\n",
        "from tensorflow.keras.preprocessing.text import Tokenizer"
      ],
      "execution_count": 17,
      "outputs": []
    },
    {
      "cell_type": "code",
      "metadata": {
        "id": "bO4srpPVFXqm"
      },
      "source": [
        "# Create an instance of the Tokenizer and fit it with the X text data\n",
        "tokenizer = Tokenizer(lower=True)\n",
        "tokenizer.fit_on_texts(X)"
      ],
      "execution_count": 18,
      "outputs": []
    },
    {
      "cell_type": "code",
      "metadata": {
        "colab": {
          "base_uri": "https://localhost:8080/"
        },
        "id": "kNrLhWCDFXqm",
        "outputId": "b866350b-407f-4fe7-bce4-384d8edf67a6"
      },
      "source": [
        "# Print the first five elements of the encoded vocabulary\n",
        "for token in list(tokenizer.word_index)[:5]:\n",
        "    print(f\"word: '{token}', token: {tokenizer.word_index[token]}\")"
      ],
      "execution_count": 19,
      "outputs": [
        {
          "output_type": "stream",
          "text": [
            "word: 'to', token: 1\n",
            "word: 'in', token: 2\n",
            "word: 'the', token: 3\n",
            "word: 'for', token: 4\n",
            "word: 'a', token: 5\n"
          ],
          "name": "stdout"
        }
      ]
    },
    {
      "cell_type": "code",
      "metadata": {
        "id": "isQd2DePFXqm"
      },
      "source": [
        "# Transform the text data to numerical sequences\n",
        "X_seq = tokenizer.texts_to_sequences(X)"
      ],
      "execution_count": 20,
      "outputs": []
    },
    {
      "cell_type": "code",
      "metadata": {
        "colab": {
          "base_uri": "https://localhost:8080/"
        },
        "id": "Hw8IzYw1FXqm",
        "outputId": "3eebaebb-12b4-46a9-b78e-e7a60b0b89d1"
      },
      "source": [
        "# Contrast a sample numerical sequence with its text version\n",
        "print(\"**Text comment**\")\n",
        "print({X[0]})"
      ],
      "execution_count": 21,
      "outputs": [
        {
          "output_type": "stream",
          "text": [
            "**Text comment**\n",
            "{'Dow Jones Futures Fall In Uncertain Market Rally; ARK Sets $3,000 Tesla Price Target'}\n"
          ],
          "name": "stdout"
        }
      ]
    },
    {
      "cell_type": "code",
      "metadata": {
        "colab": {
          "base_uri": "https://localhost:8080/"
        },
        "id": "DP0wZvcdFXqn",
        "outputId": "ba0392ba-8d23-4db7-c20a-1312a2bb0134"
      },
      "source": [
        "print(\"**Numerical sequence representation**\")\n",
        "print(X_seq[0])"
      ],
      "execution_count": 22,
      "outputs": [
        {
          "output_type": "stream",
          "text": [
            "**Numerical sequence representation**\n",
            "[19, 28, 47, 285, 2, 441, 18, 103, 286, 287, 26, 65, 16, 181, 131]\n"
          ],
          "name": "stdout"
        }
      ]
    },
    {
      "cell_type": "code",
      "metadata": {
        "id": "nNTAGAi-FXqp"
      },
      "source": [
        "# Import the pad_sequences method from Keras\n",
        "from tensorflow.keras.preprocessing.sequence import pad_sequences"
      ],
      "execution_count": 23,
      "outputs": []
    },
    {
      "cell_type": "code",
      "metadata": {
        "id": "hjC9l3FcFXqp"
      },
      "source": [
        "# Set the pad size\n",
        "max_words = 140\n",
        "\n",
        "# Pad the sequences using the pad_sequences() method\n",
        "X_pad = pad_sequences(X_seq, maxlen=max_words, padding=\"post\")"
      ],
      "execution_count": 24,
      "outputs": []
    },
    {
      "cell_type": "code",
      "metadata": {
        "id": "LgH_bOeKFXqp"
      },
      "source": [
        "# Creating training, validation, and testing sets using the encoded data\n",
        "X_train_rnn, X_test_rnn, y_train_rnn, y_test_rnn = train_test_split(X_pad, y)\n",
        "\n",
        "X_train_rnn, X_val_rnn, y_train_rnn, y_val_rnn = train_test_split(X_train_rnn, y_train_rnn)"
      ],
      "execution_count": 25,
      "outputs": []
    },
    {
      "cell_type": "code",
      "metadata": {
        "id": "3Y1j6It3FXqq"
      },
      "source": [
        "# Import Keras modules for model creation\n",
        "from tensorflow.keras.models import Sequential\n",
        "from tensorflow.keras.layers import Embedding, LSTM, Dense"
      ],
      "execution_count": 26,
      "outputs": []
    },
    {
      "cell_type": "code",
      "metadata": {
        "id": "-BRJP1XFFXqq"
      },
      "source": [
        "# Model set-up\n",
        "vocabulary_size = len(tokenizer.word_counts.keys()) + 1\n",
        "embedding_size = 64"
      ],
      "execution_count": 27,
      "outputs": []
    },
    {
      "cell_type": "code",
      "metadata": {
        "id": "QsFODpyFM68q"
      },
      "source": [
        "# Define the LSTM RNN model\n",
        "model = Sequential()\n",
        "\n",
        "# Layer 1\n",
        "model.add(Embedding(vocabulary_size, embedding_size, input_length=max_words))\n",
        "\n",
        "# Layer 2\n",
        "model.add(LSTM(units=280))\n",
        "\n",
        "# Output layer\n",
        "model.add(Dense(units=1, activation=\"sigmoid\"))"
      ],
      "execution_count": 28,
      "outputs": []
    },
    {
      "cell_type": "code",
      "metadata": {
        "id": "2C0Cf5JHM-KA"
      },
      "source": [
        "# Compile the model\n",
        "model.compile(\n",
        "    loss=\"binary_crossentropy\",\n",
        "    optimizer=\"adam\",\n",
        "    metrics=[\n",
        "        \"accuracy\",\n",
        "        tf.keras.metrics.TruePositives(name=\"tp\"),\n",
        "        tf.keras.metrics.TrueNegatives(name=\"tn\"),\n",
        "        tf.keras.metrics.FalsePositives(name=\"fp\"),\n",
        "        tf.keras.metrics.FalseNegatives(name=\"fn\"),\n",
        "        tf.keras.metrics.Precision(name=\"precision\"),\n",
        "        tf.keras.metrics.Recall(name=\"recall\"),\n",
        "        tf.keras.metrics.AUC(name=\"auc\"),\n",
        "    ],\n",
        ")"
      ],
      "execution_count": 29,
      "outputs": []
    },
    {
      "cell_type": "code",
      "metadata": {
        "colab": {
          "base_uri": "https://localhost:8080/"
        },
        "id": "nnCIWbyUM-YA",
        "outputId": "1fc5e5d4-59e2-4bb7-b44f-648dc20de053"
      },
      "source": [
        "# Show model summary\n",
        "model.summary()"
      ],
      "execution_count": 30,
      "outputs": [
        {
          "output_type": "stream",
          "text": [
            "Model: \"sequential\"\n",
            "_________________________________________________________________\n",
            "Layer (type)                 Output Shape              Param #   \n",
            "=================================================================\n",
            "embedding (Embedding)        (None, 140, 64)           148224    \n",
            "_________________________________________________________________\n",
            "lstm (LSTM)                  (None, 280)               386400    \n",
            "_________________________________________________________________\n",
            "dense (Dense)                (None, 1)                 281       \n",
            "=================================================================\n",
            "Total params: 534,905\n",
            "Trainable params: 534,905\n",
            "Non-trainable params: 0\n",
            "_________________________________________________________________\n"
          ],
          "name": "stdout"
        }
      ]
    },
    {
      "cell_type": "code",
      "metadata": {
        "colab": {
          "base_uri": "https://localhost:8080/"
        },
        "id": "GmKGHzYaM-j_",
        "outputId": "90184a6a-1626-44c5-acf2-ac3d884fe85f"
      },
      "source": [
        "# Training the model\n",
        "batch_size = 1000\n",
        "epochs = 10\n",
        "model.fit(\n",
        "    X_train_rnn,\n",
        "    y_train_rnn,\n",
        "    validation_data=(X_val_rnn, y_val_rnn),\n",
        "    epochs=epochs,\n",
        "    batch_size=batch_size,\n",
        "    verbose=1,\n",
        ")"
      ],
      "execution_count": 31,
      "outputs": [
        {
          "output_type": "stream",
          "text": [
            "Epoch 1/10\n",
            "1/1 [==============================] - 10s 10s/step - loss: 0.6923 - accuracy: 0.6186 - tp: 0.0000e+00 - tn: 313.0000 - fp: 0.0000e+00 - fn: 193.0000 - precision: 0.0000e+00 - recall: 0.0000e+00 - auc: 0.5000 - val_loss: 0.6789 - val_accuracy: 0.6568 - val_tp: 0.0000e+00 - val_tn: 111.0000 - val_fp: 0.0000e+00 - val_fn: 58.0000 - val_precision: 0.0000e+00 - val_recall: 0.0000e+00 - val_auc: 0.5000\n",
            "Epoch 2/10\n",
            "1/1 [==============================] - 5s 5s/step - loss: 0.6827 - accuracy: 0.6186 - tp: 0.0000e+00 - tn: 313.0000 - fp: 0.0000e+00 - fn: 193.0000 - precision: 0.0000e+00 - recall: 0.0000e+00 - auc: 0.5000 - val_loss: 0.6656 - val_accuracy: 0.6568 - val_tp: 0.0000e+00 - val_tn: 111.0000 - val_fp: 0.0000e+00 - val_fn: 58.0000 - val_precision: 0.0000e+00 - val_recall: 0.0000e+00 - val_auc: 0.5000\n",
            "Epoch 3/10\n",
            "1/1 [==============================] - 5s 5s/step - loss: 0.6736 - accuracy: 0.6186 - tp: 0.0000e+00 - tn: 313.0000 - fp: 0.0000e+00 - fn: 193.0000 - precision: 0.0000e+00 - recall: 0.0000e+00 - auc: 0.5000 - val_loss: 0.6505 - val_accuracy: 0.6568 - val_tp: 0.0000e+00 - val_tn: 111.0000 - val_fp: 0.0000e+00 - val_fn: 58.0000 - val_precision: 0.0000e+00 - val_recall: 0.0000e+00 - val_auc: 0.5000\n",
            "Epoch 4/10\n",
            "1/1 [==============================] - 5s 5s/step - loss: 0.6657 - accuracy: 0.6186 - tp: 0.0000e+00 - tn: 313.0000 - fp: 0.0000e+00 - fn: 193.0000 - precision: 0.0000e+00 - recall: 0.0000e+00 - auc: 0.5000 - val_loss: 0.6467 - val_accuracy: 0.6568 - val_tp: 0.0000e+00 - val_tn: 111.0000 - val_fp: 0.0000e+00 - val_fn: 58.0000 - val_precision: 0.0000e+00 - val_recall: 0.0000e+00 - val_auc: 0.5000\n",
            "Epoch 5/10\n",
            "1/1 [==============================] - 4s 4s/step - loss: 0.6785 - accuracy: 0.6186 - tp: 0.0000e+00 - tn: 313.0000 - fp: 0.0000e+00 - fn: 193.0000 - precision: 0.0000e+00 - recall: 0.0000e+00 - auc: 0.5000 - val_loss: 0.6438 - val_accuracy: 0.6568 - val_tp: 0.0000e+00 - val_tn: 111.0000 - val_fp: 0.0000e+00 - val_fn: 58.0000 - val_precision: 0.0000e+00 - val_recall: 0.0000e+00 - val_auc: 0.5000\n",
            "Epoch 6/10\n",
            "1/1 [==============================] - 5s 5s/step - loss: 0.6657 - accuracy: 0.6186 - tp: 0.0000e+00 - tn: 313.0000 - fp: 0.0000e+00 - fn: 193.0000 - precision: 0.0000e+00 - recall: 0.0000e+00 - auc: 0.5000 - val_loss: 0.6483 - val_accuracy: 0.6568 - val_tp: 0.0000e+00 - val_tn: 111.0000 - val_fp: 0.0000e+00 - val_fn: 58.0000 - val_precision: 0.0000e+00 - val_recall: 0.0000e+00 - val_auc: 0.5000\n",
            "Epoch 7/10\n",
            "1/1 [==============================] - 4s 4s/step - loss: 0.6650 - accuracy: 0.6186 - tp: 0.0000e+00 - tn: 313.0000 - fp: 0.0000e+00 - fn: 193.0000 - precision: 0.0000e+00 - recall: 0.0000e+00 - auc: 0.5000 - val_loss: 0.6522 - val_accuracy: 0.6568 - val_tp: 0.0000e+00 - val_tn: 111.0000 - val_fp: 0.0000e+00 - val_fn: 58.0000 - val_precision: 0.0000e+00 - val_recall: 0.0000e+00 - val_auc: 0.5000\n",
            "Epoch 8/10\n",
            "1/1 [==============================] - 4s 4s/step - loss: 0.6663 - accuracy: 0.6186 - tp: 0.0000e+00 - tn: 313.0000 - fp: 0.0000e+00 - fn: 193.0000 - precision: 0.0000e+00 - recall: 0.0000e+00 - auc: 0.5000 - val_loss: 0.6544 - val_accuracy: 0.6568 - val_tp: 0.0000e+00 - val_tn: 111.0000 - val_fp: 0.0000e+00 - val_fn: 58.0000 - val_precision: 0.0000e+00 - val_recall: 0.0000e+00 - val_auc: 0.5000\n",
            "Epoch 9/10\n",
            "1/1 [==============================] - 5s 5s/step - loss: 0.6673 - accuracy: 0.6186 - tp: 0.0000e+00 - tn: 313.0000 - fp: 0.0000e+00 - fn: 193.0000 - precision: 0.0000e+00 - recall: 0.0000e+00 - auc: 0.5000 - val_loss: 0.6552 - val_accuracy: 0.6568 - val_tp: 0.0000e+00 - val_tn: 111.0000 - val_fp: 0.0000e+00 - val_fn: 58.0000 - val_precision: 0.0000e+00 - val_recall: 0.0000e+00 - val_auc: 0.5000\n",
            "Epoch 10/10\n",
            "1/1 [==============================] - 5s 5s/step - loss: 0.6677 - accuracy: 0.6186 - tp: 0.0000e+00 - tn: 313.0000 - fp: 0.0000e+00 - fn: 193.0000 - precision: 0.0000e+00 - recall: 0.0000e+00 - auc: 0.5000 - val_loss: 0.6549 - val_accuracy: 0.6568 - val_tp: 0.0000e+00 - val_tn: 111.0000 - val_fp: 0.0000e+00 - val_fn: 58.0000 - val_precision: 0.0000e+00 - val_recall: 0.0000e+00 - val_auc: 0.5000\n"
          ],
          "name": "stdout"
        },
        {
          "output_type": "execute_result",
          "data": {
            "text/plain": [
              "<tensorflow.python.keras.callbacks.History at 0x7f34cc6dac10>"
            ]
          },
          "metadata": {
            "tags": []
          },
          "execution_count": 31
        }
      ]
    },
    {
      "cell_type": "code",
      "metadata": {
        "id": "iBHlJKaqM-tY"
      },
      "source": [
        "# Predict classes using the testing data\n",
        "y_rnn_pred = model.predict_classes(X_test_rnn, batch_size=1000)"
      ],
      "execution_count": 32,
      "outputs": []
    },
    {
      "cell_type": "code",
      "metadata": {
        "colab": {
          "base_uri": "https://localhost:8080/"
        },
        "id": "ZQaxGc29M-1s",
        "outputId": "fb4eef67-18ea-4d2e-bfa8-11007b458e82"
      },
      "source": [
        "# Accuracy\n",
        "from sklearn.metrics import accuracy_score\n",
        "\n",
        "\n",
        "\n",
        "print(\"Vader Accuracy: %.2f\" % (accuracy_score(y_test, y_vader_pred)))\n",
        "print(\"RNN LSTM Accuracy %.2f\" % (accuracy_score(y_test_rnn, y_rnn_pred)))"
      ],
      "execution_count": 33,
      "outputs": [
        {
          "output_type": "stream",
          "text": [
            "Vader Accuracy: 0.99\n",
            "RNN LSTM Accuracy 0.60\n"
          ],
          "name": "stdout"
        }
      ]
    },
    {
      "cell_type": "code",
      "metadata": {
        "id": "eJWtiydHM-5k"
      },
      "source": [
        "# Import the confusion_matrix method from sklearn\n",
        "from sklearn.metrics import confusion_matrix"
      ],
      "execution_count": 34,
      "outputs": []
    },
    {
      "cell_type": "code",
      "metadata": {
        "colab": {
          "base_uri": "https://localhost:8080/",
          "height": 162
        },
        "id": "ihRyWzPDM-9Z",
        "outputId": "f9c695b5-215c-47dd-8dd6-666e097b0741"
      },
      "source": [
        "# Confusion matrtix metrics from Vader\n",
        "tn_vader, fp_vader, fn_vader, tp_vader = confusion_matrix(y_test, y_vader_pred).ravel()\n",
        "\n",
        "# Dataframe to display confusion matrix from Vader\n",
        "cm_vader_df = pd.DataFrame(\n",
        "    {\n",
        "        \"Positive(1)\": [f\"TP={tp_vader}\", f\"FP={fp_vader}\"],\n",
        "        \"Negative(0)\": [f\"FN={fn_vader}\", f\"TN={tn_vader}\"],\n",
        "    },\n",
        "    index=[\"Positive(1)\", \"Negative(0)\"],\n",
        ")\n",
        "cm_vader_df.index.name = \"Actual\"\n",
        "cm_vader_df.columns.name = \"Predicted\"\n",
        "print(\"Confusion Matrix from Vader\")\n",
        "display(cm_vader_df)"
      ],
      "execution_count": 35,
      "outputs": [
        {
          "output_type": "stream",
          "text": [
            "Confusion Matrix from Vader\n"
          ],
          "name": "stdout"
        },
        {
          "output_type": "display_data",
          "data": {
            "text/html": [
              "<div>\n",
              "<style scoped>\n",
              "    .dataframe tbody tr th:only-of-type {\n",
              "        vertical-align: middle;\n",
              "    }\n",
              "\n",
              "    .dataframe tbody tr th {\n",
              "        vertical-align: top;\n",
              "    }\n",
              "\n",
              "    .dataframe thead th {\n",
              "        text-align: right;\n",
              "    }\n",
              "</style>\n",
              "<table border=\"1\" class=\"dataframe\">\n",
              "  <thead>\n",
              "    <tr style=\"text-align: right;\">\n",
              "      <th>Predicted</th>\n",
              "      <th>Positive(1)</th>\n",
              "      <th>Negative(0)</th>\n",
              "    </tr>\n",
              "    <tr>\n",
              "      <th>Actual</th>\n",
              "      <th></th>\n",
              "      <th></th>\n",
              "    </tr>\n",
              "  </thead>\n",
              "  <tbody>\n",
              "    <tr>\n",
              "      <th>Positive(1)</th>\n",
              "      <td>TP=78</td>\n",
              "      <td>FN=3</td>\n",
              "    </tr>\n",
              "    <tr>\n",
              "      <th>Negative(0)</th>\n",
              "      <td>FP=0</td>\n",
              "      <td>TN=144</td>\n",
              "    </tr>\n",
              "  </tbody>\n",
              "</table>\n",
              "</div>"
            ],
            "text/plain": [
              "Predicted   Positive(1) Negative(0)\n",
              "Actual                             \n",
              "Positive(1)       TP=78        FN=3\n",
              "Negative(0)        FP=0      TN=144"
            ]
          },
          "metadata": {
            "tags": []
          }
        }
      ]
    },
    {
      "cell_type": "code",
      "metadata": {
        "colab": {
          "base_uri": "https://localhost:8080/",
          "height": 162
        },
        "id": "wJVJ_S3mM_BT",
        "outputId": "98a3368f-c0ed-46ea-d3ea-621390fe2ab4"
      },
      "source": [
        "# Confusion matrtix metrics from the RNN LSTM model\n",
        "tn_rnn, fp_rnn, fn_rnn, tp_rnn = confusion_matrix(y_test_rnn, y_rnn_pred).ravel()\n",
        "\n",
        "# Dataframe to display confusion matrix from the RNN LSTM model\n",
        "cm_rnn_df = pd.DataFrame(\n",
        "    {\n",
        "        \"Positive(1)\": [f\"TP={tp_rnn}\", f\"FP={fp_rnn}\"],\n",
        "        \"Negative(0)\": [f\"FN={fn_rnn}\", f\"TN={tn_rnn}\"],\n",
        "    },\n",
        "    index=[\"Positive(1)\", \"Negative(0)\"],\n",
        ")\n",
        "cm_rnn_df.index.name = \"Actual\"\n",
        "cm_rnn_df.columns.name = \"Predicted\"\n",
        "print(\"Confusion Matrix from the RNN LSTM Model\")\n",
        "display(cm_rnn_df)"
      ],
      "execution_count": 36,
      "outputs": [
        {
          "output_type": "stream",
          "text": [
            "Confusion Matrix from the RNN LSTM Model\n"
          ],
          "name": "stdout"
        },
        {
          "output_type": "display_data",
          "data": {
            "text/html": [
              "<div>\n",
              "<style scoped>\n",
              "    .dataframe tbody tr th:only-of-type {\n",
              "        vertical-align: middle;\n",
              "    }\n",
              "\n",
              "    .dataframe tbody tr th {\n",
              "        vertical-align: top;\n",
              "    }\n",
              "\n",
              "    .dataframe thead th {\n",
              "        text-align: right;\n",
              "    }\n",
              "</style>\n",
              "<table border=\"1\" class=\"dataframe\">\n",
              "  <thead>\n",
              "    <tr style=\"text-align: right;\">\n",
              "      <th>Predicted</th>\n",
              "      <th>Positive(1)</th>\n",
              "      <th>Negative(0)</th>\n",
              "    </tr>\n",
              "    <tr>\n",
              "      <th>Actual</th>\n",
              "      <th></th>\n",
              "      <th></th>\n",
              "    </tr>\n",
              "  </thead>\n",
              "  <tbody>\n",
              "    <tr>\n",
              "      <th>Positive(1)</th>\n",
              "      <td>TP=0</td>\n",
              "      <td>FN=90</td>\n",
              "    </tr>\n",
              "    <tr>\n",
              "      <th>Negative(0)</th>\n",
              "      <td>FP=0</td>\n",
              "      <td>TN=135</td>\n",
              "    </tr>\n",
              "  </tbody>\n",
              "</table>\n",
              "</div>"
            ],
            "text/plain": [
              "Predicted   Positive(1) Negative(0)\n",
              "Actual                             \n",
              "Positive(1)        TP=0       FN=90\n",
              "Negative(0)        FP=0      TN=135"
            ]
          },
          "metadata": {
            "tags": []
          }
        }
      ]
    },
    {
      "cell_type": "code",
      "metadata": {
        "id": "-WvXvOJ-M_Eh"
      },
      "source": [
        "# Import the classification_report method from sklearn\n",
        "from sklearn.metrics import classification_report"
      ],
      "execution_count": 37,
      "outputs": []
    },
    {
      "cell_type": "code",
      "metadata": {
        "colab": {
          "base_uri": "https://localhost:8080/"
        },
        "id": "LHM33998M_H5",
        "outputId": "d7407d83-12fe-48ae-c71d-4fc395bf1b58"
      },
      "source": [
        "# Display classification report for Vader\n",
        "print(\"Classification Report for Vader\")\n",
        "print(classification_report(y_vader_pred, y_test))"
      ],
      "execution_count": 38,
      "outputs": [
        {
          "output_type": "stream",
          "text": [
            "Classification Report for Vader\n",
            "              precision    recall  f1-score   support\n",
            "\n",
            "           0       1.00      0.98      0.99       147\n",
            "           1       0.96      1.00      0.98        78\n",
            "\n",
            "    accuracy                           0.99       225\n",
            "   macro avg       0.98      0.99      0.99       225\n",
            "weighted avg       0.99      0.99      0.99       225\n",
            "\n"
          ],
          "name": "stdout"
        }
      ]
    },
    {
      "cell_type": "code",
      "metadata": {
        "colab": {
          "base_uri": "https://localhost:8080/"
        },
        "id": "PNqWda-sM_Kx",
        "outputId": "56d0b9e5-618a-48f7-a37d-356524dd6575"
      },
      "source": [
        "# Display classification report for the RNN LSTM Model\n",
        "print(\"Classification Report for the RNN LSTM Model\")\n",
        "print(classification_report(y_rnn_pred, y_test_rnn))"
      ],
      "execution_count": 39,
      "outputs": [
        {
          "output_type": "stream",
          "text": [
            "Classification Report for the RNN LSTM Model\n",
            "              precision    recall  f1-score   support\n",
            "\n",
            "           0       1.00      0.60      0.75       225\n",
            "           1       0.00      0.00      0.00         0\n",
            "\n",
            "    accuracy                           0.60       225\n",
            "   macro avg       0.50      0.30      0.37       225\n",
            "weighted avg       1.00      0.60      0.75       225\n",
            "\n"
          ],
          "name": "stdout"
        }
      ]
    },
    {
      "cell_type": "code",
      "metadata": {
        "id": "tNCKN6IGM_OD"
      },
      "source": [
        "# Import the roc_curve and auc metrics from sklearn\n",
        "from sklearn.metrics import roc_curve, auc"
      ],
      "execution_count": 40,
      "outputs": []
    },
    {
      "cell_type": "code",
      "metadata": {
        "id": "8-niTM_JM_Rf"
      },
      "source": [
        "# Data for ROC Curve - VADER\n",
        "fpr_test_vader, tpr_test_vader, thresholds_test_vader = roc_curve(y_test, y_vader_prob_norm)"
      ],
      "execution_count": 41,
      "outputs": []
    },
    {
      "cell_type": "code",
      "metadata": {
        "id": "GSJjHAXcM_Ua"
      },
      "source": [
        "# AUC for VADER\n",
        "auc_test_vader = auc(fpr_test_vader, tpr_test_vader)\n",
        "auc_test_vader = round(auc_test_vader, 4)"
      ],
      "execution_count": 42,
      "outputs": []
    },
    {
      "cell_type": "code",
      "metadata": {
        "id": "ityE7MlvM_XY"
      },
      "source": [
        "# Dataframe to plot ROC Curve for VADER\n",
        "roc_df_test_vader = pd.DataFrame({\"FPR Test\": fpr_test_vader, \"TPR Test\": tpr_test_vader,})"
      ],
      "execution_count": 43,
      "outputs": []
    },
    {
      "cell_type": "code",
      "metadata": {
        "colab": {
          "base_uri": "https://localhost:8080/",
          "height": 313
        },
        "id": "eVugRjgjNpcK",
        "outputId": "8f8634a8-3baf-4343-d6b7-a7dbc2e6eacc"
      },
      "source": [
        "roc_df_test_vader.plot(\n",
        "    x=\"FPR Test\",\n",
        "    y=\"TPR Test\",\n",
        "    color=\"red\",\n",
        "    style=\"--\",\n",
        "    xlim=([-0.05, 1.05]),\n",
        "    title=f\"Test ROC Curve - Vader (AUC={auc_test_vader})\",\n",
        ")"
      ],
      "execution_count": 44,
      "outputs": [
        {
          "output_type": "execute_result",
          "data": {
            "text/plain": [
              "<matplotlib.axes._subplots.AxesSubplot at 0x7f34cbe71cd0>"
            ]
          },
          "metadata": {
            "tags": []
          },
          "execution_count": 44
        },
        {
          "output_type": "display_data",
          "data": {
            "image/png": "[encoded data removed]",
            "text/plain": [
              "<Figure size 432x288 with 1 Axes>"
            ]
          },
          "metadata": {
            "tags": [],
            "needs_background": "light"
          }
        }
      ]
    },
    {
      "cell_type": "code",
      "metadata": {
        "id": "sHtQAXXiNpmC"
      },
      "source": [
        "# Making predictions to feed the roc_curve module\n",
        "test_predictions_rnn = model.predict(X_test_rnn, batch_size=1000)"
      ],
      "execution_count": 45,
      "outputs": []
    },
    {
      "cell_type": "code",
      "metadata": {
        "id": "wcjhoHZDNppZ"
      },
      "source": [
        "# Data for ROC Curve - RNN LSTM Model\n",
        "fpr_test_rnn, tpr_test_rnn, thresholds_test_rnn = roc_curve(y_test_rnn, test_predictions_rnn)"
      ],
      "execution_count": 46,
      "outputs": []
    },
    {
      "cell_type": "code",
      "metadata": {
        "id": "dzgsEs4PNpsv"
      },
      "source": [
        "# AUC for the RNN LSTM Model\n",
        "auc_test_rnn = auc(fpr_test_rnn, tpr_test_rnn)\n",
        "auc_test_rnn = round(auc_test_rnn, 4)"
      ],
      "execution_count": 47,
      "outputs": []
    },
    {
      "cell_type": "code",
      "metadata": {
        "id": "YMzFjQY7NpwH"
      },
      "source": [
        "# Dataframe to plot ROC Curve for the RNN LSTM model\n",
        "roc_df_test_rnn = pd.DataFrame({\"FPR Test\": fpr_test_rnn, \"TPR Test\": tpr_test_rnn,})"
      ],
      "execution_count": 48,
      "outputs": []
    },
    {
      "cell_type": "code",
      "metadata": {
        "colab": {
          "base_uri": "https://localhost:8080/",
          "height": 313
        },
        "id": "kvCJusW6NpzE",
        "outputId": "de548e8a-f7fb-4322-b5d9-e0a7d9a39bca"
      },
      "source": [
        "roc_df_test_rnn.plot(\n",
        "    x=\"FPR Test\",\n",
        "    y=\"TPR Test\",\n",
        "    color=\"blue\",\n",
        "    style=\"--\",\n",
        "    xlim=([-0.05, 1.05]),\n",
        "    title=f\"Test ROC Curve (AUC={auc_test_rnn})\",\n",
        ")"
      ],
      "execution_count": 49,
      "outputs": [
        {
          "output_type": "execute_result",
          "data": {
            "text/plain": [
              "<matplotlib.axes._subplots.AxesSubplot at 0x7f34d0959a90>"
            ]
          },
          "metadata": {
            "tags": []
          },
          "execution_count": 49
        },
        {
          "output_type": "display_data",
          "data": {
            "image/png": "[encoded data removed]",
            "text/plain": [
              "<Figure size 432x288 with 1 Axes>"
            ]
          },
          "metadata": {
            "tags": [],
            "needs_background": "light"
          }
        }
      ]
    },
    {
      "cell_type": "code",
      "metadata": {
        "id": "B1qMUEhzN4xC"
      },
      "source": [
        ""
      ],
      "execution_count": 49,
      "outputs": []
    }
  ]
}