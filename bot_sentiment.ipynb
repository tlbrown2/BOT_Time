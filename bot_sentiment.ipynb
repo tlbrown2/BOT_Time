{
 "cells": [
  {
   "cell_type": "markdown",
   "metadata": {
    "id": "TiTKzJAzn2TY"
   },
   "source": []
  },
  {
   "cell_type": "code",
   "execution_count": 1,
   "metadata": {
    "colab": {
     "base_uri": "https://localhost:8080/"
    },
    "id": "hCQo8uh5FXqF",
    "outputId": "fd9b8c9c-4acf-4662-ce52-a384536a6b9a"
   },
   "outputs": [
    {
     "name": "stderr",
     "output_type": "stream",
     "text": [
      "\n",
      "Bad key \"text.kerning_factor\" on line 4 in\n",
      "C:\\Users\\jacob\\anaconda3\\envs\\pyvizenv\\lib\\site-packages\\matplotlib\\mpl-data\\stylelib\\_classic_test_patch.mplstyle.\n",
      "You probably need to get an updated matplotlibrc file from\n",
      "http://github.com/matplotlib/matplotlib/blob/master/matplotlibrc.template\n",
      "or from the matplotlib source distribution\n"
     ]
    }
   ],
   "source": [
    "# Initial imports\n",
    "import pandas as pd\n",
    "import numpy as np\n",
    "from pathlib import Path\n",
    "import tensorflow as tf\n",
    "%matplotlib inline\n",
    "\n",
    "from urllib.request import urlopen, Request\n",
    "from bs4 import BeautifulSoup\n",
    "import pandas as pd\n",
    "import matplotlib.pyplot as plt\n",
    "import nltk\n",
    "from nltk.sentiment.vader import SentimentIntensityAnalyzer\n",
    "\n",
    "import warnings\n",
    "warnings.filterwarnings('ignore')"
   ]
  },
  {
   "cell_type": "code",
   "execution_count": 2,
   "metadata": {
    "id": "BXyqVuIAFXqT"
   },
   "outputs": [],
   "source": [
    "finviz_url = 'https://finviz.com/quote.ashx?t='\n",
    "tickers = ['AAPL','MSFT','AMZN','FB','GOOGL','GOOG','TSLA','JPM','JNJ']\n",
    "\n",
    "news_tables = {}\n",
    "for ticker in tickers:\n",
    "    url = finviz_url + ticker\n",
    "\n",
    "    req = Request(url=url, headers={'user-agent': 'my-app'})\n",
    "    response = urlopen(req)\n",
    "\n",
    "    html = BeautifulSoup(response, features='html.parser')\n",
    "    news_table = html.find(id='news-table')\n",
    "    news_tables[ticker] = news_table"
   ]
  },
  {
   "cell_type": "code",
   "execution_count": 3,
   "metadata": {
    "colab": {
     "base_uri": "https://localhost:8080/",
     "height": 424
    },
    "id": "38R4DqlQFXqV",
    "outputId": "81a5fd31-f3fe-41a3-aca9-ab0f3889f997"
   },
   "outputs": [
    {
     "data": {
      "text/html": [
       "<div>\n",
       "<style scoped>\n",
       "    .dataframe tbody tr th:only-of-type {\n",
       "        vertical-align: middle;\n",
       "    }\n",
       "\n",
       "    .dataframe tbody tr th {\n",
       "        vertical-align: top;\n",
       "    }\n",
       "\n",
       "    .dataframe thead th {\n",
       "        text-align: right;\n",
       "    }\n",
       "</style>\n",
       "<table border=\"1\" class=\"dataframe\">\n",
       "  <thead>\n",
       "    <tr style=\"text-align: right;\">\n",
       "      <th></th>\n",
       "      <th>ticker</th>\n",
       "      <th>date</th>\n",
       "      <th>time</th>\n",
       "      <th>title</th>\n",
       "    </tr>\n",
       "  </thead>\n",
       "  <tbody>\n",
       "    <tr>\n",
       "      <th>0</th>\n",
       "      <td>AAPL</td>\n",
       "      <td>2021-03-23</td>\n",
       "      <td>05:52PM</td>\n",
       "      <td>Intel Spending Billions to Revive Manufacturin...</td>\n",
       "    </tr>\n",
       "    <tr>\n",
       "      <th>1</th>\n",
       "      <td>AAPL</td>\n",
       "      <td>2021-03-23</td>\n",
       "      <td>05:38PM</td>\n",
       "      <td>Former Goldman Sachs CFO Marty Chavez on how t...</td>\n",
       "    </tr>\n",
       "    <tr>\n",
       "      <th>2</th>\n",
       "      <td>AAPL</td>\n",
       "      <td>2021-03-23</td>\n",
       "      <td>05:13PM</td>\n",
       "      <td>Adobe Projects Sales Topping Estimates on Crea...</td>\n",
       "    </tr>\n",
       "    <tr>\n",
       "      <th>3</th>\n",
       "      <td>AAPL</td>\n",
       "      <td>2021-03-23</td>\n",
       "      <td>04:08PM</td>\n",
       "      <td>Best Dow Jones Stocks To Buy And Watch In Marc...</td>\n",
       "    </tr>\n",
       "    <tr>\n",
       "      <th>4</th>\n",
       "      <td>AAPL</td>\n",
       "      <td>2021-03-23</td>\n",
       "      <td>12:52PM</td>\n",
       "      <td>Iridex (IRIX) Beats on Q4 Earnings, Revenues I...</td>\n",
       "    </tr>\n",
       "    <tr>\n",
       "      <th>...</th>\n",
       "      <td>...</td>\n",
       "      <td>...</td>\n",
       "      <td>...</td>\n",
       "      <td>...</td>\n",
       "    </tr>\n",
       "    <tr>\n",
       "      <th>895</th>\n",
       "      <td>JNJ</td>\n",
       "      <td>2021-03-12</td>\n",
       "      <td>09:27AM</td>\n",
       "      <td>UPDATE 1-Cardinal Health to sell Cordis medica...</td>\n",
       "    </tr>\n",
       "    <tr>\n",
       "      <th>896</th>\n",
       "      <td>JNJ</td>\n",
       "      <td>2021-03-12</td>\n",
       "      <td>09:13AM</td>\n",
       "      <td>J&amp;J (JNJ) COVID-19 Vaccine Gets Conditional Ap...</td>\n",
       "    </tr>\n",
       "    <tr>\n",
       "      <th>897</th>\n",
       "      <td>JNJ</td>\n",
       "      <td>2021-03-12</td>\n",
       "      <td>06:37AM</td>\n",
       "      <td>Pharma Stock Roundup: EU Nod for J&amp;J COVID-19 ...</td>\n",
       "    </tr>\n",
       "    <tr>\n",
       "      <th>898</th>\n",
       "      <td>JNJ</td>\n",
       "      <td>2021-03-12</td>\n",
       "      <td>06:14AM</td>\n",
       "      <td>How Does Johnson &amp; Johnson's COVID Vaccine App...</td>\n",
       "    </tr>\n",
       "    <tr>\n",
       "      <th>899</th>\n",
       "      <td>JNJ</td>\n",
       "      <td>2021-03-12</td>\n",
       "      <td>06:00AM</td>\n",
       "      <td>Biotech Stocks: What Will 2021 Look Like?</td>\n",
       "    </tr>\n",
       "  </tbody>\n",
       "</table>\n",
       "<p>900 rows × 4 columns</p>\n",
       "</div>"
      ],
      "text/plain": [
       "    ticker        date       time  \\\n",
       "0     AAPL  2021-03-23  05:52PM     \n",
       "1     AAPL  2021-03-23  05:38PM     \n",
       "2     AAPL  2021-03-23  05:13PM     \n",
       "3     AAPL  2021-03-23  04:08PM     \n",
       "4     AAPL  2021-03-23  12:52PM     \n",
       "..     ...         ...        ...   \n",
       "895    JNJ  2021-03-12  09:27AM     \n",
       "896    JNJ  2021-03-12  09:13AM     \n",
       "897    JNJ  2021-03-12  06:37AM     \n",
       "898    JNJ  2021-03-12  06:14AM     \n",
       "899    JNJ  2021-03-12  06:00AM     \n",
       "\n",
       "                                                 title  \n",
       "0    Intel Spending Billions to Revive Manufacturin...  \n",
       "1    Former Goldman Sachs CFO Marty Chavez on how t...  \n",
       "2    Adobe Projects Sales Topping Estimates on Crea...  \n",
       "3    Best Dow Jones Stocks To Buy And Watch In Marc...  \n",
       "4    Iridex (IRIX) Beats on Q4 Earnings, Revenues I...  \n",
       "..                                                 ...  \n",
       "895  UPDATE 1-Cardinal Health to sell Cordis medica...  \n",
       "896  J&J (JNJ) COVID-19 Vaccine Gets Conditional Ap...  \n",
       "897  Pharma Stock Roundup: EU Nod for J&J COVID-19 ...  \n",
       "898  How Does Johnson & Johnson's COVID Vaccine App...  \n",
       "899          Biotech Stocks: What Will 2021 Look Like?  \n",
       "\n",
       "[900 rows x 4 columns]"
      ]
     },
     "execution_count": 3,
     "metadata": {},
     "output_type": "execute_result"
    }
   ],
   "source": [
    "parsed_data = []\n",
    "\n",
    "for ticker, news_table in news_tables.items():\n",
    "    for row in news_table.findAll('tr'):\n",
    "        title = row.a.text\n",
    "        date_data = row.td.text.split(' ')\n",
    "\n",
    "        if len(date_data) == 1:\n",
    "            time = date_data[0]\n",
    "        else:\n",
    "            date = date_data[0]\n",
    "            time = date_data[1]\n",
    "\n",
    "        parsed_data.append([ticker, date, time, title])\n",
    "\n",
    "df = pd.DataFrame(parsed_data, columns=['ticker', 'date', 'time', 'title'])\n",
    "df['date'] = pd.to_datetime(df.date).dt.date\n",
    "df"
   ]
  },
  {
   "cell_type": "code",
   "execution_count": 4,
   "metadata": {
    "colab": {
     "base_uri": "https://localhost:8080/"
    },
    "id": "47tlc_bwFXqY",
    "outputId": "d794aed5-6c0b-458c-8c85-1d9718cb6b6b"
   },
   "outputs": [
    {
     "name": "stderr",
     "output_type": "stream",
     "text": [
      "[nltk_data] Downloading package vader_lexicon to\n",
      "[nltk_data]     C:\\Users\\jacob\\AppData\\Roaming\\nltk_data...\n",
      "[nltk_data]   Package vader_lexicon is already up-to-date!\n"
     ]
    },
    {
     "data": {
      "text/plain": [
       "0      0.3400\n",
       "1      0.3612\n",
       "2      0.6705\n",
       "3      0.6369\n",
       "4      0.3182\n",
       "        ...  \n",
       "895    0.0000\n",
       "896    0.4767\n",
       "897    0.0000\n",
       "898    0.4767\n",
       "899    0.3612\n",
       "Name: compound, Length: 900, dtype: float64"
      ]
     },
     "execution_count": 4,
     "metadata": {},
     "output_type": "execute_result"
    }
   ],
   "source": [
    "nltk.download('vader_lexicon')\n",
    "\n",
    "vader = SentimentIntensityAnalyzer()\n",
    "\n",
    "f = lambda title: vader.polarity_scores(title)['compound']\n",
    "df['compound'] = df['title'].apply(f)\n",
    "df['compound']"
   ]
  },
  {
   "cell_type": "code",
   "execution_count": 8,
   "metadata": {
    "colab": {
     "base_uri": "https://localhost:8080/",
     "height": 433
    },
    "id": "yL1w_inJFXqZ",
    "outputId": "2a49e8f9-b7c7-47c8-bb9f-a63ee45df26b"
   },
   "outputs": [
    {
     "data": {
      "text/html": [
       "<div>\n",
       "<style scoped>\n",
       "    .dataframe tbody tr th:only-of-type {\n",
       "        vertical-align: middle;\n",
       "    }\n",
       "\n",
       "    .dataframe tbody tr th {\n",
       "        vertical-align: top;\n",
       "    }\n",
       "\n",
       "    .dataframe thead tr th {\n",
       "        text-align: left;\n",
       "    }\n",
       "\n",
       "    .dataframe thead tr:last-of-type th {\n",
       "        text-align: right;\n",
       "    }\n",
       "</style>\n",
       "<table border=\"1\" class=\"dataframe\">\n",
       "  <thead>\n",
       "    <tr>\n",
       "      <th></th>\n",
       "      <th colspan=\"21\" halign=\"left\">compound</th>\n",
       "    </tr>\n",
       "    <tr>\n",
       "      <th>date</th>\n",
       "      <th>2021-03-01</th>\n",
       "      <th>2021-03-02</th>\n",
       "      <th>2021-03-03</th>\n",
       "      <th>2021-03-04</th>\n",
       "      <th>2021-03-05</th>\n",
       "      <th>2021-03-06</th>\n",
       "      <th>2021-03-08</th>\n",
       "      <th>2021-03-09</th>\n",
       "      <th>2021-03-10</th>\n",
       "      <th>2021-03-11</th>\n",
       "      <th>...</th>\n",
       "      <th>2021-03-14</th>\n",
       "      <th>2021-03-15</th>\n",
       "      <th>2021-03-16</th>\n",
       "      <th>2021-03-17</th>\n",
       "      <th>2021-03-18</th>\n",
       "      <th>2021-03-19</th>\n",
       "      <th>2021-03-20</th>\n",
       "      <th>2021-03-21</th>\n",
       "      <th>2021-03-22</th>\n",
       "      <th>2021-03-23</th>\n",
       "    </tr>\n",
       "    <tr>\n",
       "      <th>ticker</th>\n",
       "      <th></th>\n",
       "      <th></th>\n",
       "      <th></th>\n",
       "      <th></th>\n",
       "      <th></th>\n",
       "      <th></th>\n",
       "      <th></th>\n",
       "      <th></th>\n",
       "      <th></th>\n",
       "      <th></th>\n",
       "      <th></th>\n",
       "      <th></th>\n",
       "      <th></th>\n",
       "      <th></th>\n",
       "      <th></th>\n",
       "      <th></th>\n",
       "      <th></th>\n",
       "      <th></th>\n",
       "      <th></th>\n",
       "      <th></th>\n",
       "      <th></th>\n",
       "    </tr>\n",
       "  </thead>\n",
       "  <tbody>\n",
       "    <tr>\n",
       "      <th>AAPL</th>\n",
       "      <td>NaN</td>\n",
       "      <td>NaN</td>\n",
       "      <td>NaN</td>\n",
       "      <td>NaN</td>\n",
       "      <td>NaN</td>\n",
       "      <td>NaN</td>\n",
       "      <td>NaN</td>\n",
       "      <td>NaN</td>\n",
       "      <td>NaN</td>\n",
       "      <td>NaN</td>\n",
       "      <td>...</td>\n",
       "      <td>NaN</td>\n",
       "      <td>NaN</td>\n",
       "      <td>NaN</td>\n",
       "      <td>NaN</td>\n",
       "      <td>0.181237</td>\n",
       "      <td>-0.077489</td>\n",
       "      <td>0.051392</td>\n",
       "      <td>-0.087887</td>\n",
       "      <td>0.175583</td>\n",
       "      <td>0.121329</td>\n",
       "    </tr>\n",
       "    <tr>\n",
       "      <th>AMZN</th>\n",
       "      <td>NaN</td>\n",
       "      <td>NaN</td>\n",
       "      <td>NaN</td>\n",
       "      <td>NaN</td>\n",
       "      <td>NaN</td>\n",
       "      <td>NaN</td>\n",
       "      <td>NaN</td>\n",
       "      <td>NaN</td>\n",
       "      <td>NaN</td>\n",
       "      <td>NaN</td>\n",
       "      <td>...</td>\n",
       "      <td>NaN</td>\n",
       "      <td>NaN</td>\n",
       "      <td>NaN</td>\n",
       "      <td>NaN</td>\n",
       "      <td>NaN</td>\n",
       "      <td>0.190823</td>\n",
       "      <td>-0.059078</td>\n",
       "      <td>0.084071</td>\n",
       "      <td>0.187553</td>\n",
       "      <td>0.080732</td>\n",
       "    </tr>\n",
       "    <tr>\n",
       "      <th>FB</th>\n",
       "      <td>NaN</td>\n",
       "      <td>NaN</td>\n",
       "      <td>NaN</td>\n",
       "      <td>NaN</td>\n",
       "      <td>NaN</td>\n",
       "      <td>NaN</td>\n",
       "      <td>NaN</td>\n",
       "      <td>NaN</td>\n",
       "      <td>NaN</td>\n",
       "      <td>NaN</td>\n",
       "      <td>...</td>\n",
       "      <td>NaN</td>\n",
       "      <td>NaN</td>\n",
       "      <td>NaN</td>\n",
       "      <td>-0.017645</td>\n",
       "      <td>-0.022042</td>\n",
       "      <td>0.013245</td>\n",
       "      <td>0.389150</td>\n",
       "      <td>0.147100</td>\n",
       "      <td>0.054127</td>\n",
       "      <td>-0.119985</td>\n",
       "    </tr>\n",
       "    <tr>\n",
       "      <th>GOOG</th>\n",
       "      <td>NaN</td>\n",
       "      <td>NaN</td>\n",
       "      <td>NaN</td>\n",
       "      <td>NaN</td>\n",
       "      <td>NaN</td>\n",
       "      <td>NaN</td>\n",
       "      <td>NaN</td>\n",
       "      <td>NaN</td>\n",
       "      <td>NaN</td>\n",
       "      <td>NaN</td>\n",
       "      <td>...</td>\n",
       "      <td>NaN</td>\n",
       "      <td>NaN</td>\n",
       "      <td>NaN</td>\n",
       "      <td>NaN</td>\n",
       "      <td>0.085229</td>\n",
       "      <td>-0.098389</td>\n",
       "      <td>0.220200</td>\n",
       "      <td>-0.228909</td>\n",
       "      <td>0.046596</td>\n",
       "      <td>0.094500</td>\n",
       "    </tr>\n",
       "    <tr>\n",
       "      <th>GOOGL</th>\n",
       "      <td>NaN</td>\n",
       "      <td>NaN</td>\n",
       "      <td>NaN</td>\n",
       "      <td>NaN</td>\n",
       "      <td>NaN</td>\n",
       "      <td>NaN</td>\n",
       "      <td>NaN</td>\n",
       "      <td>NaN</td>\n",
       "      <td>NaN</td>\n",
       "      <td>NaN</td>\n",
       "      <td>...</td>\n",
       "      <td>NaN</td>\n",
       "      <td>NaN</td>\n",
       "      <td>NaN</td>\n",
       "      <td>NaN</td>\n",
       "      <td>0.078566</td>\n",
       "      <td>-0.098389</td>\n",
       "      <td>0.220200</td>\n",
       "      <td>-0.193210</td>\n",
       "      <td>0.046596</td>\n",
       "      <td>0.094500</td>\n",
       "    </tr>\n",
       "    <tr>\n",
       "      <th>JNJ</th>\n",
       "      <td>NaN</td>\n",
       "      <td>NaN</td>\n",
       "      <td>NaN</td>\n",
       "      <td>NaN</td>\n",
       "      <td>NaN</td>\n",
       "      <td>NaN</td>\n",
       "      <td>NaN</td>\n",
       "      <td>NaN</td>\n",
       "      <td>NaN</td>\n",
       "      <td>NaN</td>\n",
       "      <td>...</td>\n",
       "      <td>0.24695</td>\n",
       "      <td>-0.066322</td>\n",
       "      <td>0.047833</td>\n",
       "      <td>0.079980</td>\n",
       "      <td>0.053743</td>\n",
       "      <td>0.152767</td>\n",
       "      <td>NaN</td>\n",
       "      <td>0.158467</td>\n",
       "      <td>0.164162</td>\n",
       "      <td>0.112373</td>\n",
       "    </tr>\n",
       "    <tr>\n",
       "      <th>JPM</th>\n",
       "      <td>0.228667</td>\n",
       "      <td>0.3612</td>\n",
       "      <td>0.209114</td>\n",
       "      <td>0.273675</td>\n",
       "      <td>0.01904</td>\n",
       "      <td>0.1405</td>\n",
       "      <td>0.129157</td>\n",
       "      <td>-0.0058</td>\n",
       "      <td>0.18298</td>\n",
       "      <td>0.252</td>\n",
       "      <td>...</td>\n",
       "      <td>0.12500</td>\n",
       "      <td>0.149867</td>\n",
       "      <td>0.000000</td>\n",
       "      <td>0.138625</td>\n",
       "      <td>0.027329</td>\n",
       "      <td>NaN</td>\n",
       "      <td>0.220200</td>\n",
       "      <td>NaN</td>\n",
       "      <td>0.168433</td>\n",
       "      <td>0.125680</td>\n",
       "    </tr>\n",
       "    <tr>\n",
       "      <th>MSFT</th>\n",
       "      <td>NaN</td>\n",
       "      <td>NaN</td>\n",
       "      <td>NaN</td>\n",
       "      <td>NaN</td>\n",
       "      <td>NaN</td>\n",
       "      <td>NaN</td>\n",
       "      <td>NaN</td>\n",
       "      <td>NaN</td>\n",
       "      <td>NaN</td>\n",
       "      <td>NaN</td>\n",
       "      <td>...</td>\n",
       "      <td>NaN</td>\n",
       "      <td>NaN</td>\n",
       "      <td>0.082614</td>\n",
       "      <td>-0.057945</td>\n",
       "      <td>0.126893</td>\n",
       "      <td>0.030650</td>\n",
       "      <td>0.000000</td>\n",
       "      <td>-0.169933</td>\n",
       "      <td>-0.061570</td>\n",
       "      <td>-0.116541</td>\n",
       "    </tr>\n",
       "    <tr>\n",
       "      <th>TSLA</th>\n",
       "      <td>NaN</td>\n",
       "      <td>NaN</td>\n",
       "      <td>NaN</td>\n",
       "      <td>NaN</td>\n",
       "      <td>NaN</td>\n",
       "      <td>NaN</td>\n",
       "      <td>NaN</td>\n",
       "      <td>NaN</td>\n",
       "      <td>NaN</td>\n",
       "      <td>NaN</td>\n",
       "      <td>...</td>\n",
       "      <td>NaN</td>\n",
       "      <td>NaN</td>\n",
       "      <td>NaN</td>\n",
       "      <td>NaN</td>\n",
       "      <td>NaN</td>\n",
       "      <td>0.093214</td>\n",
       "      <td>0.137625</td>\n",
       "      <td>0.082837</td>\n",
       "      <td>0.067600</td>\n",
       "      <td>0.015317</td>\n",
       "    </tr>\n",
       "  </tbody>\n",
       "</table>\n",
       "<p>9 rows × 22 columns</p>\n",
       "</div>"
      ],
      "text/plain": [
       "         compound                                                         \\\n",
       "date   2021-03-01 2021-03-02 2021-03-03 2021-03-04 2021-03-05 2021-03-06   \n",
       "ticker                                                                     \n",
       "AAPL          NaN        NaN        NaN        NaN        NaN        NaN   \n",
       "AMZN          NaN        NaN        NaN        NaN        NaN        NaN   \n",
       "FB            NaN        NaN        NaN        NaN        NaN        NaN   \n",
       "GOOG          NaN        NaN        NaN        NaN        NaN        NaN   \n",
       "GOOGL         NaN        NaN        NaN        NaN        NaN        NaN   \n",
       "JNJ           NaN        NaN        NaN        NaN        NaN        NaN   \n",
       "JPM      0.228667     0.3612   0.209114   0.273675    0.01904     0.1405   \n",
       "MSFT          NaN        NaN        NaN        NaN        NaN        NaN   \n",
       "TSLA          NaN        NaN        NaN        NaN        NaN        NaN   \n",
       "\n",
       "                                                    ...                        \\\n",
       "date   2021-03-08 2021-03-09 2021-03-10 2021-03-11  ... 2021-03-14 2021-03-15   \n",
       "ticker                                              ...                         \n",
       "AAPL          NaN        NaN        NaN        NaN  ...        NaN        NaN   \n",
       "AMZN          NaN        NaN        NaN        NaN  ...        NaN        NaN   \n",
       "FB            NaN        NaN        NaN        NaN  ...        NaN        NaN   \n",
       "GOOG          NaN        NaN        NaN        NaN  ...        NaN        NaN   \n",
       "GOOGL         NaN        NaN        NaN        NaN  ...        NaN        NaN   \n",
       "JNJ           NaN        NaN        NaN        NaN  ...    0.24695  -0.066322   \n",
       "JPM      0.129157    -0.0058    0.18298      0.252  ...    0.12500   0.149867   \n",
       "MSFT          NaN        NaN        NaN        NaN  ...        NaN        NaN   \n",
       "TSLA          NaN        NaN        NaN        NaN  ...        NaN        NaN   \n",
       "\n",
       "                                                                          \\\n",
       "date   2021-03-16 2021-03-17 2021-03-18 2021-03-19 2021-03-20 2021-03-21   \n",
       "ticker                                                                     \n",
       "AAPL          NaN        NaN   0.181237  -0.077489   0.051392  -0.087887   \n",
       "AMZN          NaN        NaN        NaN   0.190823  -0.059078   0.084071   \n",
       "FB            NaN  -0.017645  -0.022042   0.013245   0.389150   0.147100   \n",
       "GOOG          NaN        NaN   0.085229  -0.098389   0.220200  -0.228909   \n",
       "GOOGL         NaN        NaN   0.078566  -0.098389   0.220200  -0.193210   \n",
       "JNJ      0.047833   0.079980   0.053743   0.152767        NaN   0.158467   \n",
       "JPM      0.000000   0.138625   0.027329        NaN   0.220200        NaN   \n",
       "MSFT     0.082614  -0.057945   0.126893   0.030650   0.000000  -0.169933   \n",
       "TSLA          NaN        NaN        NaN   0.093214   0.137625   0.082837   \n",
       "\n",
       "                              \n",
       "date   2021-03-22 2021-03-23  \n",
       "ticker                        \n",
       "AAPL     0.175583   0.121329  \n",
       "AMZN     0.187553   0.080732  \n",
       "FB       0.054127  -0.119985  \n",
       "GOOG     0.046596   0.094500  \n",
       "GOOGL    0.046596   0.094500  \n",
       "JNJ      0.164162   0.112373  \n",
       "JPM      0.168433   0.125680  \n",
       "MSFT    -0.061570  -0.116541  \n",
       "TSLA     0.067600   0.015317  \n",
       "\n",
       "[9 rows x 22 columns]"
      ]
     },
     "execution_count": 8,
     "metadata": {},
     "output_type": "execute_result"
    },
    {
     "data": {
      "text/plain": [
       "<Figure size 720x576 with 0 Axes>"
      ]
     },
     "metadata": {},
     "output_type": "display_data"
    }
   ],
   "source": [
    "plt.figure(figsize=(10,8))\n",
    "mean_df = df.groupby(['ticker', 'date']).mean().unstack()\n",
    "#mean_df = df.groupby(['ticker', 'date']).mean().unstack().dropna(axis='columns', thresh=7)\n",
    "mean_df"
   ]
  },
  {
   "cell_type": "code",
   "execution_count": 9,
   "metadata": {
    "colab": {
     "base_uri": "https://localhost:8080/",
     "height": 593
    },
    "id": "tPci62-3FXqa",
    "outputId": "edb6a478-d24f-46d3-c428-d2b8b1a4e9b4"
   },
   "outputs": [
    {
     "data": {
      "image/png": "[encoded data removed]",
      "text/plain": [
       "<Figure size 1440x864 with 1 Axes>"
      ]
     },
     "metadata": {
      "needs_background": "light"
     },
     "output_type": "display_data"
    }
   ],
   "source": [
    "mean_df = mean_df.xs('compound', axis=\"columns\").transpose()\n",
    "mean_df.plot(kind='bar', figsize=(20, 12))\n",
    "plt.show()"
   ]
  },
  {
   "cell_type": "code",
   "execution_count": 10,
   "metadata": {
    "colab": {
     "base_uri": "https://localhost:8080/"
    },
    "id": "ftGoE2u_jtCV",
    "outputId": "c3736d69-dfa3-4f78-d462-106e827c64fd"
   },
   "outputs": [
    {
     "data": {
      "text/plain": [
       "0      1\n",
       "1      1\n",
       "2      1\n",
       "3      1\n",
       "4      1\n",
       "      ..\n",
       "895    0\n",
       "896    1\n",
       "897    0\n",
       "898    1\n",
       "899    1\n",
       "Name: comp_class, Length: 900, dtype: int64"
      ]
     },
     "execution_count": 10,
     "metadata": {},
     "output_type": "execute_result"
    }
   ],
   "source": [
    "df['comp_class'] = [1 if x > 0 else 0 for x in df['compound']] \n",
    "df['comp_class']"
   ]
  },
  {
   "cell_type": "code",
   "execution_count": 11,
   "metadata": {
    "id": "b9vtbitJFXqf"
   },
   "outputs": [],
   "source": [
    "# Create the features set (X) and the target vector (y)\n",
    "X = df['title'].values\n",
    "y = df['comp_class'].values"
   ]
  },
  {
   "cell_type": "code",
   "execution_count": 13,
   "metadata": {
    "id": "-ckc24W9FXqf"
   },
   "outputs": [],
   "source": [
    "# Create the train, test, and validation sets\n",
    "from sklearn.model_selection import train_test_split\n",
    "\n",
    "X_train, X_test, y_train, y_test = train_test_split(X, y)\n",
    "\n",
    "X_train, X_val, y_train, y_val = train_test_split(X_train, y_train)"
   ]
  },
  {
   "cell_type": "code",
   "execution_count": 38,
   "metadata": {},
   "outputs": [
    {
     "data": {
      "text/html": [
       "<div>\n",
       "<style scoped>\n",
       "    .dataframe tbody tr th:only-of-type {\n",
       "        vertical-align: middle;\n",
       "    }\n",
       "\n",
       "    .dataframe tbody tr th {\n",
       "        vertical-align: top;\n",
       "    }\n",
       "\n",
       "    .dataframe thead th {\n",
       "        text-align: right;\n",
       "    }\n",
       "</style>\n",
       "<table border=\"1\" class=\"dataframe\">\n",
       "  <thead>\n",
       "    <tr style=\"text-align: right;\">\n",
       "      <th></th>\n",
       "      <th>ticker</th>\n",
       "      <th>date</th>\n",
       "      <th>time</th>\n",
       "      <th>title</th>\n",
       "      <th>compound</th>\n",
       "      <th>comp_class</th>\n",
       "    </tr>\n",
       "  </thead>\n",
       "  <tbody>\n",
       "    <tr>\n",
       "      <th>0</th>\n",
       "      <td>AAPL</td>\n",
       "      <td>2021-03-23</td>\n",
       "      <td>05:52PM</td>\n",
       "      <td>Intel Spending Billions to Revive Manufacturin...</td>\n",
       "      <td>0.3400</td>\n",
       "      <td>1</td>\n",
       "    </tr>\n",
       "    <tr>\n",
       "      <th>1</th>\n",
       "      <td>AAPL</td>\n",
       "      <td>2021-03-23</td>\n",
       "      <td>05:38PM</td>\n",
       "      <td>Former Goldman Sachs CFO Marty Chavez on how t...</td>\n",
       "      <td>0.3612</td>\n",
       "      <td>1</td>\n",
       "    </tr>\n",
       "    <tr>\n",
       "      <th>2</th>\n",
       "      <td>AAPL</td>\n",
       "      <td>2021-03-23</td>\n",
       "      <td>05:13PM</td>\n",
       "      <td>Adobe Projects Sales Topping Estimates on Crea...</td>\n",
       "      <td>0.6705</td>\n",
       "      <td>1</td>\n",
       "    </tr>\n",
       "    <tr>\n",
       "      <th>3</th>\n",
       "      <td>AAPL</td>\n",
       "      <td>2021-03-23</td>\n",
       "      <td>04:08PM</td>\n",
       "      <td>Best Dow Jones Stocks To Buy And Watch In Marc...</td>\n",
       "      <td>0.6369</td>\n",
       "      <td>1</td>\n",
       "    </tr>\n",
       "    <tr>\n",
       "      <th>4</th>\n",
       "      <td>AAPL</td>\n",
       "      <td>2021-03-23</td>\n",
       "      <td>12:52PM</td>\n",
       "      <td>Iridex (IRIX) Beats on Q4 Earnings, Revenues I...</td>\n",
       "      <td>0.3182</td>\n",
       "      <td>1</td>\n",
       "    </tr>\n",
       "    <tr>\n",
       "      <th>5</th>\n",
       "      <td>AAPL</td>\n",
       "      <td>2021-03-23</td>\n",
       "      <td>10:55AM</td>\n",
       "      <td>Analyst Ratings for Apple</td>\n",
       "      <td>0.0000</td>\n",
       "      <td>0</td>\n",
       "    </tr>\n",
       "    <tr>\n",
       "      <th>6</th>\n",
       "      <td>AAPL</td>\n",
       "      <td>2021-03-23</td>\n",
       "      <td>10:49AM</td>\n",
       "      <td>Unusual Options Activity Insight: Apple</td>\n",
       "      <td>0.0000</td>\n",
       "      <td>0</td>\n",
       "    </tr>\n",
       "    <tr>\n",
       "      <th>7</th>\n",
       "      <td>AAPL</td>\n",
       "      <td>2021-03-23</td>\n",
       "      <td>09:30AM</td>\n",
       "      <td>COVID-19 market crash: reflecting one year later</td>\n",
       "      <td>-0.4019</td>\n",
       "      <td>0</td>\n",
       "    </tr>\n",
       "    <tr>\n",
       "      <th>8</th>\n",
       "      <td>AAPL</td>\n",
       "      <td>2021-03-23</td>\n",
       "      <td>09:30AM</td>\n",
       "      <td>Thinking About Buying Stock Or Options In Mode...</td>\n",
       "      <td>0.0000</td>\n",
       "      <td>0</td>\n",
       "    </tr>\n",
       "    <tr>\n",
       "      <th>9</th>\n",
       "      <td>AAPL</td>\n",
       "      <td>2021-03-23</td>\n",
       "      <td>09:20AM</td>\n",
       "      <td>6 Top-Ranked Stocks to Make the Most of 5G Upt...</td>\n",
       "      <td>0.0000</td>\n",
       "      <td>0</td>\n",
       "    </tr>\n",
       "    <tr>\n",
       "      <th>10</th>\n",
       "      <td>AAPL</td>\n",
       "      <td>2021-03-23</td>\n",
       "      <td>09:05AM</td>\n",
       "      <td>Is The Trade Desk Stock a Buy?</td>\n",
       "      <td>0.0000</td>\n",
       "      <td>0</td>\n",
       "    </tr>\n",
       "    <tr>\n",
       "      <th>11</th>\n",
       "      <td>AAPL</td>\n",
       "      <td>2021-03-23</td>\n",
       "      <td>07:19AM</td>\n",
       "      <td>The Zacks Analyst Blog Highlights: iRobot, Mic...</td>\n",
       "      <td>0.0000</td>\n",
       "      <td>0</td>\n",
       "    </tr>\n",
       "    <tr>\n",
       "      <th>12</th>\n",
       "      <td>AAPL</td>\n",
       "      <td>2021-03-23</td>\n",
       "      <td>04:43AM</td>\n",
       "      <td>Butterflies In Apple's Stomach? Judge Allows M...</td>\n",
       "      <td>-0.2263</td>\n",
       "      <td>0</td>\n",
       "    </tr>\n",
       "    <tr>\n",
       "      <th>13</th>\n",
       "      <td>AAPL</td>\n",
       "      <td>2021-03-23</td>\n",
       "      <td>02:20AM</td>\n",
       "      <td>Apple's iPhone 13 To Feature Samsung's LTPO Di...</td>\n",
       "      <td>0.0000</td>\n",
       "      <td>0</td>\n",
       "    </tr>\n",
       "    <tr>\n",
       "      <th>14</th>\n",
       "      <td>AAPL</td>\n",
       "      <td>2021-03-22</td>\n",
       "      <td>05:55PM</td>\n",
       "      <td>Magnite, Inc. -- Moody's assigns first-time B2...</td>\n",
       "      <td>0.2960</td>\n",
       "      <td>1</td>\n",
       "    </tr>\n",
       "  </tbody>\n",
       "</table>\n",
       "</div>"
      ],
      "text/plain": [
       "   ticker        date       time  \\\n",
       "0    AAPL  2021-03-23  05:52PM     \n",
       "1    AAPL  2021-03-23  05:38PM     \n",
       "2    AAPL  2021-03-23  05:13PM     \n",
       "3    AAPL  2021-03-23  04:08PM     \n",
       "4    AAPL  2021-03-23  12:52PM     \n",
       "5    AAPL  2021-03-23  10:55AM     \n",
       "6    AAPL  2021-03-23  10:49AM     \n",
       "7    AAPL  2021-03-23  09:30AM     \n",
       "8    AAPL  2021-03-23  09:30AM     \n",
       "9    AAPL  2021-03-23  09:20AM     \n",
       "10   AAPL  2021-03-23  09:05AM     \n",
       "11   AAPL  2021-03-23  07:19AM     \n",
       "12   AAPL  2021-03-23  04:43AM     \n",
       "13   AAPL  2021-03-23  02:20AM     \n",
       "14   AAPL  2021-03-22  05:55PM     \n",
       "\n",
       "                                                title  compound  comp_class  \n",
       "0   Intel Spending Billions to Revive Manufacturin...    0.3400           1  \n",
       "1   Former Goldman Sachs CFO Marty Chavez on how t...    0.3612           1  \n",
       "2   Adobe Projects Sales Topping Estimates on Crea...    0.6705           1  \n",
       "3   Best Dow Jones Stocks To Buy And Watch In Marc...    0.6369           1  \n",
       "4   Iridex (IRIX) Beats on Q4 Earnings, Revenues I...    0.3182           1  \n",
       "5                           Analyst Ratings for Apple    0.0000           0  \n",
       "6             Unusual Options Activity Insight: Apple    0.0000           0  \n",
       "7    COVID-19 market crash: reflecting one year later   -0.4019           0  \n",
       "8   Thinking About Buying Stock Or Options In Mode...    0.0000           0  \n",
       "9   6 Top-Ranked Stocks to Make the Most of 5G Upt...    0.0000           0  \n",
       "10                     Is The Trade Desk Stock a Buy?    0.0000           0  \n",
       "11  The Zacks Analyst Blog Highlights: iRobot, Mic...    0.0000           0  \n",
       "12  Butterflies In Apple's Stomach? Judge Allows M...   -0.2263           0  \n",
       "13  Apple's iPhone 13 To Feature Samsung's LTPO Di...    0.0000           0  \n",
       "14  Magnite, Inc. -- Moody's assigns first-time B2...    0.2960           1  "
      ]
     },
     "execution_count": 38,
     "metadata": {},
     "output_type": "execute_result"
    }
   ],
   "source": [
    "df.head(15)"
   ]
  },
  {
   "cell_type": "code",
   "execution_count": 40,
   "metadata": {},
   "outputs": [
    {
     "name": "stdout",
     "output_type": "stream",
     "text": [
      "                   compound  comp_class\n",
      "ticker date                            \n",
      "AAPL   2021-03-18  0.181237    0.526316\n",
      "       2021-03-19 -0.077489    0.111111\n",
      "       2021-03-20  0.051392    0.333333\n",
      "       2021-03-21 -0.087887    0.125000\n",
      "       2021-03-22  0.175583    0.482759\n",
      "...                     ...         ...\n",
      "TSLA   2021-03-19  0.093214    0.428571\n",
      "       2021-03-20  0.137625    0.416667\n",
      "       2021-03-21  0.082837    0.500000\n",
      "       2021-03-22  0.067600    0.363636\n",
      "       2021-03-23  0.015317    0.166667\n",
      "\n",
      "[73 rows x 2 columns]\n"
     ]
    }
   ],
   "source": [
    "print(df.groupby(['ticker', 'date']).mean())"
   ]
  },
  {
   "cell_type": "code",
   "execution_count": null,
   "metadata": {},
   "outputs": [],
   "source": [
    "#Add in some code that analyzes the data from today and suggest if we should buy or sell ---- "
   ]
  },
  {
   "cell_type": "code",
   "execution_count": 15,
   "metadata": {
    "id": "b18tS1a8FXqi"
   },
   "outputs": [],
   "source": [
    "# Import the libraries for sentiment scoring using Vader\n",
    "import nltk\n",
    "from nltk.sentiment.vader import SentimentIntensityAnalyzer"
   ]
  },
  {
   "cell_type": "code",
   "execution_count": 11,
   "metadata": {
    "colab": {
     "base_uri": "https://localhost:8080/"
    },
    "id": "SoGp7ODCFXqi",
    "outputId": "13fcae1d-49bf-4471-90f4-8c7d8f54a111"
   },
   "outputs": [
    {
     "name": "stdout",
     "output_type": "stream",
     "text": [
      "[nltk_data] Downloading package vader_lexicon to /root/nltk_data...\n",
      "[nltk_data]   Package vader_lexicon is already up-to-date!\n"
     ]
    },
    {
     "data": {
      "text/plain": [
       "True"
      ]
     },
     "execution_count": 11,
     "metadata": {
      "tags": []
     },
     "output_type": "execute_result"
    }
   ],
   "source": [
    "# Download/Update the VADER Lexicon\n",
    "nltk.download('vader_lexicon')"
   ]
  },
  {
   "cell_type": "code",
   "execution_count": 16,
   "metadata": {
    "id": "N4IRgLTWFXqi"
   },
   "outputs": [],
   "source": [
    "# Initialize the VADER sentiment analyzer\n",
    "analyzer = SentimentIntensityAnalyzer()"
   ]
  },
  {
   "cell_type": "code",
   "execution_count": 17,
   "metadata": {
    "id": "zW3FaTSjFXqj"
   },
   "outputs": [],
   "source": [
    "# Define two lists to store vader sentiment scoring\n",
    "y_vader_pred = []\n",
    "y_vader_prob = []"
   ]
  },
  {
   "cell_type": "code",
   "execution_count": 18,
   "metadata": {
    "id": "UQ4wGG5LFXqj"
   },
   "outputs": [],
   "source": [
    "# Score sentiment of test set using Vader\n",
    "for comment in X_test:\n",
    "    y_vader_prob.append(analyzer.polarity_scores(comment)[\"pos\"])\n",
    "    sentiment_score = analyzer.polarity_scores(comment)[\"compound\"]\n",
    "    if sentiment_score >= 0.1:\n",
    "        y_vader_pred.append(1)\n",
    "    else:\n",
    "        y_vader_pred.append(0)"
   ]
  },
  {
   "cell_type": "code",
   "execution_count": 19,
   "metadata": {
    "colab": {
     "base_uri": "https://localhost:8080/"
    },
    "id": "G5LVQni8FXqk",
    "outputId": "930330dd-282b-4dab-efb7-5fff559f9406"
   },
   "outputs": [
    {
     "data": {
      "text/plain": [
       "array([[0.        ],\n",
       "       [0.34504132],\n",
       "       [0.        ],\n",
       "       [0.        ],\n",
       "       [0.        ],\n",
       "       [0.        ],\n",
       "       [0.46694215],\n",
       "       [0.43595041],\n",
       "       [0.41322314],\n",
       "       [0.24173554],\n",
       "       [0.        ],\n",
       "       [0.5392562 ],\n",
       "       [0.55165289],\n",
       "       [0.        ],\n",
       "       [0.46694215],\n",
       "       [0.        ],\n",
       "       [0.        ],\n",
       "       [0.5392562 ],\n",
       "       [0.47727273],\n",
       "       [0.16528926],\n",
       "       [0.        ],\n",
       "       [0.        ],\n",
       "       [0.        ],\n",
       "       [0.        ],\n",
       "       [0.3285124 ],\n",
       "       [0.47727273],\n",
       "       [0.45454545],\n",
       "       [0.        ],\n",
       "       [0.5392562 ],\n",
       "       [0.        ],\n",
       "       [0.        ],\n",
       "       [0.        ],\n",
       "       [0.        ],\n",
       "       [0.8677686 ],\n",
       "       [0.        ],\n",
       "       [0.        ],\n",
       "       [0.61157025],\n",
       "       [0.        ],\n",
       "       [0.        ],\n",
       "       [0.45247934],\n",
       "       [0.        ],\n",
       "       [0.42355372],\n",
       "       [0.30578512],\n",
       "       [0.5268595 ],\n",
       "       [0.        ],\n",
       "       [0.14256198],\n",
       "       [0.        ],\n",
       "       [0.        ],\n",
       "       [0.57644628],\n",
       "       [0.        ],\n",
       "       [0.        ],\n",
       "       [0.        ],\n",
       "       [0.        ],\n",
       "       [0.2768595 ],\n",
       "       [0.        ],\n",
       "       [0.38016529],\n",
       "       [0.        ],\n",
       "       [0.        ],\n",
       "       [0.35743802],\n",
       "       [0.        ],\n",
       "       [0.        ],\n",
       "       [0.        ],\n",
       "       [0.8677686 ],\n",
       "       [0.        ],\n",
       "       [0.        ],\n",
       "       [0.        ],\n",
       "       [0.        ],\n",
       "       [0.        ],\n",
       "       [0.        ],\n",
       "       [0.        ],\n",
       "       [0.83884298],\n",
       "       [0.47727273],\n",
       "       [0.65289256],\n",
       "       [0.62396694],\n",
       "       [0.35123967],\n",
       "       [0.        ],\n",
       "       [0.38842975],\n",
       "       [0.34504132],\n",
       "       [0.        ],\n",
       "       [0.        ],\n",
       "       [0.86983471],\n",
       "       [0.        ],\n",
       "       [0.        ],\n",
       "       [0.        ],\n",
       "       [0.43801653],\n",
       "       [0.31404959],\n",
       "       [0.        ],\n",
       "       [0.47727273],\n",
       "       [0.36157025],\n",
       "       [0.        ],\n",
       "       [0.80785124],\n",
       "       [1.        ],\n",
       "       [0.46280992],\n",
       "       [0.        ],\n",
       "       [0.        ],\n",
       "       [0.53099174],\n",
       "       [0.        ],\n",
       "       [0.        ],\n",
       "       [0.        ],\n",
       "       [0.62396694],\n",
       "       [0.        ],\n",
       "       [0.        ],\n",
       "       [0.        ],\n",
       "       [0.        ],\n",
       "       [0.        ],\n",
       "       [0.        ],\n",
       "       [0.        ],\n",
       "       [0.        ],\n",
       "       [0.        ],\n",
       "       [0.22107438],\n",
       "       [0.3285124 ],\n",
       "       [0.        ],\n",
       "       [0.60743802],\n",
       "       [0.        ],\n",
       "       [0.        ],\n",
       "       [0.        ],\n",
       "       [0.        ],\n",
       "       [0.37603306],\n",
       "       [0.        ],\n",
       "       [0.        ],\n",
       "       [0.33677686],\n",
       "       [0.        ],\n",
       "       [0.        ],\n",
       "       [0.        ],\n",
       "       [0.        ],\n",
       "       [0.5       ],\n",
       "       [0.22107438],\n",
       "       [0.        ],\n",
       "       [0.49380165],\n",
       "       [0.16942149],\n",
       "       [0.        ],\n",
       "       [0.        ],\n",
       "       [0.        ],\n",
       "       [0.        ],\n",
       "       [0.        ],\n",
       "       [0.59090909],\n",
       "       [0.85123967],\n",
       "       [0.        ],\n",
       "       [0.        ],\n",
       "       [0.5       ],\n",
       "       [0.        ],\n",
       "       [0.        ],\n",
       "       [0.        ],\n",
       "       [0.        ],\n",
       "       [0.        ],\n",
       "       [0.25619835],\n",
       "       [0.        ],\n",
       "       [0.        ],\n",
       "       [0.        ],\n",
       "       [0.        ],\n",
       "       [0.40289256],\n",
       "       [0.77479339],\n",
       "       [0.24586777],\n",
       "       [0.60330579],\n",
       "       [0.        ],\n",
       "       [0.40909091],\n",
       "       [0.        ],\n",
       "       [0.48966942],\n",
       "       [0.57644628],\n",
       "       [0.        ],\n",
       "       [0.74380165],\n",
       "       [0.        ],\n",
       "       [0.42355372],\n",
       "       [0.        ],\n",
       "       [0.        ],\n",
       "       [0.        ],\n",
       "       [0.        ],\n",
       "       [0.36157025],\n",
       "       [0.        ],\n",
       "       [0.15289256],\n",
       "       [0.50413223],\n",
       "       [0.        ],\n",
       "       [0.        ],\n",
       "       [0.        ],\n",
       "       [0.32644628],\n",
       "       [0.        ],\n",
       "       [0.36157025],\n",
       "       [0.        ],\n",
       "       [0.20867769],\n",
       "       [0.        ],\n",
       "       [0.99793388],\n",
       "       [0.43595041],\n",
       "       [0.38636364],\n",
       "       [0.        ],\n",
       "       [0.        ],\n",
       "       [0.40495868],\n",
       "       [0.        ],\n",
       "       [0.49793388],\n",
       "       [0.23760331],\n",
       "       [0.65702479],\n",
       "       [0.51446281],\n",
       "       [0.        ],\n",
       "       [0.        ],\n",
       "       [0.67355372],\n",
       "       [0.        ],\n",
       "       [0.38842975],\n",
       "       [0.59090909],\n",
       "       [0.44628099],\n",
       "       [0.26446281],\n",
       "       [0.        ]])"
      ]
     },
     "execution_count": 19,
     "metadata": {},
     "output_type": "execute_result"
    }
   ],
   "source": [
    "# Option 1: Normalizing data using MinMaxScaler from sklearn\n",
    "from sklearn.preprocessing import MinMaxScaler\n",
    "\n",
    "scaler = MinMaxScaler()\n",
    "scaler.fit(np.array(y_vader_prob).reshape(-1,1))\n",
    "y_vader_prob_norm = scaler.transform(np.array(y_vader_prob).reshape(-1,1))\n",
    "y_vader_prob_norm[:200]"
   ]
  },
  {
   "cell_type": "code",
   "execution_count": 20,
   "metadata": {
    "colab": {
     "base_uri": "https://localhost:8080/"
    },
    "id": "_qOhxKzVFXqk",
    "outputId": "daaf63bd-e120-443f-b459-a762cc6f6275"
   },
   "outputs": [
    {
     "data": {
      "text/plain": [
       "[0.0, 0.3450413223140496, 0.0, 0.0, 0.0]"
      ]
     },
     "execution_count": 20,
     "metadata": {},
     "output_type": "execute_result"
    }
   ],
   "source": [
    "# Option 2: Using a comprehension list\n",
    "normalized = [(x - min(y_vader_prob)) / (max(y_vader_prob) - min(y_vader_prob))\n",
    "              for x in y_vader_prob]\n",
    "normalized[:5]"
   ]
  },
  {
   "cell_type": "code",
   "execution_count": 21,
   "metadata": {
    "id": "W2pLglN5FXql"
   },
   "outputs": [],
   "source": [
    "# Import the Tokenizer method from Keras\n",
    "from tensorflow.keras.preprocessing.text import Tokenizer"
   ]
  },
  {
   "cell_type": "code",
   "execution_count": 22,
   "metadata": {
    "id": "bO4srpPVFXqm"
   },
   "outputs": [],
   "source": [
    "# Create an instance of the Tokenizer and fit it with the X text data\n",
    "tokenizer = Tokenizer(lower=True)\n",
    "tokenizer.fit_on_texts(X)"
   ]
  },
  {
   "cell_type": "code",
   "execution_count": 23,
   "metadata": {
    "colab": {
     "base_uri": "https://localhost:8080/"
    },
    "id": "kNrLhWCDFXqm",
    "outputId": "b866350b-407f-4fe7-bce4-384d8edf67a6"
   },
   "outputs": [
    {
     "name": "stdout",
     "output_type": "stream",
     "text": [
      "word: 'to', token: 1\n",
      "word: 'in', token: 2\n",
      "word: 'the', token: 3\n",
      "word: 'stocks', token: 4\n",
      "word: 'on', token: 5\n"
     ]
    }
   ],
   "source": [
    "# Print the first five elements of the encoded vocabulary\n",
    "for token in list(tokenizer.word_index)[:5]:\n",
    "    print(f\"word: '{token}', token: {tokenizer.word_index[token]}\")"
   ]
  },
  {
   "cell_type": "code",
   "execution_count": 24,
   "metadata": {
    "id": "isQd2DePFXqm"
   },
   "outputs": [],
   "source": [
    "# Transform the text data to numerical sequences\n",
    "X_seq = tokenizer.texts_to_sequences(X)"
   ]
  },
  {
   "cell_type": "code",
   "execution_count": 25,
   "metadata": {
    "colab": {
     "base_uri": "https://localhost:8080/"
    },
    "id": "Hw8IzYw1FXqm",
    "outputId": "3eebaebb-12b4-46a9-b78e-e7a60b0b89d1"
   },
   "outputs": [
    {
     "name": "stdout",
     "output_type": "stream",
     "text": [
      "**Text comment**\n",
      "{'Intel Spending Billions to Revive Manufacturing, Chase TSMC'}\n"
     ]
    }
   ],
   "source": [
    "# Contrast a sample numerical sequence with its text version\n",
    "print(\"**Text comment**\")\n",
    "print({X[0]})"
   ]
  },
  {
   "cell_type": "code",
   "execution_count": 26,
   "metadata": {
    "colab": {
     "base_uri": "https://localhost:8080/"
    },
    "id": "DP0wZvcdFXqn",
    "outputId": "ba0392ba-8d23-4db7-c20a-1312a2bb0134"
   },
   "outputs": [
    {
     "name": "stdout",
     "output_type": "stream",
     "text": [
      "**Numerical sequence representation**\n",
      "[175, 778, 448, 1, 779, 583, 90, 780]\n"
     ]
    }
   ],
   "source": [
    "print(\"**Numerical sequence representation**\")\n",
    "print(X_seq[0])"
   ]
  },
  {
   "cell_type": "code",
   "execution_count": 27,
   "metadata": {
    "id": "nNTAGAi-FXqp"
   },
   "outputs": [],
   "source": [
    "# Import the pad_sequences method from Keras\n",
    "from tensorflow.keras.preprocessing.sequence import pad_sequences"
   ]
  },
  {
   "cell_type": "code",
   "execution_count": 28,
   "metadata": {
    "id": "hjC9l3FcFXqp"
   },
   "outputs": [],
   "source": [
    "# Set the pad size\n",
    "max_words = 140\n",
    "\n",
    "# Pad the sequences using the pad_sequences() method\n",
    "X_pad = pad_sequences(X_seq, maxlen=max_words, padding=\"post\")"
   ]
  },
  {
   "cell_type": "code",
   "execution_count": 29,
   "metadata": {
    "id": "LgH_bOeKFXqp"
   },
   "outputs": [],
   "source": [
    "# Creating training, validation, and testing sets using the encoded data\n",
    "X_train_rnn, X_test_rnn, y_train_rnn, y_test_rnn = train_test_split(X_pad, y)\n",
    "\n",
    "X_train_rnn, X_val_rnn, y_train_rnn, y_val_rnn = train_test_split(X_train_rnn, y_train_rnn)"
   ]
  },
  {
   "cell_type": "code",
   "execution_count": 30,
   "metadata": {
    "id": "3Y1j6It3FXqq"
   },
   "outputs": [],
   "source": [
    "# Import Keras modules for model creation\n",
    "from tensorflow.keras.models import Sequential\n",
    "from tensorflow.keras.layers import Embedding, LSTM, Dense"
   ]
  },
  {
   "cell_type": "code",
   "execution_count": 31,
   "metadata": {
    "id": "-BRJP1XFFXqq"
   },
   "outputs": [],
   "source": [
    "# Model set-up\n",
    "vocabulary_size = len(tokenizer.word_counts.keys()) + 1\n",
    "embedding_size = 64"
   ]
  },
  {
   "cell_type": "code",
   "execution_count": 32,
   "metadata": {
    "id": "QsFODpyFM68q"
   },
   "outputs": [],
   "source": [
    "# Define the LSTM RNN model\n",
    "model = Sequential()\n",
    "\n",
    "# Layer 1\n",
    "model.add(Embedding(vocabulary_size, embedding_size, input_length=max_words))\n",
    "\n",
    "# Layer 2\n",
    "model.add(LSTM(units=280))\n",
    "\n",
    "# Output layer\n",
    "model.add(Dense(units=1, activation=\"sigmoid\"))"
   ]
  },
  {
   "cell_type": "code",
   "execution_count": 33,
   "metadata": {
    "id": "2C0Cf5JHM-KA"
   },
   "outputs": [],
   "source": [
    "# Compile the model\n",
    "model.compile(\n",
    "    loss=\"binary_crossentropy\",\n",
    "    optimizer=\"adam\",\n",
    "    metrics=[\n",
    "        \"accuracy\",\n",
    "        tf.keras.metrics.TruePositives(name=\"tp\"),\n",
    "        tf.keras.metrics.TrueNegatives(name=\"tn\"),\n",
    "        tf.keras.metrics.FalsePositives(name=\"fp\"),\n",
    "        tf.keras.metrics.FalseNegatives(name=\"fn\"),\n",
    "        tf.keras.metrics.Precision(name=\"precision\"),\n",
    "        tf.keras.metrics.Recall(name=\"recall\"),\n",
    "        tf.keras.metrics.AUC(name=\"auc\"),\n",
    "    ],\n",
    ")"
   ]
  },
  {
   "cell_type": "code",
   "execution_count": 34,
   "metadata": {
    "colab": {
     "base_uri": "https://localhost:8080/"
    },
    "id": "nnCIWbyUM-YA",
    "outputId": "1fc5e5d4-59e2-4bb7-b44f-648dc20de053"
   },
   "outputs": [
    {
     "name": "stdout",
     "output_type": "stream",
     "text": [
      "Model: \"sequential\"\n",
      "_________________________________________________________________\n",
      "Layer (type)                 Output Shape              Param #   \n",
      "=================================================================\n",
      "embedding (Embedding)        (None, 140, 64)           147072    \n",
      "_________________________________________________________________\n",
      "lstm (LSTM)                  (None, 280)               386400    \n",
      "_________________________________________________________________\n",
      "dense (Dense)                (None, 1)                 281       \n",
      "=================================================================\n",
      "Total params: 533,753\n",
      "Trainable params: 533,753\n",
      "Non-trainable params: 0\n",
      "_________________________________________________________________\n"
     ]
    }
   ],
   "source": [
    "# Show model summary\n",
    "model.summary()"
   ]
  },
  {
   "cell_type": "code",
   "execution_count": 35,
   "metadata": {
    "colab": {
     "base_uri": "https://localhost:8080/"
    },
    "id": "GmKGHzYaM-j_",
    "outputId": "90184a6a-1626-44c5-acf2-ac3d884fe85f"
   },
   "outputs": [
    {
     "name": "stdout",
     "output_type": "stream",
     "text": [
      "Epoch 1/10\n",
      "1/1 [==============================] - 6s 6s/step - loss: 0.6930 - accuracy: 0.6482 - tp: 0.0000e+00 - tn: 328.0000 - fp: 0.0000e+00 - fn: 178.0000 - precision: 0.0000e+00 - recall: 0.0000e+00 - auc: 0.5000 - val_loss: 0.6824 - val_accuracy: 0.6213 - val_tp: 0.0000e+00 - val_tn: 105.0000 - val_fp: 0.0000e+00 - val_fn: 64.0000 - val_precision: 0.0000e+00 - val_recall: 0.0000e+00 - val_auc: 0.5000\n",
      "Epoch 2/10\n",
      "1/1 [==============================] - 2s 2s/step - loss: 0.6797 - accuracy: 0.6482 - tp: 0.0000e+00 - tn: 328.0000 - fp: 0.0000e+00 - fn: 178.0000 - precision: 0.0000e+00 - recall: 0.0000e+00 - auc: 0.5000 - val_loss: 0.6726 - val_accuracy: 0.6213 - val_tp: 0.0000e+00 - val_tn: 105.0000 - val_fp: 0.0000e+00 - val_fn: 64.0000 - val_precision: 0.0000e+00 - val_recall: 0.0000e+00 - val_auc: 0.5000\n",
      "Epoch 3/10\n",
      "1/1 [==============================] - 2s 2s/step - loss: 0.6667 - accuracy: 0.6482 - tp: 0.0000e+00 - tn: 328.0000 - fp: 0.0000e+00 - fn: 178.0000 - precision: 0.0000e+00 - recall: 0.0000e+00 - auc: 0.5000 - val_loss: 0.6640 - val_accuracy: 0.6213 - val_tp: 0.0000e+00 - val_tn: 105.0000 - val_fp: 0.0000e+00 - val_fn: 64.0000 - val_precision: 0.0000e+00 - val_recall: 0.0000e+00 - val_auc: 0.5000\n",
      "Epoch 4/10\n",
      "1/1 [==============================] - 2s 2s/step - loss: 0.6524 - accuracy: 0.6482 - tp: 0.0000e+00 - tn: 328.0000 - fp: 0.0000e+00 - fn: 178.0000 - precision: 0.0000e+00 - recall: 0.0000e+00 - auc: 0.5000 - val_loss: 0.6953 - val_accuracy: 0.6213 - val_tp: 0.0000e+00 - val_tn: 105.0000 - val_fp: 0.0000e+00 - val_fn: 64.0000 - val_precision: 0.0000e+00 - val_recall: 0.0000e+00 - val_auc: 0.5000\n",
      "Epoch 5/10\n",
      "1/1 [==============================] - 2s 2s/step - loss: 0.6676 - accuracy: 0.6482 - tp: 0.0000e+00 - tn: 328.0000 - fp: 0.0000e+00 - fn: 178.0000 - precision: 0.0000e+00 - recall: 0.0000e+00 - auc: 0.5000 - val_loss: 0.6666 - val_accuracy: 0.6213 - val_tp: 0.0000e+00 - val_tn: 105.0000 - val_fp: 0.0000e+00 - val_fn: 64.0000 - val_precision: 0.0000e+00 - val_recall: 0.0000e+00 - val_auc: 0.5000\n",
      "Epoch 6/10\n",
      "1/1 [==============================] - 2s 2s/step - loss: 0.6488 - accuracy: 0.6482 - tp: 0.0000e+00 - tn: 328.0000 - fp: 0.0000e+00 - fn: 178.0000 - precision: 0.0000e+00 - recall: 0.0000e+00 - auc: 0.5000 - val_loss: 0.6634 - val_accuracy: 0.6213 - val_tp: 0.0000e+00 - val_tn: 105.0000 - val_fp: 0.0000e+00 - val_fn: 64.0000 - val_precision: 0.0000e+00 - val_recall: 0.0000e+00 - val_auc: 0.5000\n",
      "Epoch 7/10\n",
      "1/1 [==============================] - 3s 3s/step - loss: 0.6499 - accuracy: 0.6482 - tp: 0.0000e+00 - tn: 328.0000 - fp: 0.0000e+00 - fn: 178.0000 - precision: 0.0000e+00 - recall: 0.0000e+00 - auc: 0.5000 - val_loss: 0.6639 - val_accuracy: 0.6213 - val_tp: 0.0000e+00 - val_tn: 105.0000 - val_fp: 0.0000e+00 - val_fn: 64.0000 - val_precision: 0.0000e+00 - val_recall: 0.0000e+00 - val_auc: 0.5000\n",
      "Epoch 8/10\n",
      "1/1 [==============================] - 3s 3s/step - loss: 0.6522 - accuracy: 0.6482 - tp: 0.0000e+00 - tn: 328.0000 - fp: 0.0000e+00 - fn: 178.0000 - precision: 0.0000e+00 - recall: 0.0000e+00 - auc: 0.5000 - val_loss: 0.6644 - val_accuracy: 0.6213 - val_tp: 0.0000e+00 - val_tn: 105.0000 - val_fp: 0.0000e+00 - val_fn: 64.0000 - val_precision: 0.0000e+00 - val_recall: 0.0000e+00 - val_auc: 0.5000\n",
      "Epoch 9/10\n",
      "1/1 [==============================] - 3s 3s/step - loss: 0.6535 - accuracy: 0.6482 - tp: 0.0000e+00 - tn: 328.0000 - fp: 0.0000e+00 - fn: 178.0000 - precision: 0.0000e+00 - recall: 0.0000e+00 - auc: 0.5000 - val_loss: 0.6645 - val_accuracy: 0.6213 - val_tp: 0.0000e+00 - val_tn: 105.0000 - val_fp: 0.0000e+00 - val_fn: 64.0000 - val_precision: 0.0000e+00 - val_recall: 0.0000e+00 - val_auc: 0.5000\n",
      "Epoch 10/10\n",
      "1/1 [==============================] - 3s 3s/step - loss: 0.6537 - accuracy: 0.6482 - tp: 0.0000e+00 - tn: 328.0000 - fp: 0.0000e+00 - fn: 178.0000 - precision: 0.0000e+00 - recall: 0.0000e+00 - auc: 0.5000 - val_loss: 0.6642 - val_accuracy: 0.6213 - val_tp: 0.0000e+00 - val_tn: 105.0000 - val_fp: 0.0000e+00 - val_fn: 64.0000 - val_precision: 0.0000e+00 - val_recall: 0.0000e+00 - val_auc: 0.5000\n"
     ]
    },
    {
     "data": {
      "text/plain": [
       "<tensorflow.python.keras.callbacks.History at 0x264597ddcc8>"
      ]
     },
     "execution_count": 35,
     "metadata": {},
     "output_type": "execute_result"
    }
   ],
   "source": [
    "# Training the model\n",
    "batch_size = 1000\n",
    "epochs = 10\n",
    "model.fit(\n",
    "    X_train_rnn,\n",
    "    y_train_rnn,\n",
    "    validation_data=(X_val_rnn, y_val_rnn),\n",
    "    epochs=epochs,\n",
    "    batch_size=batch_size,\n",
    "    verbose=1,\n",
    ")"
   ]
  },
  {
   "cell_type": "code",
   "execution_count": 32,
   "metadata": {
    "id": "iBHlJKaqM-tY"
   },
   "outputs": [],
   "source": [
    "# Predict classes using the testing data\n",
    "y_rnn_pred = model.predict_classes(X_test_rnn, batch_size=1000)"
   ]
  },
  {
   "cell_type": "code",
   "execution_count": 33,
   "metadata": {
    "colab": {
     "base_uri": "https://localhost:8080/"
    },
    "id": "ZQaxGc29M-1s",
    "outputId": "fb4eef67-18ea-4d2e-bfa8-11007b458e82"
   },
   "outputs": [
    {
     "name": "stdout",
     "output_type": "stream",
     "text": [
      "Vader Accuracy: 0.99\n",
      "RNN LSTM Accuracy 0.60\n"
     ]
    }
   ],
   "source": [
    "# Accuracy\n",
    "from sklearn.metrics import accuracy_score\n",
    "\n",
    "\n",
    "\n",
    "print(\"Vader Accuracy: %.2f\" % (accuracy_score(y_test, y_vader_pred)))\n",
    "print(\"RNN LSTM Accuracy %.2f\" % (accuracy_score(y_test_rnn, y_rnn_pred)))"
   ]
  },
  {
   "cell_type": "code",
   "execution_count": 34,
   "metadata": {
    "id": "eJWtiydHM-5k"
   },
   "outputs": [],
   "source": [
    "# Import the confusion_matrix method from sklearn\n",
    "from sklearn.metrics import confusion_matrix"
   ]
  },
  {
   "cell_type": "code",
   "execution_count": 35,
   "metadata": {
    "colab": {
     "base_uri": "https://localhost:8080/",
     "height": 162
    },
    "id": "ihRyWzPDM-9Z",
    "outputId": "f9c695b5-215c-47dd-8dd6-666e097b0741"
   },
   "outputs": [
    {
     "name": "stdout",
     "output_type": "stream",
     "text": [
      "Confusion Matrix from Vader\n"
     ]
    },
    {
     "data": {
      "text/html": [
       "<div>\n",
       "<style scoped>\n",
       "    .dataframe tbody tr th:only-of-type {\n",
       "        vertical-align: middle;\n",
       "    }\n",
       "\n",
       "    .dataframe tbody tr th {\n",
       "        vertical-align: top;\n",
       "    }\n",
       "\n",
       "    .dataframe thead th {\n",
       "        text-align: right;\n",
       "    }\n",
       "</style>\n",
       "<table border=\"1\" class=\"dataframe\">\n",
       "  <thead>\n",
       "    <tr style=\"text-align: right;\">\n",
       "      <th>Predicted</th>\n",
       "      <th>Positive(1)</th>\n",
       "      <th>Negative(0)</th>\n",
       "    </tr>\n",
       "    <tr>\n",
       "      <th>Actual</th>\n",
       "      <th></th>\n",
       "      <th></th>\n",
       "    </tr>\n",
       "  </thead>\n",
       "  <tbody>\n",
       "    <tr>\n",
       "      <th>Positive(1)</th>\n",
       "      <td>TP=78</td>\n",
       "      <td>FN=3</td>\n",
       "    </tr>\n",
       "    <tr>\n",
       "      <th>Negative(0)</th>\n",
       "      <td>FP=0</td>\n",
       "      <td>TN=144</td>\n",
       "    </tr>\n",
       "  </tbody>\n",
       "</table>\n",
       "</div>"
      ],
      "text/plain": [
       "Predicted   Positive(1) Negative(0)\n",
       "Actual                             \n",
       "Positive(1)       TP=78        FN=3\n",
       "Negative(0)        FP=0      TN=144"
      ]
     },
     "metadata": {
      "tags": []
     },
     "output_type": "display_data"
    }
   ],
   "source": [
    "# Confusion matrtix metrics from Vader\n",
    "tn_vader, fp_vader, fn_vader, tp_vader = confusion_matrix(y_test, y_vader_pred).ravel()\n",
    "\n",
    "# Dataframe to display confusion matrix from Vader\n",
    "cm_vader_df = pd.DataFrame(\n",
    "    {\n",
    "        \"Positive(1)\": [f\"TP={tp_vader}\", f\"FP={fp_vader}\"],\n",
    "        \"Negative(0)\": [f\"FN={fn_vader}\", f\"TN={tn_vader}\"],\n",
    "    },\n",
    "    index=[\"Positive(1)\", \"Negative(0)\"],\n",
    ")\n",
    "cm_vader_df.index.name = \"Actual\"\n",
    "cm_vader_df.columns.name = \"Predicted\"\n",
    "print(\"Confusion Matrix from Vader\")\n",
    "display(cm_vader_df)"
   ]
  },
  {
   "cell_type": "code",
   "execution_count": 36,
   "metadata": {
    "colab": {
     "base_uri": "https://localhost:8080/",
     "height": 162
    },
    "id": "wJVJ_S3mM_BT",
    "outputId": "98a3368f-c0ed-46ea-d3ea-621390fe2ab4"
   },
   "outputs": [
    {
     "name": "stdout",
     "output_type": "stream",
     "text": [
      "Confusion Matrix from the RNN LSTM Model\n"
     ]
    },
    {
     "data": {
      "text/html": [
       "<div>\n",
       "<style scoped>\n",
       "    .dataframe tbody tr th:only-of-type {\n",
       "        vertical-align: middle;\n",
       "    }\n",
       "\n",
       "    .dataframe tbody tr th {\n",
       "        vertical-align: top;\n",
       "    }\n",
       "\n",
       "    .dataframe thead th {\n",
       "        text-align: right;\n",
       "    }\n",
       "</style>\n",
       "<table border=\"1\" class=\"dataframe\">\n",
       "  <thead>\n",
       "    <tr style=\"text-align: right;\">\n",
       "      <th>Predicted</th>\n",
       "      <th>Positive(1)</th>\n",
       "      <th>Negative(0)</th>\n",
       "    </tr>\n",
       "    <tr>\n",
       "      <th>Actual</th>\n",
       "      <th></th>\n",
       "      <th></th>\n",
       "    </tr>\n",
       "  </thead>\n",
       "  <tbody>\n",
       "    <tr>\n",
       "      <th>Positive(1)</th>\n",
       "      <td>TP=0</td>\n",
       "      <td>FN=90</td>\n",
       "    </tr>\n",
       "    <tr>\n",
       "      <th>Negative(0)</th>\n",
       "      <td>FP=0</td>\n",
       "      <td>TN=135</td>\n",
       "    </tr>\n",
       "  </tbody>\n",
       "</table>\n",
       "</div>"
      ],
      "text/plain": [
       "Predicted   Positive(1) Negative(0)\n",
       "Actual                             \n",
       "Positive(1)        TP=0       FN=90\n",
       "Negative(0)        FP=0      TN=135"
      ]
     },
     "metadata": {
      "tags": []
     },
     "output_type": "display_data"
    }
   ],
   "source": [
    "# Confusion matrtix metrics from the RNN LSTM model\n",
    "tn_rnn, fp_rnn, fn_rnn, tp_rnn = confusion_matrix(y_test_rnn, y_rnn_pred).ravel()\n",
    "\n",
    "# Dataframe to display confusion matrix from the RNN LSTM model\n",
    "cm_rnn_df = pd.DataFrame(\n",
    "    {\n",
    "        \"Positive(1)\": [f\"TP={tp_rnn}\", f\"FP={fp_rnn}\"],\n",
    "        \"Negative(0)\": [f\"FN={fn_rnn}\", f\"TN={tn_rnn}\"],\n",
    "    },\n",
    "    index=[\"Positive(1)\", \"Negative(0)\"],\n",
    ")\n",
    "cm_rnn_df.index.name = \"Actual\"\n",
    "cm_rnn_df.columns.name = \"Predicted\"\n",
    "print(\"Confusion Matrix from the RNN LSTM Model\")\n",
    "display(cm_rnn_df)"
   ]
  },
  {
   "cell_type": "code",
   "execution_count": 37,
   "metadata": {
    "id": "-WvXvOJ-M_Eh"
   },
   "outputs": [],
   "source": [
    "# Import the classification_report method from sklearn\n",
    "from sklearn.metrics import classification_report"
   ]
  },
  {
   "cell_type": "code",
   "execution_count": 38,
   "metadata": {
    "colab": {
     "base_uri": "https://localhost:8080/"
    },
    "id": "LHM33998M_H5",
    "outputId": "d7407d83-12fe-48ae-c71d-4fc395bf1b58"
   },
   "outputs": [
    {
     "name": "stdout",
     "output_type": "stream",
     "text": [
      "Classification Report for Vader\n",
      "              precision    recall  f1-score   support\n",
      "\n",
      "           0       1.00      0.98      0.99       147\n",
      "           1       0.96      1.00      0.98        78\n",
      "\n",
      "    accuracy                           0.99       225\n",
      "   macro avg       0.98      0.99      0.99       225\n",
      "weighted avg       0.99      0.99      0.99       225\n",
      "\n"
     ]
    }
   ],
   "source": [
    "# Display classification report for Vader\n",
    "print(\"Classification Report for Vader\")\n",
    "print(classification_report(y_vader_pred, y_test))"
   ]
  },
  {
   "cell_type": "code",
   "execution_count": 39,
   "metadata": {
    "colab": {
     "base_uri": "https://localhost:8080/"
    },
    "id": "PNqWda-sM_Kx",
    "outputId": "56d0b9e5-618a-48f7-a37d-356524dd6575"
   },
   "outputs": [
    {
     "name": "stdout",
     "output_type": "stream",
     "text": [
      "Classification Report for the RNN LSTM Model\n",
      "              precision    recall  f1-score   support\n",
      "\n",
      "           0       1.00      0.60      0.75       225\n",
      "           1       0.00      0.00      0.00         0\n",
      "\n",
      "    accuracy                           0.60       225\n",
      "   macro avg       0.50      0.30      0.37       225\n",
      "weighted avg       1.00      0.60      0.75       225\n",
      "\n"
     ]
    }
   ],
   "source": [
    "# Display classification report for the RNN LSTM Model\n",
    "print(\"Classification Report for the RNN LSTM Model\")\n",
    "print(classification_report(y_rnn_pred, y_test_rnn))"
   ]
  },
  {
   "cell_type": "code",
   "execution_count": 40,
   "metadata": {
    "id": "tNCKN6IGM_OD"
   },
   "outputs": [],
   "source": [
    "# Import the roc_curve and auc metrics from sklearn\n",
    "from sklearn.metrics import roc_curve, auc"
   ]
  },
  {
   "cell_type": "code",
   "execution_count": 41,
   "metadata": {
    "id": "8-niTM_JM_Rf"
   },
   "outputs": [],
   "source": [
    "# Data for ROC Curve - VADER\n",
    "fpr_test_vader, tpr_test_vader, thresholds_test_vader = roc_curve(y_test, y_vader_prob_norm)"
   ]
  },
  {
   "cell_type": "code",
   "execution_count": 42,
   "metadata": {
    "id": "GSJjHAXcM_Ua"
   },
   "outputs": [],
   "source": [
    "# AUC for VADER\n",
    "auc_test_vader = auc(fpr_test_vader, tpr_test_vader)\n",
    "auc_test_vader = round(auc_test_vader, 4)"
   ]
  },
  {
   "cell_type": "code",
   "execution_count": 43,
   "metadata": {
    "id": "ityE7MlvM_XY"
   },
   "outputs": [],
   "source": [
    "# Dataframe to plot ROC Curve for VADER\n",
    "roc_df_test_vader = pd.DataFrame({\"FPR Test\": fpr_test_vader, \"TPR Test\": tpr_test_vader,})"
   ]
  },
  {
   "cell_type": "code",
   "execution_count": 44,
   "metadata": {
    "colab": {
     "base_uri": "https://localhost:8080/",
     "height": 313
    },
    "id": "eVugRjgjNpcK",
    "outputId": "8f8634a8-3baf-4343-d6b7-a7dbc2e6eacc"
   },
   "outputs": [
    {
     "data": {
      "text/plain": [
       "<matplotlib.axes._subplots.AxesSubplot at 0x7f34cbe71cd0>"
      ]
     },
     "execution_count": 44,
     "metadata": {
      "tags": []
     },
     "output_type": "execute_result"
    },
    {
     "data": {
      "image/png": "[encoded data removed]",
      "text/plain": [
       "<Figure size 432x288 with 1 Axes>"
      ]
     },
     "metadata": {
      "needs_background": "light",
      "tags": []
     },
     "output_type": "display_data"
    }
   ],
   "source": [
    "roc_df_test_vader.plot(\n",
    "    x=\"FPR Test\",\n",
    "    y=\"TPR Test\",\n",
    "    color=\"red\",\n",
    "    style=\"--\",\n",
    "    xlim=([-0.05, 1.05]),\n",
    "    title=f\"Test ROC Curve - Vader (AUC={auc_test_vader})\",\n",
    ")"
   ]
  },
  {
   "cell_type": "code",
   "execution_count": 45,
   "metadata": {
    "id": "sHtQAXXiNpmC"
   },
   "outputs": [],
   "source": [
    "# Making predictions to feed the roc_curve module\n",
    "test_predictions_rnn = model.predict(X_test_rnn, batch_size=1000)"
   ]
  },
  {
   "cell_type": "code",
   "execution_count": 46,
   "metadata": {
    "id": "wcjhoHZDNppZ"
   },
   "outputs": [],
   "source": [
    "# Data for ROC Curve - RNN LSTM Model\n",
    "fpr_test_rnn, tpr_test_rnn, thresholds_test_rnn = roc_curve(y_test_rnn, test_predictions_rnn)"
   ]
  },
  {
   "cell_type": "code",
   "execution_count": 47,
   "metadata": {
    "id": "dzgsEs4PNpsv"
   },
   "outputs": [],
   "source": [
    "# AUC for the RNN LSTM Model\n",
    "auc_test_rnn = auc(fpr_test_rnn, tpr_test_rnn)\n",
    "auc_test_rnn = round(auc_test_rnn, 4)"
   ]
  },
  {
   "cell_type": "code",
   "execution_count": 48,
   "metadata": {
    "id": "YMzFjQY7NpwH"
   },
   "outputs": [],
   "source": [
    "# Dataframe to plot ROC Curve for the RNN LSTM model\n",
    "roc_df_test_rnn = pd.DataFrame({\"FPR Test\": fpr_test_rnn, \"TPR Test\": tpr_test_rnn,})"
   ]
  },
  {
   "cell_type": "code",
   "execution_count": 49,
   "metadata": {
    "colab": {
     "base_uri": "https://localhost:8080/",
     "height": 313
    },
    "id": "kvCJusW6NpzE",
    "outputId": "de548e8a-f7fb-4322-b5d9-e0a7d9a39bca"
   },
   "outputs": [
    {
     "data": {
      "text/plain": [
       "<matplotlib.axes._subplots.AxesSubplot at 0x7f34d0959a90>"
      ]
     },
     "execution_count": 49,
     "metadata": {
      "tags": []
     },
     "output_type": "execute_result"
    },
    {
     "data": {
      "image/png": "[encoded data removed]",
      "text/plain": [
       "<Figure size 432x288 with 1 Axes>"
      ]
     },
     "metadata": {
      "needs_background": "light",
      "tags": []
     },
     "output_type": "display_data"
    }
   ],
   "source": [
    "roc_df_test_rnn.plot(\n",
    "    x=\"FPR Test\",\n",
    "    y=\"TPR Test\",\n",
    "    color=\"blue\",\n",
    "    style=\"--\",\n",
    "    xlim=([-0.05, 1.05]),\n",
    "    title=f\"Test ROC Curve (AUC={auc_test_rnn})\",\n",
    ")"
   ]
  },
  {
   "cell_type": "code",
   "execution_count": 49,
   "metadata": {
    "id": "B1qMUEhzN4xC"
   },
   "outputs": [],
   "source": []
  }
 ],
 "metadata": {
  "colab": {
   "collapsed_sections": [],
   "name": "bot_sentiment.ipynb",
   "provenance": []
  },
  "kernelspec": {
   "display_name": "Python [conda env:pyvizenv] *",
   "language": "python",
   "name": "conda-env-pyvizenv-py"
  },
  "language_info": {
   "codemirror_mode": {
    "name": "ipython",
    "version": 3
   },
   "file_extension": ".py",
   "mimetype": "text/x-python",
   "name": "python",
   "nbconvert_exporter": "python",
   "pygments_lexer": "ipython3",
   "version": "3.7.9"
  }
 },
 "nbformat": 4,
 "nbformat_minor": 4
}
