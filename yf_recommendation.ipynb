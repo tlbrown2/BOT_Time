{
 "cells": [
  {
   "cell_type": "code",
   "execution_count": 5,
   "metadata": {
    "executionInfo": {
     "elapsed": 683,
     "status": "ok",
     "timestamp": 1616543602073,
     "user": {
      "displayName": "Stephen Bootcamp",
      "photoUrl": "",
      "userId": "14668239942868133606"
     },
     "user_tz": 240
    },
    "id": "ZUuvmjkND8kD"
   },
   "outputs": [],
   "source": [
    "#!pip install yahoo-fin\n",
    "import requests\n",
    "import pandas as pd \n",
    "from yahoo_fin import stock_info as si \n",
    "#from pandas_datareader import DataReader\n",
    "import numpy as np\n",
    "    "
   ]
  },
  {
   "cell_type": "code",
   "execution_count": 6,
   "metadata": {
    "executionInfo": {
     "elapsed": 1094,
     "status": "ok",
     "timestamp": 1616543838127,
     "user": {
      "displayName": "Stephen Bootcamp",
      "photoUrl": "",
      "userId": "14668239942868133606"
     },
     "user_tz": 240
    },
    "id": "o8g3A0Tq1sl7"
   },
   "outputs": [],
   "source": [
    "#tickers = ['TQQQ']\n",
    "tickers = ['AAPL','MSFT','AMZN','FB','GOOGL','GOOG','TSLA','JPM','JNJ']\n",
    "#tickers = si.tickers_sp500()\n",
    "recommendations = []"
   ]
  },
  {
   "cell_type": "code",
   "execution_count": 7,
   "metadata": {
    "executionInfo": {
     "elapsed": 83670,
     "status": "ok",
     "timestamp": 1616543923609,
     "user": {
      "displayName": "Stephen Bootcamp",
      "photoUrl": "",
      "userId": "14668239942868133606"
     },
     "user_tz": 240
    },
    "id": "aRDvpIr61swE"
   },
   "outputs": [],
   "source": [
    "for ticker in tickers:\n",
    "    lhs_url = 'https://query2.finance.yahoo.com/v10/finance/quoteSummary/'\n",
    "    rhs_url = '?formatted=true&crumb=swg7qs5y9UP&lang=en-US&region=US&' \\\n",
    "              'modules=upgradeDowngradeHistory,recommendationTrend,' \\\n",
    "              'financialData,earningsHistory,earningsTrend,industryTrend&' \\\n",
    "              'corsDomain=finance.yahoo.com'\n",
    "              \n",
    "    url =  lhs_url + ticker + rhs_url\n",
    "    r = requests.get(url)\n",
    "    if not r.ok:\n",
    "        recommendation = 6\n",
    "    try:\n",
    "        result = r.json()['quoteSummary']['result'][0]\n",
    "        recommendation =result['financialData']['recommendationMean']['fmt']\n",
    "    except:\n",
    "        recommendation = 6\n",
    "    \n",
    "    recommendations.append(recommendation)"
   ]
  },
  {
   "cell_type": "code",
   "execution_count": 8,
   "metadata": {
    "colab": {
     "base_uri": "https://localhost:8080/"
    },
    "executionInfo": {
     "elapsed": 81732,
     "status": "ok",
     "timestamp": 1616543923613,
     "user": {
      "displayName": "Stephen Bootcamp",
      "photoUrl": "",
      "userId": "14668239942868133606"
     },
     "user_tz": 240
    },
    "id": "C3Z55Uxv6N7K",
    "outputId": "88df4fee-9790-4350-e472-d9078b40f677"
   },
   "outputs": [
    {
     "name": "stdout",
     "output_type": "stream",
     "text": [
      "{'recommendationTrend': {'trend': [{'period': '0m', 'strongBuy': 4, 'buy': 8, 'hold': 8, 'sell': 2, 'strongSell': 1}, {'period': '-1m', 'strongBuy': 6, 'buy': 7, 'hold': 5, 'sell': 0, 'strongSell': 0}, {'period': '-2m', 'strongBuy': 6, 'buy': 7, 'hold': 5, 'sell': 0, 'strongSell': 0}, {'period': '-3m', 'strongBuy': 2, 'buy': 8, 'hold': 10, 'sell': 1, 'strongSell': 1}], 'maxAge': 86400}, 'upgradeDowngradeHistory': {'history': [{'epochGradeDate': 1611757274, 'firm': 'Raymond James', 'toGrade': 'Outperform', 'fromGrade': '', 'action': 'main'}, {'epochGradeDate': 1611755337, 'firm': 'Credit Suisse', 'toGrade': 'Outperform', 'fromGrade': '', 'action': 'main'}, {'epochGradeDate': 1611755112, 'firm': 'Morgan Stanley', 'toGrade': 'Overweight', 'fromGrade': '', 'action': 'main'}, {'epochGradeDate': 1611746700, 'firm': 'Wells Fargo', 'toGrade': 'Overweight', 'fromGrade': '', 'action': 'main'}, {'epochGradeDate': 1611743262, 'firm': 'SVB Leerink', 'toGrade': 'Outperform', 'fromGrade': '', 'action': 'main'}, {'epochGradeDate': 1611697818, 'firm': 'Cantor Fitzgerald', 'toGrade': 'Overweight', 'fromGrade': '', 'action': 'main'}, {'epochGradeDate': 1608052835, 'firm': 'Morgan Stanley', 'toGrade': 'Overweight', 'fromGrade': '', 'action': 'main'}, {'epochGradeDate': 1602681704, 'firm': 'Cantor Fitzgerald', 'toGrade': 'Overweight', 'fromGrade': '', 'action': 'main'}, {'epochGradeDate': 1602679958, 'firm': 'Credit Suisse', 'toGrade': 'Outperform', 'fromGrade': '', 'action': 'main'}, {'epochGradeDate': 1595241674, 'firm': 'Independent Research', 'toGrade': 'Buy', 'fromGrade': 'Hold', 'action': 'up'}, {'epochGradeDate': 1588173279, 'firm': 'Barclays', 'toGrade': 'Overweight', 'fromGrade': '', 'action': 'main'}, {'epochGradeDate': 1588165337, 'firm': 'Morgan Stanley', 'toGrade': 'Overweight', 'fromGrade': '', 'action': 'main'}, {'epochGradeDate': 1588068262, 'firm': 'UBS', 'toGrade': 'Neutral', 'fromGrade': 'Buy', 'action': 'down'}, {'epochGradeDate': 1587567054, 'firm': 'B of A Securities', 'toGrade': 'Buy', 'fromGrade': 'Neutral', 'action': 'up'}, {'epochGradeDate': 1586960040, 'firm': 'Stifel', 'toGrade': 'Hold', 'fromGrade': '', 'action': 'main'}, {'epochGradeDate': 1586956665, 'firm': 'Wells Fargo', 'toGrade': 'Overweight', 'fromGrade': '', 'action': 'main'}, {'epochGradeDate': 1586953612, 'firm': 'Credit Suisse', 'toGrade': 'Outperform', 'fromGrade': '', 'action': 'reit'}, {'epochGradeDate': 1586953245, 'firm': 'Citigroup', 'toGrade': 'Buy', 'fromGrade': '', 'action': 'main'}, {'epochGradeDate': 1586949615, 'firm': 'Raymond James', 'toGrade': 'Outperform', 'fromGrade': '', 'action': 'reit'}, {'epochGradeDate': 1586359725, 'firm': 'SVB Leerink', 'toGrade': 'Outperform', 'fromGrade': '', 'action': 'main'}, {'epochGradeDate': 1585832850, 'firm': 'Wells Fargo', 'toGrade': 'Overweight', 'fromGrade': '', 'action': 'main'}, {'epochGradeDate': 1585750768, 'firm': 'Stifel', 'toGrade': 'Hold', 'fromGrade': '', 'action': 'main'}, {'epochGradeDate': 1585335941, 'firm': 'Morgan Stanley', 'toGrade': 'Overweight', 'fromGrade': '', 'action': 'main'}, {'epochGradeDate': 1585314115, 'firm': 'Argus Research', 'toGrade': 'Buy', 'fromGrade': '', 'action': 'reit'}, {'epochGradeDate': 1585336458, 'firm': 'Citigroup', 'toGrade': 'Buy', 'fromGrade': '', 'action': 'main'}, {'epochGradeDate': 1583508587, 'firm': 'Credit Suisse', 'toGrade': 'Outperform', 'fromGrade': '', 'action': 'main'}, {'epochGradeDate': 1583401945, 'firm': 'Citigroup', 'toGrade': 'Buy', 'fromGrade': '', 'action': 'init'}, {'epochGradeDate': 1580128049, 'firm': 'Credit Suisse', 'toGrade': 'Outperform', 'fromGrade': '', 'action': 'main'}, {'epochGradeDate': 1579783863, 'firm': 'Raymond James', 'toGrade': 'Outperform', 'fromGrade': '', 'action': 'main'}, {'epochGradeDate': 1578577140, 'firm': 'Wells Fargo', 'toGrade': 'Overweight', 'fromGrade': '', 'action': 'main'}, {'epochGradeDate': 1576755450, 'firm': 'Barclays', 'toGrade': 'Overweight', 'fromGrade': 'Equal-Weight', 'action': 'up'}, {'epochGradeDate': 1576581931, 'firm': 'Morgan Stanley', 'toGrade': 'Overweight', 'fromGrade': 'Equal-Weight', 'action': 'up'}, {'epochGradeDate': 1574250052, 'firm': 'Cantor Fitzgerald', 'toGrade': 'Overweight', 'fromGrade': '', 'action': 'init'}, {'epochGradeDate': 1571916042, 'firm': 'Credit Suisse', 'toGrade': 'Outperform', 'fromGrade': '', 'action': 'main'}, {'epochGradeDate': 1571233803, 'firm': 'Credit Suisse', 'toGrade': 'Outperform', 'fromGrade': '', 'action': 'main'}, {'epochGradeDate': 1571232029, 'firm': 'Wells Fargo', 'toGrade': 'Outperform', 'fromGrade': '', 'action': 'main'}, {'epochGradeDate': 1571222254, 'firm': 'Atlantic Equities', 'toGrade': 'Neutral', 'fromGrade': 'Underweight', 'action': 'up'}, {'epochGradeDate': 1571056462, 'firm': 'Raymond James', 'toGrade': 'Outperform', 'fromGrade': '', 'action': 'main'}, {'epochGradeDate': 1570794082, 'firm': 'Bernstein', 'toGrade': 'Outperform', 'fromGrade': 'Market Perform', 'action': 'up'}, {'epochGradeDate': 1566909944, 'firm': 'Morgan Stanley', 'toGrade': 'Equal-Weight', 'fromGrade': '', 'action': 'main'}, {'epochGradeDate': 1563363950, 'firm': 'Raymond James', 'toGrade': 'Outperform', 'fromGrade': '', 'action': 'main'}, {'epochGradeDate': 1562932743, 'firm': 'Credit Suisse', 'toGrade': 'Outperform', 'fromGrade': '', 'action': 'init'}, {'epochGradeDate': 1558011781, 'firm': 'Credit Suisse', 'toGrade': 'Outperform', 'fromGrade': '', 'action': 'main'}, {'epochGradeDate': 1555512009, 'firm': 'BMO Capital', 'toGrade': 'Outperform', 'fromGrade': 'Outperform', 'action': 'main'}, {'epochGradeDate': 1555509905, 'firm': 'Credit Suisse', 'toGrade': 'Outperform', 'fromGrade': 'Outperform', 'action': 'main'}, {'epochGradeDate': 1555509375, 'firm': 'Morgan Stanley', 'toGrade': 'Equal-Weight', 'fromGrade': 'Equal-Weight', 'action': 'main'}, {'epochGradeDate': 1555505426, 'firm': 'Raymond James', 'toGrade': 'Outperform', 'fromGrade': 'Outperform', 'action': 'main'}, {'epochGradeDate': 1551108772, 'firm': 'Citigroup', 'toGrade': 'Neutral', 'fromGrade': 'Neutral', 'action': 'main'}, {'epochGradeDate': 1547475384, 'firm': 'Wells Fargo', 'toGrade': 'Outperform', 'fromGrade': 'Outperform', 'action': 'main'}, {'epochGradeDate': 1546440364, 'firm': 'Morgan Stanley', 'toGrade': 'Equal-Weight', 'fromGrade': 'Equal-Weight', 'action': 'main'}, {'epochGradeDate': 1546439220, 'firm': 'Citigroup', 'toGrade': 'Neutral', 'fromGrade': 'Neutral', 'action': 'main'}, {'epochGradeDate': 1540223009, 'firm': 'Citigroup', 'toGrade': 'Neutral', 'fromGrade': 'Neutral', 'action': 'main'}, {'epochGradeDate': 1539788960, 'firm': 'Credit Suisse', 'toGrade': 'Outperform', 'fromGrade': 'Outperform', 'action': 'main'}, {'epochGradeDate': 1539781252, 'firm': 'Raymond James', 'toGrade': 'Outperform', 'fromGrade': 'Outperform', 'action': 'main'}, {'epochGradeDate': 1539264828, 'firm': 'Morgan Stanley', 'toGrade': 'Equal-Weight', 'fromGrade': 'Equal-Weight', 'action': 'main'}, {'epochGradeDate': 1531398049, 'firm': 'Goldman Sachs', 'toGrade': 'Neutral', 'fromGrade': 'Sell', 'action': 'up'}, {'epochGradeDate': 1530100780, 'firm': 'Bernstein', 'toGrade': 'Market Perform', 'fromGrade': '', 'action': 'init'}, {'epochGradeDate': 1524227739, 'firm': 'Credit Suisse', 'toGrade': 'Outperform', 'fromGrade': 'Outperform', 'action': 'main'}, {'epochGradeDate': 1524050633, 'firm': 'Stifel Nicolaus', 'toGrade': 'Hold', 'fromGrade': 'Hold', 'action': 'main'}, {'epochGradeDate': 1523370892, 'firm': 'Morgan Stanley', 'toGrade': 'Equal-Weight', 'fromGrade': 'Equal-Weight', 'action': 'main'}, {'epochGradeDate': 1519831766, 'firm': 'Citigroup', 'toGrade': 'Neutral', 'fromGrade': 'Neutral', 'action': 'main'}, {'epochGradeDate': 1519742411, 'firm': 'Citigroup', 'toGrade': 'Neutral', 'fromGrade': 'Neutral', 'action': 'main'}, {'epochGradeDate': 1516810858, 'firm': 'Stifel Nicolaus', 'toGrade': 'Hold', 'fromGrade': 'Hold', 'action': 'main'}, {'epochGradeDate': 1514891939, 'firm': 'JP Morgan', 'toGrade': 'Neutral', 'fromGrade': 'Overweight', 'action': 'down'}, {'epochGradeDate': 1508776800, 'firm': 'Citigroup', 'toGrade': 'Buy', 'fromGrade': '', 'action': 'main'}, {'epochGradeDate': 1508422017, 'firm': 'Credit Suisse', 'toGrade': 'Outperform', 'fromGrade': '', 'action': 'main'}, {'epochGradeDate': 1508344021, 'firm': 'Barclays', 'toGrade': 'Equal-Weight', 'fromGrade': '', 'action': 'main'}, {'epochGradeDate': 1508338921, 'firm': 'BMO Capital', 'toGrade': 'Outperform', 'fromGrade': '', 'action': 'main'}, {'epochGradeDate': 1508330854, 'firm': 'Morgan Stanley', 'toGrade': 'Equal-Weight', 'fromGrade': '', 'action': 'main'}, {'epochGradeDate': 1508326465, 'firm': 'Argus', 'toGrade': 'Buy', 'fromGrade': '', 'action': 'main'}, {'epochGradeDate': 1507723043, 'firm': 'Jefferies', 'toGrade': 'Buy', 'fromGrade': 'Hold', 'action': 'up'}, {'epochGradeDate': 1507553475, 'firm': 'Wells Fargo', 'toGrade': 'Outperform', 'fromGrade': 'Market Perform', 'action': 'up'}, {'epochGradeDate': 1505912461, 'firm': 'Goldman Sachs', 'toGrade': 'Sell', 'fromGrade': 'Neutral', 'action': 'down'}, {'epochGradeDate': 1500642809, 'firm': 'Atlantic Equities', 'toGrade': 'Underweight', 'fromGrade': 'Neutral', 'action': 'down'}, {'epochGradeDate': 1500642597, 'firm': 'BTIG Research', 'toGrade': 'Sell', 'fromGrade': 'Neutral', 'action': 'down'}, {'epochGradeDate': 1494858431, 'firm': 'JP Morgan', 'toGrade': 'Overweight', 'fromGrade': 'Neutral', 'action': 'up'}, {'epochGradeDate': 1485443294, 'firm': 'Wells Fargo', 'toGrade': 'Market Perform', 'fromGrade': 'Outperform', 'action': 'down'}, {'epochGradeDate': 1480416971, 'firm': 'Barclays', 'toGrade': 'Equal-Weight', 'fromGrade': 'Overweight', 'action': 'down'}, {'epochGradeDate': 1473753035, 'firm': 'Jefferies', 'toGrade': 'Hold', 'fromGrade': '', 'action': 'main'}, {'epochGradeDate': 1470316659, 'firm': 'Jefferies', 'toGrade': 'Hold', 'fromGrade': '', 'action': 'main'}, {'epochGradeDate': 1525527135, 'firm': 'Argus', 'toGrade': 'Buy', 'fromGrade': 'Hold', 'action': 'up'}, {'epochGradeDate': 1468497880, 'firm': 'Jefferies', 'toGrade': 'Hold', 'fromGrade': '', 'action': 'main'}, {'epochGradeDate': 1465908392, 'firm': 'Jefferies', 'toGrade': 'Hold', 'fromGrade': '', 'action': 'main'}, {'epochGradeDate': 1463729770, 'firm': 'Standpoint Research', 'toGrade': 'Sell', 'fromGrade': '', 'action': 'init'}, {'epochGradeDate': 1463076581, 'firm': 'BTIG Research', 'toGrade': 'Neutral', 'fromGrade': 'Buy', 'action': 'down'}, {'epochGradeDate': 1462138276, 'firm': 'Credit Suisse', 'toGrade': 'Neutral', 'fromGrade': '', 'action': 'main'}, {'epochGradeDate': 1525527135, 'firm': 'Argus', 'toGrade': 'Buy', 'fromGrade': '', 'action': 'main'}, {'epochGradeDate': 1461127397, 'firm': 'Barclays', 'toGrade': 'Overweight', 'fromGrade': '', 'action': 'main'}, {'epochGradeDate': 1461126778, 'firm': 'Goldman Sachs', 'toGrade': 'Neutral', 'fromGrade': '', 'action': 'main'}, {'epochGradeDate': 1459943219, 'firm': 'Societe Generale', 'toGrade': 'Hold', 'fromGrade': '', 'action': 'init'}, {'epochGradeDate': 1458048424, 'firm': 'Jefferies', 'toGrade': 'Hold', 'fromGrade': '', 'action': 'main'}, {'epochGradeDate': 1457933956, 'firm': 'Goldman Sachs', 'toGrade': 'Neutral', 'fromGrade': 'Sell', 'action': 'up'}, {'epochGradeDate': 1454591375, 'firm': 'Deutsche Bank', 'toGrade': 'Buy', 'fromGrade': '', 'action': 'main'}, {'epochGradeDate': 1452780539, 'firm': 'Jefferies', 'toGrade': 'Hold', 'fromGrade': '', 'action': 'main'}, {'epochGradeDate': 1450428841, 'firm': 'Atlantic Equities', 'toGrade': 'Neutral', 'fromGrade': '', 'action': 'init'}, {'epochGradeDate': 1448946212, 'firm': 'Barclays', 'toGrade': 'Overweight', 'fromGrade': 'Equal-Weight', 'action': 'up'}, {'epochGradeDate': 1443508060, 'firm': 'Deutsche Bank', 'toGrade': 'Buy', 'fromGrade': 'Hold', 'action': 'up'}, {'epochGradeDate': 1442914012, 'firm': 'UBS', 'toGrade': 'Buy', 'fromGrade': '', 'action': 'init'}, {'epochGradeDate': 1438945200, 'firm': 'Jefferies', 'toGrade': 'Hold', 'fromGrade': '', 'action': 'main'}, {'epochGradeDate': 1432198800, 'firm': 'Jefferies', 'toGrade': 'Hold', 'fromGrade': '', 'action': 'main'}, {'epochGradeDate': 1429520400, 'firm': 'Deutsche Bank', 'toGrade': 'Hold', 'fromGrade': '', 'action': 'main'}, {'epochGradeDate': 1428310800, 'firm': 'JP Morgan', 'toGrade': 'Neutral', 'fromGrade': '', 'action': 'main'}, {'epochGradeDate': 1425978000, 'firm': 'Jefferies', 'toGrade': 'Hold', 'fromGrade': '', 'action': 'main'}, {'epochGradeDate': 1424422800, 'firm': 'Jefferies', 'toGrade': 'Hold', 'fromGrade': '', 'action': 'main'}, {'epochGradeDate': 1421917200, 'firm': 'Barclays', 'toGrade': 'Equal-Weight', 'fromGrade': '', 'action': 'main'}, {'epochGradeDate': 1421830800, 'firm': 'Jefferies', 'toGrade': 'Hold', 'fromGrade': '', 'action': 'main'}, {'epochGradeDate': 1421398800, 'firm': 'Barclays', 'toGrade': 'Equal-Weight', 'fromGrade': '', 'action': 'main'}, {'epochGradeDate': 1421312400, 'firm': 'Jefferies', 'toGrade': 'Hold', 'fromGrade': '', 'action': 'main'}, {'epochGradeDate': 1421280000, 'firm': 'Goldman Sachs', 'toGrade': 'Sell', 'fromGrade': 'Neutral', 'action': 'down'}, {'epochGradeDate': 1418720400, 'firm': 'JP Morgan', 'toGrade': 'Neutral', 'fromGrade': '', 'action': 'main'}, {'epochGradeDate': 1417683600, 'firm': 'Jefferies', 'toGrade': 'Hold', 'fromGrade': '', 'action': 'main'}, {'epochGradeDate': 1412230080, 'firm': 'Guggenheim', 'toGrade': 'Neutral', 'fromGrade': '', 'action': 'init'}, {'epochGradeDate': 1412145945, 'firm': 'Bernstein', 'toGrade': 'Market Perform', 'fromGrade': '', 'action': 'down'}, {'epochGradeDate': 1407747600, 'firm': 'Jefferies', 'toGrade': 'Hold', 'fromGrade': '', 'action': 'main'}, {'epochGradeDate': 1405544198, 'firm': 'Deutsche Bank', 'toGrade': 'Hold', 'fromGrade': '', 'action': 'main'}, {'epochGradeDate': 1405542017, 'firm': 'Citigroup', 'toGrade': 'Buy', 'fromGrade': '', 'action': 'main'}, {'epochGradeDate': 1405296057, 'firm': 'Jefferies', 'toGrade': 'Hold', 'fromGrade': '', 'action': 'main'}, {'epochGradeDate': 1404328641, 'firm': 'Barclays', 'toGrade': 'Equal-Weight', 'fromGrade': '', 'action': 'main'}, {'epochGradeDate': 1404156160, 'firm': 'JP Morgan', 'toGrade': 'Neutral', 'fromGrade': '', 'action': 'main'}, {'epochGradeDate': 1399326313, 'firm': 'Citigroup', 'toGrade': 'Buy', 'fromGrade': '', 'action': 'main'}, {'epochGradeDate': 1397689905, 'firm': 'Raymond James', 'toGrade': 'Outperform', 'fromGrade': '', 'action': 'main'}, {'epochGradeDate': 1397686875, 'firm': 'JP Morgan', 'toGrade': 'Neutral', 'fromGrade': '', 'action': 'main'}, {'epochGradeDate': 1397683835, 'firm': 'Citigroup', 'toGrade': 'Buy', 'fromGrade': '', 'action': 'main'}, {'epochGradeDate': 1397632347, 'firm': 'Credit Suisse', 'toGrade': 'Underperform', 'fromGrade': '', 'action': 'main'}, {'epochGradeDate': 1397630775, 'firm': 'Bank of America', 'toGrade': 'Neutral', 'fromGrade': '', 'action': 'main'}, {'epochGradeDate': 1397462400, 'firm': 'Jefferies', 'toGrade': 'Hold', 'fromGrade': 'Buy', 'action': 'down'}, {'epochGradeDate': 1389342600, 'firm': 'Barclays', 'toGrade': 'Equal-weight', 'fromGrade': 'Overweight', 'action': 'down'}, {'epochGradeDate': 1389256200, 'firm': 'Jefferies', 'toGrade': 'Buy', 'fromGrade': 'Hold', 'action': 'up'}, {'epochGradeDate': 1389110400, 'firm': 'RBC Capital', 'toGrade': 'Outperform', 'fromGrade': 'Sector Perform', 'action': 'up'}, {'epochGradeDate': 1381472865, 'firm': 'Goldman Sachs', 'toGrade': 'Neutral', 'fromGrade': 'Sell', 'action': 'up'}, {'epochGradeDate': 1374043225, 'firm': 'Deutsche Bank', 'toGrade': 'Hold', 'fromGrade': 'Buy', 'action': 'down'}, {'epochGradeDate': 1373614002, 'firm': 'Jefferies', 'toGrade': 'Hold', 'fromGrade': '', 'action': 'main'}, {'epochGradeDate': 1370591383, 'firm': 'Jefferies', 'toGrade': 'Hold', 'fromGrade': '', 'action': 'main'}, {'epochGradeDate': 1369729707, 'firm': 'Jefferies', 'toGrade': 'Hold', 'fromGrade': '', 'action': 'main'}, {'epochGradeDate': 1366357071, 'firm': 'Jefferies', 'toGrade': 'Hold', 'fromGrade': '', 'action': 'main'}, {'epochGradeDate': 1365751695, 'firm': 'Deutsche Bank', 'toGrade': 'Buy', 'fromGrade': '', 'action': 'main'}, {'epochGradeDate': 1365581033, 'firm': 'Jefferies', 'toGrade': 'Hold', 'fromGrade': '', 'action': 'main'}, {'epochGradeDate': 1365401112, 'firm': 'JP Morgan', 'toGrade': 'Neutral', 'fromGrade': 'Overweight', 'action': 'down'}, {'epochGradeDate': 1364288830, 'firm': 'UBS', 'toGrade': 'Buy', 'fromGrade': '', 'action': 'main'}, {'epochGradeDate': 1360224675, 'firm': 'Credit Suisse', 'toGrade': 'Underperform', 'fromGrade': 'Neutral', 'action': 'down'}, {'epochGradeDate': 1358326330, 'firm': 'Jefferies', 'toGrade': 'Hold', 'fromGrade': '', 'action': 'main'}, {'epochGradeDate': 1357900208, 'firm': 'UBS', 'toGrade': 'Buy', 'fromGrade': '', 'action': 'main'}, {'epochGradeDate': 1357283026, 'firm': 'Deutsche Bank', 'toGrade': 'Buy', 'fromGrade': 'Hold', 'action': 'up'}, {'epochGradeDate': 1355137810, 'firm': 'Davenport', 'toGrade': '', 'fromGrade': 'Neutral', 'action': 'up'}, {'epochGradeDate': 1353400020, 'firm': 'Stifel Nicolaus', 'toGrade': 'Hold', 'fromGrade': '', 'action': 'init'}, {'epochGradeDate': 1352700600, 'firm': 'Jefferies', 'toGrade': 'Hold', 'fromGrade': 'Buy', 'action': 'down'}, {'epochGradeDate': 1350476040, 'firm': 'Barclays', 'toGrade': 'Overweight', 'fromGrade': '', 'action': 'main'}, {'epochGradeDate': 1350456780, 'firm': 'Deutsche Bank', 'toGrade': 'Hold', 'fromGrade': '', 'action': 'main'}, {'epochGradeDate': 1350025080, 'firm': 'Jefferies', 'toGrade': 'Buy', 'fromGrade': '', 'action': 'main'}, {'epochGradeDate': 1343819460, 'firm': 'UBS', 'toGrade': 'Buy', 'fromGrade': '', 'action': 'main'}, {'epochGradeDate': 1342605900, 'firm': 'PiperJaffray', 'toGrade': 'Neutral', 'fromGrade': '', 'action': 'main'}, {'epochGradeDate': 1342592340, 'firm': 'Jefferies', 'toGrade': 'Buy', 'fromGrade': '', 'action': 'main'}, {'epochGradeDate': 1342591860, 'firm': 'Deutsche Bank', 'toGrade': 'Hold', 'fromGrade': '', 'action': 'main'}, {'epochGradeDate': 1342162440, 'firm': 'Jefferies', 'toGrade': 'Buy', 'fromGrade': '', 'action': 'main'}, {'epochGradeDate': 1334749320, 'firm': 'UBS', 'toGrade': 'Buy', 'fromGrade': '', 'action': 'main'}, {'epochGradeDate': 1334733540, 'firm': 'Citigroup', 'toGrade': 'Buy', 'fromGrade': '', 'action': 'main'}, {'epochGradeDate': 1334732040, 'firm': 'Goldman Sachs', 'toGrade': 'Neutral', 'fromGrade': '', 'action': 'main'}, {'epochGradeDate': 1334557620, 'firm': 'Citigroup', 'toGrade': 'Buy', 'fromGrade': '', 'action': 'main'}], 'maxAge': 86400}, 'earningsHistory': {'history': [{'maxAge': 1, 'epsActual': {'raw': 2.3, 'fmt': '2.3'}, 'epsEstimate': {'raw': 1.99, 'fmt': '1.99'}, 'epsDifference': {'raw': 0.31, 'fmt': '0.31'}, 'surprisePercent': {'raw': 0.156, 'fmt': '15.60%'}, 'quarter': {'raw': 1585612800, 'fmt': '2020-03-31'}, 'period': '-4q'}, {'maxAge': 1, 'epsActual': {'raw': 1.67, 'fmt': '1.67'}, 'epsEstimate': {'raw': 1.49, 'fmt': '1.49'}, 'epsDifference': {'raw': 0.18, 'fmt': '0.18'}, 'surprisePercent': {'raw': 0.12100001, 'fmt': '12.10%'}, 'quarter': {'raw': 1593475200, 'fmt': '2020-06-30'}, 'period': '-3q'}, {'maxAge': 1, 'epsActual': {'raw': 2.2, 'fmt': '2.2'}, 'epsEstimate': {'raw': 1.98, 'fmt': '1.98'}, 'epsDifference': {'raw': 0.22, 'fmt': '0.22'}, 'surprisePercent': {'raw': 0.111, 'fmt': '11.10%'}, 'quarter': {'raw': 1601424000, 'fmt': '2020-09-30'}, 'period': '-2q'}, {'maxAge': 1, 'epsActual': {'raw': 1.86, 'fmt': '1.86'}, 'epsEstimate': {'raw': 1.82, 'fmt': '1.82'}, 'epsDifference': {'raw': 0.04, 'fmt': '0.04'}, 'surprisePercent': {'raw': 0.022, 'fmt': '2.20%'}, 'quarter': {'raw': 1609372800, 'fmt': '2020-12-31'}, 'period': '-1q'}], 'maxAge': 86400}, 'earningsTrend': {'trend': [{'maxAge': 1, 'period': '0q', 'endDate': '2021-03-31', 'growth': {'raw': 0.009, 'fmt': '0.90%'}, 'earningsEstimate': {'avg': {'raw': 2.32, 'fmt': '2.32'}, 'low': {'raw': 2.2, 'fmt': '2.2'}, 'high': {'raw': 2.46, 'fmt': '2.46'}, 'yearAgoEps': {'raw': 2.3, 'fmt': '2.3'}, 'numberOfAnalysts': {'raw': 15, 'fmt': '15', 'longFmt': '15'}, 'growth': {'raw': 0.009, 'fmt': '0.90%'}}, 'revenueEstimate': {'avg': {'raw': 21994300000, 'fmt': '21.99B', 'longFmt': '21,994,300,000'}, 'low': {'raw': 21461000000, 'fmt': '21.46B', 'longFmt': '21,461,000,000'}, 'high': {'raw': 22586100000, 'fmt': '22.59B', 'longFmt': '22,586,100,000'}, 'numberOfAnalysts': {'raw': 13, 'fmt': '13', 'longFmt': '13'}, 'yearAgoRevenue': {'raw': 20691000000, 'fmt': '20.69B', 'longFmt': '20,691,000,000'}, 'growth': {'raw': 0.063, 'fmt': '6.30%'}}, 'epsTrend': {'current': {'raw': 2.32, 'fmt': '2.32'}, '7daysAgo': {'raw': 2.32, 'fmt': '2.32'}, '30daysAgo': {'raw': 2.32, 'fmt': '2.32'}, '60daysAgo': {'raw': 2.22, 'fmt': '2.22'}, '90daysAgo': {'raw': 2.21, 'fmt': '2.21'}}, 'epsRevisions': {'upLast7days': {'raw': 0, 'fmt': None, 'longFmt': '0'}, 'upLast30days': {'raw': 2, 'fmt': '2', 'longFmt': '2'}, 'downLast30days': {'raw': 0, 'fmt': None, 'longFmt': '0'}, 'downLast90days': {}}}, {'maxAge': 1, 'period': '+1q', 'endDate': '2021-06-30', 'growth': {'raw': 0.377, 'fmt': '37.70%'}, 'earningsEstimate': {'avg': {'raw': 2.3, 'fmt': '2.3'}, 'low': {'raw': 2.08, 'fmt': '2.08'}, 'high': {'raw': 2.47, 'fmt': '2.47'}, 'yearAgoEps': {'raw': 1.67, 'fmt': '1.67'}, 'numberOfAnalysts': {'raw': 15, 'fmt': '15', 'longFmt': '15'}, 'growth': {'raw': 0.377, 'fmt': '37.70%'}}, 'revenueEstimate': {'avg': {'raw': 22306600000, 'fmt': '22.31B', 'longFmt': '22,306,600,000'}, 'low': {'raw': 21515000000, 'fmt': '21.52B', 'longFmt': '21,515,000,000'}, 'high': {'raw': 23494400000, 'fmt': '23.49B', 'longFmt': '23,494,400,000'}, 'numberOfAnalysts': {'raw': 13, 'fmt': '13', 'longFmt': '13'}, 'yearAgoRevenue': {'raw': 17606500000, 'fmt': '17.61B', 'longFmt': '17,606,500,000'}, 'growth': {'raw': 0.26700002, 'fmt': '26.70%'}}, 'epsTrend': {'current': {'raw': 2.3, 'fmt': '2.3'}, '7daysAgo': {'raw': 2.29, 'fmt': '2.29'}, '30daysAgo': {'raw': 2.28, 'fmt': '2.28'}, '60daysAgo': {'raw': 2.16, 'fmt': '2.16'}, '90daysAgo': {'raw': 2.15, 'fmt': '2.15'}}, 'epsRevisions': {'upLast7days': {'raw': 0, 'fmt': None, 'longFmt': '0'}, 'upLast30days': {'raw': 1, 'fmt': '1', 'longFmt': '1'}, 'downLast30days': {'raw': 0, 'fmt': None, 'longFmt': '0'}, 'downLast90days': {}}}, {'maxAge': 1, 'period': '0y', 'endDate': '2021-12-31', 'growth': {'raw': 0.184, 'fmt': '18.40%'}, 'earningsEstimate': {'avg': {'raw': 9.51, 'fmt': '9.51'}, 'low': {'raw': 9.35, 'fmt': '9.35'}, 'high': {'raw': 9.84, 'fmt': '9.84'}, 'yearAgoEps': {'raw': 8.03, 'fmt': '8.03'}, 'numberOfAnalysts': {'raw': 19, 'fmt': '19', 'longFmt': '19'}, 'growth': {'raw': 0.184, 'fmt': '18.40%'}}, 'revenueEstimate': {'avg': {'raw': 91973600000, 'fmt': '91.97B', 'longFmt': '91,973,600,000'}, 'low': {'raw': 90513000000, 'fmt': '90.51B', 'longFmt': '90,513,000,000'}, 'high': {'raw': 99058000000, 'fmt': '99.06B', 'longFmt': '99,058,000,000'}, 'numberOfAnalysts': {'raw': 17, 'fmt': '17', 'longFmt': '17'}, 'yearAgoRevenue': {'raw': 82584000000, 'fmt': '82.58B', 'longFmt': '82,584,000,000'}, 'growth': {'raw': 0.11399999, 'fmt': '11.40%'}}, 'epsTrend': {'current': {'raw': 9.51, 'fmt': '9.51'}, '7daysAgo': {'raw': 9.51, 'fmt': '9.51'}, '30daysAgo': {'raw': 9.5, 'fmt': '9.5'}, '60daysAgo': {'raw': 8.99, 'fmt': '8.99'}, '90daysAgo': {'raw': 8.99, 'fmt': '8.99'}}, 'epsRevisions': {'upLast7days': {'raw': 0, 'fmt': None, 'longFmt': '0'}, 'upLast30days': {'raw': 2, 'fmt': '2', 'longFmt': '2'}, 'downLast30days': {'raw': 1, 'fmt': '1', 'longFmt': '1'}, 'downLast90days': {}}}, {'maxAge': 1, 'period': '+1y', 'endDate': '2022-12-31', 'growth': {'raw': 0.08, 'fmt': '8.00%'}, 'earningsEstimate': {'avg': {'raw': 10.27, 'fmt': '10.27'}, 'low': {'raw': 9.88, 'fmt': '9.88'}, 'high': {'raw': 10.97, 'fmt': '10.97'}, 'yearAgoEps': {'raw': 9.51, 'fmt': '9.51'}, 'numberOfAnalysts': {'raw': 19, 'fmt': '19', 'longFmt': '19'}, 'growth': {'raw': 0.08, 'fmt': '8.00%'}}, 'revenueEstimate': {'avg': {'raw': 96241900000, 'fmt': '96.24B', 'longFmt': '96,241,900,000'}, 'low': {'raw': 93162000000, 'fmt': '93.16B', 'longFmt': '93,162,000,000'}, 'high': {'raw': 104244000000, 'fmt': '104.24B', 'longFmt': '104,244,000,000'}, 'numberOfAnalysts': {'raw': 17, 'fmt': '17', 'longFmt': '17'}, 'yearAgoRevenue': {'raw': 91973600000, 'fmt': '91.97B', 'longFmt': '91,973,600,000'}, 'growth': {'raw': 0.046, 'fmt': '4.60%'}}, 'epsTrend': {'current': {'raw': 10.27, 'fmt': '10.27'}, '7daysAgo': {'raw': 10.27, 'fmt': '10.27'}, '30daysAgo': {'raw': 10.25, 'fmt': '10.25'}, '60daysAgo': {'raw': 9.77, 'fmt': '9.77'}, '90daysAgo': {'raw': 9.78, 'fmt': '9.78'}}, 'epsRevisions': {'upLast7days': {'raw': 2, 'fmt': '2', 'longFmt': '2'}, 'upLast30days': {'raw': 3, 'fmt': '3', 'longFmt': '3'}, 'downLast30days': {'raw': 0, 'fmt': None, 'longFmt': '0'}, 'downLast90days': {}}}, {'maxAge': 1, 'period': '+5y', 'endDate': None, 'growth': {'raw': 0.055999998, 'fmt': '5.60%'}, 'earningsEstimate': {'avg': {}, 'low': {}, 'high': {}, 'yearAgoEps': {}, 'numberOfAnalysts': {}, 'growth': {}}, 'revenueEstimate': {'avg': {}, 'low': {}, 'high': {}, 'numberOfAnalysts': {}, 'yearAgoRevenue': {}, 'growth': {}}, 'epsTrend': {'current': {}, '7daysAgo': {}, '30daysAgo': {}, '60daysAgo': {}, '90daysAgo': {}}, 'epsRevisions': {'upLast7days': {}, 'upLast30days': {}, 'downLast30days': {}, 'downLast90days': {}}}, {'maxAge': 1, 'period': '-5y', 'endDate': None, 'growth': {'raw': 0.09925, 'fmt': '9.93%'}, 'earningsEstimate': {'avg': {}, 'low': {}, 'high': {}, 'yearAgoEps': {}, 'numberOfAnalysts': {}, 'growth': {}}, 'revenueEstimate': {'avg': {}, 'low': {}, 'high': {}, 'numberOfAnalysts': {}, 'yearAgoRevenue': {}, 'growth': {}}, 'epsTrend': {'current': {}, '7daysAgo': {}, '30daysAgo': {}, '60daysAgo': {}, '90daysAgo': {}}, 'epsRevisions': {'upLast7days': {}, 'upLast30days': {}, 'downLast30days': {}, 'downLast90days': {}}}], 'maxAge': 1}, 'industryTrend': {'maxAge': 1, 'symbol': None, 'peRatio': {}, 'pegRatio': {}, 'estimates': []}, 'financialData': {'maxAge': 86400, 'currentPrice': {'raw': 160.35, 'fmt': '160.35'}, 'targetHighPrice': {'raw': 201.0, 'fmt': '201.00'}, 'targetLowPrice': {'raw': 153.0, 'fmt': '153.00'}, 'targetMeanPrice': {'raw': 185.44, 'fmt': '185.44'}, 'targetMedianPrice': {'raw': 188.5, 'fmt': '188.50'}, 'recommendationMean': {'raw': 1.9, 'fmt': '1.90'}, 'recommendationKey': 'buy', 'numberOfAnalystOpinions': {'raw': 16, 'fmt': '16', 'longFmt': '16'}, 'totalCash': {'raw': 25425000448, 'fmt': '25.43B', 'longFmt': '25,425,000,448'}, 'totalCashPerShare': {'raw': 9.672, 'fmt': '9.67'}, 'ebitda': {'raw': 27245000704, 'fmt': '27.25B', 'longFmt': '27,245,000,704'}, 'totalDebt': {'raw': 36366000128, 'fmt': '36.37B', 'longFmt': '36,366,000,128'}, 'quickRatio': {'raw': 0.918, 'fmt': '0.92'}, 'currentRatio': {'raw': 1.206, 'fmt': '1.21'}, 'totalRevenue': {'raw': 82584002560, 'fmt': '82.58B', 'longFmt': '82,584,002,560'}, 'debtToEquity': {'raw': 57.47, 'fmt': '57.47'}, 'revenuePerShare': {'raw': 31.367, 'fmt': '31.37'}, 'returnOnAssets': {'raw': 0.07521, 'fmt': '7.52%'}, 'returnOnEquity': {'raw': 0.23974001, 'fmt': '23.97%'}, 'grossProfits': {'raw': 54257000000, 'fmt': '54.26B', 'longFmt': '54,257,000,000'}, 'freeCashflow': {'raw': 21855125504, 'fmt': '21.86B', 'longFmt': '21,855,125,504'}, 'operatingCashflow': {'raw': 23536001024, 'fmt': '23.54B', 'longFmt': '23,536,001,024'}, 'earningsGrowth': {'raw': -0.567, 'fmt': '-56.70%'}, 'revenueGrowth': {'raw': 0.083, 'fmt': '8.30%'}, 'grossMargins': {'raw': 0.65699, 'fmt': '65.70%'}, 'ebitdaMargins': {'raw': 0.32991, 'fmt': '32.99%'}, 'operatingMargins': {'raw': 0.24235001, 'fmt': '24.24%'}, 'profitMargins': {'raw': 0.17817, 'fmt': '17.82%'}, 'financialCurrency': 'USD'}}\n"
     ]
    }
   ],
   "source": [
    "print(result)"
   ]
  },
  {
   "cell_type": "code",
   "execution_count": 10,
   "metadata": {
    "executionInfo": {
     "elapsed": 910,
     "status": "ok",
     "timestamp": 1616543924599,
     "user": {
      "displayName": "Stephen Bootcamp",
      "photoUrl": "",
      "userId": "14668239942868133606"
     },
     "user_tz": 240
    },
    "id": "ypCKnia86OLc"
   },
   "outputs": [
    {
     "name": "stdout",
     "output_type": "stream",
     "text": [
      "1.90\n"
     ]
    }
   ],
   "source": [
    "\n",
    "print(recommendation)"
   ]
  },
  {
   "cell_type": "code",
   "execution_count": 21,
   "metadata": {
    "colab": {
     "base_uri": "https://localhost:8080/",
     "height": 455
    },
    "executionInfo": {
     "elapsed": 902,
     "status": "ok",
     "timestamp": 1616543924600,
     "user": {
      "displayName": "Stephen Bootcamp",
      "photoUrl": "",
      "userId": "14668239942868133606"
     },
     "user_tz": 240
    },
    "id": "cYTHPzy-p0Fg",
    "outputId": "e14f1fa4-1f37-4e62-dfe5-0448749b8784"
   },
   "outputs": [
    {
     "data": {
      "text/html": [
       "<div>\n",
       "<style scoped>\n",
       "    .dataframe tbody tr th:only-of-type {\n",
       "        vertical-align: middle;\n",
       "    }\n",
       "\n",
       "    .dataframe tbody tr th {\n",
       "        vertical-align: top;\n",
       "    }\n",
       "\n",
       "    .dataframe thead th {\n",
       "        text-align: right;\n",
       "    }\n",
       "</style>\n",
       "<table border=\"1\" class=\"dataframe\">\n",
       "  <thead>\n",
       "    <tr style=\"text-align: right;\">\n",
       "      <th></th>\n",
       "      <th>Recommendations</th>\n",
       "    </tr>\n",
       "    <tr>\n",
       "      <th>Stock</th>\n",
       "      <th></th>\n",
       "    </tr>\n",
       "  </thead>\n",
       "  <tbody>\n",
       "    <tr>\n",
       "      <th>AAPL</th>\n",
       "      <td>2.00</td>\n",
       "    </tr>\n",
       "    <tr>\n",
       "      <th>MSFT</th>\n",
       "      <td>1.70</td>\n",
       "    </tr>\n",
       "    <tr>\n",
       "      <th>AMZN</th>\n",
       "      <td>1.60</td>\n",
       "    </tr>\n",
       "    <tr>\n",
       "      <th>FB</th>\n",
       "      <td>1.80</td>\n",
       "    </tr>\n",
       "    <tr>\n",
       "      <th>GOOGL</th>\n",
       "      <td>1.70</td>\n",
       "    </tr>\n",
       "    <tr>\n",
       "      <th>GOOG</th>\n",
       "      <td>1.50</td>\n",
       "    </tr>\n",
       "    <tr>\n",
       "      <th>TSLA</th>\n",
       "      <td>2.90</td>\n",
       "    </tr>\n",
       "    <tr>\n",
       "      <th>JPM</th>\n",
       "      <td>2.20</td>\n",
       "    </tr>\n",
       "    <tr>\n",
       "      <th>JNJ</th>\n",
       "      <td>1.90</td>\n",
       "    </tr>\n",
       "  </tbody>\n",
       "</table>\n",
       "</div>"
      ],
      "text/plain": [
       "      Recommendations\n",
       "Stock                \n",
       "AAPL             2.00\n",
       "MSFT             1.70\n",
       "AMZN             1.60\n",
       "FB               1.80\n",
       "GOOGL            1.70\n",
       "GOOG             1.50\n",
       "TSLA             2.90\n",
       "JPM              2.20\n",
       "JNJ              1.90"
      ]
     },
     "execution_count": 21,
     "metadata": {},
     "output_type": "execute_result"
    }
   ],
   "source": [
    "df = pd.DataFrame(list(zip(tickers, recommendations)), columns =['Stock', 'Recommendations']) \n",
    "df = df.set_index('Stock')\n",
    "df\n",
    "# 1 is Strong Buy, 2 is Buy, 3 is Hold, 4 is Sell, 5 is Hard Sell\n"
   ]
  },
  {
   "cell_type": "code",
   "execution_count": 25,
   "metadata": {},
   "outputs": [
    {
     "data": {
      "text/plain": [
       "Stock\n",
       "AAPL     2.00\n",
       "MSFT     1.70\n",
       "AMZN     1.60\n",
       "FB       1.80\n",
       "GOOGL    1.70\n",
       "GOOG     1.50\n",
       "TSLA     2.90\n",
       "JPM      2.20\n",
       "JNJ      1.90\n",
       "Name: Recommendations, dtype: object"
      ]
     },
     "execution_count": 25,
     "metadata": {},
     "output_type": "execute_result"
    }
   ],
   "source": [
    "df['Recommendations']"
   ]
  },
  {
   "cell_type": "code",
   "execution_count": null,
   "metadata": {},
   "outputs": [],
   "source": []
  }
 ],
 "metadata": {
  "colab": {
   "authorship_tag": "ABX9TyOFvYyZhfyx4GUL0DJosh4C",
   "collapsed_sections": [],
   "name": "bot_sentiment_yf_bac.ipynb",
   "provenance": []
  },
  "kernelspec": {
   "display_name": "Python 3",
   "language": "python",
   "name": "python3"
  },
  "language_info": {
   "codemirror_mode": {
    "name": "ipython",
    "version": 3
   },
   "file_extension": ".py",
   "mimetype": "text/x-python",
   "name": "python",
   "nbconvert_exporter": "python",
   "pygments_lexer": "ipython3",
   "version": "3.7.9"
  }
 },
 "nbformat": 4,
 "nbformat_minor": 4
}
