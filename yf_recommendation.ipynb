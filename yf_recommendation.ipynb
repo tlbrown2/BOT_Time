{
 "cells": [
  {
   "cell_type": "code",
   "execution_count": null,
   "metadata": {
    "colab": {
     "base_uri": "https://localhost:8080/"
    },
    "executionInfo": {
     "elapsed": 12670,
     "status": "ok",
     "timestamp": 1616703322815,
     "user": {
      "displayName": "Stephen Bootcamp",
      "photoUrl": "",
      "userId": "14668239942868133606"
     },
     "user_tz": 240
    },
    "id": "ZUuvmjkND8kD",
    "outputId": "3b3d2467-ee80-4bdc-f9ee-23d15ef829ee"
   },
   "outputs": [],
   "source": [
    "!pip install yahoo-fin\n",
    "import pandas as pd \n",
    "from yahoo_fin import stock_info as si \n",
    "import numpy as np\n",
    "import requests\n",
    "#from pandas_datareader import DataReader"
   ]
  },
  {
   "cell_type": "code",
   "execution_count": 3,
   "metadata": {
    "executionInfo": {
     "elapsed": 520,
     "status": "ok",
     "timestamp": 1616703336080,
     "user": {
      "displayName": "Stephen Bootcamp",
      "photoUrl": "",
      "userId": "14668239942868133606"
     },
     "user_tz": 240
    },
    "id": "o8g3A0Tq1sl7"
   },
   "outputs": [],
   "source": [
    "#tickers = si.tickers_sp500()\n",
    "tickers = ['AAPL','MSFT','AMZN','FB','GOOGL','GOOG','TSLA','JPM','JNJ']\n",
    "\n",
    "recommendations = []"
   ]
  },
  {
   "cell_type": "code",
   "execution_count": 4,
   "metadata": {
    "executionInfo": {
     "elapsed": 1349,
     "status": "ok",
     "timestamp": 1616703340849,
     "user": {
      "displayName": "Stephen Bootcamp",
      "photoUrl": "",
      "userId": "14668239942868133606"
     },
     "user_tz": 240
    },
    "id": "aRDvpIr61swE"
   },
   "outputs": [],
   "source": [
    "for ticker in tickers:\n",
    "    lhs_url = 'https://query2.finance.yahoo.com/v10/finance/quoteSummary/'\n",
    "    rhs_url = '?formatted=true&crumb=swg7qs5y9UP&lang=en-US&region=US&' \\\n",
    "              'modules=upgradeDowngradeHistory,recommendationTrend,' \\\n",
    "              'financialData,earningsHistory,earningsTrend,industryTrend&' \\\n",
    "              'corsDomain=finance.yahoo.com'\n",
    "              \n",
    "    url =  lhs_url + ticker + rhs_url\n",
    "    r = requests.get(url)\n",
    "    if not r.ok:\n",
    "        recommendation = 6\n",
    "    try:\n",
    "        result = r.json()['quoteSummary']['result'][0]\n",
    "        recommendation =result['financialData']['recommendationMean']['fmt']\n",
    "    except:\n",
    "        recommendation = 6\n",
    "    \n",
    "    recommendations.append(recommendation)"
   ]
  },
  {
   "cell_type": "code",
   "execution_count": 5,
   "metadata": {
    "colab": {
     "base_uri": "https://localhost:8080/",
     "height": 363
    },
    "executionInfo": {
     "elapsed": 409,
     "status": "ok",
     "timestamp": 1616703347007,
     "user": {
      "displayName": "Stephen Bootcamp",
      "photoUrl": "",
      "userId": "14668239942868133606"
     },
     "user_tz": 240
    },
    "id": "cYTHPzy-p0Fg",
    "outputId": "b9f564c4-ed42-463c-815a-4b0dad10cad9"
   },
   "outputs": [
    {
     "data": {
      "text/html": [
       "<div>\n",
       "<style scoped>\n",
       "    .dataframe tbody tr th:only-of-type {\n",
       "        vertical-align: middle;\n",
       "    }\n",
       "\n",
       "    .dataframe tbody tr th {\n",
       "        vertical-align: top;\n",
       "    }\n",
       "\n",
       "    .dataframe thead th {\n",
       "        text-align: right;\n",
       "    }\n",
       "</style>\n",
       "<table border=\"1\" class=\"dataframe\">\n",
       "  <thead>\n",
       "    <tr style=\"text-align: right;\">\n",
       "      <th></th>\n",
       "      <th>Score</th>\n",
       "    </tr>\n",
       "    <tr>\n",
       "      <th>Stock</th>\n",
       "      <th></th>\n",
       "    </tr>\n",
       "  </thead>\n",
       "  <tbody>\n",
       "    <tr>\n",
       "      <th>AAPL</th>\n",
       "      <td>2.0</td>\n",
       "    </tr>\n",
       "    <tr>\n",
       "      <th>MSFT</th>\n",
       "      <td>1.7</td>\n",
       "    </tr>\n",
       "    <tr>\n",
       "      <th>AMZN</th>\n",
       "      <td>1.6</td>\n",
       "    </tr>\n",
       "    <tr>\n",
       "      <th>FB</th>\n",
       "      <td>1.8</td>\n",
       "    </tr>\n",
       "    <tr>\n",
       "      <th>GOOGL</th>\n",
       "      <td>1.7</td>\n",
       "    </tr>\n",
       "    <tr>\n",
       "      <th>GOOG</th>\n",
       "      <td>1.5</td>\n",
       "    </tr>\n",
       "    <tr>\n",
       "      <th>TSLA</th>\n",
       "      <td>2.9</td>\n",
       "    </tr>\n",
       "    <tr>\n",
       "      <th>JPM</th>\n",
       "      <td>2.2</td>\n",
       "    </tr>\n",
       "    <tr>\n",
       "      <th>JNJ</th>\n",
       "      <td>1.9</td>\n",
       "    </tr>\n",
       "  </tbody>\n",
       "</table>\n",
       "</div>"
      ],
      "text/plain": [
       "       Score\n",
       "Stock       \n",
       "AAPL     2.0\n",
       "MSFT     1.7\n",
       "AMZN     1.6\n",
       "FB       1.8\n",
       "GOOGL    1.7\n",
       "GOOG     1.5\n",
       "TSLA     2.9\n",
       "JPM      2.2\n",
       "JNJ      1.9"
      ]
     },
     "execution_count": 5,
     "metadata": {
      "tags": []
     },
     "output_type": "execute_result"
    }
   ],
   "source": [
    "df = pd.DataFrame(list(zip(tickers, recommendations)), columns =['Stock', 'Score']) \n",
    "df = df.set_index('Stock')\n",
    "df['Score'] = df['Score'].astype(float, errors = 'raise')\n",
    "df\n",
    "# 1 is Strong Buy, 2 is Buy, 3 is Hold, 4 is Sell, 5 is Hard Sell"
   ]
  },
  {
   "cell_type": "code",
   "execution_count": 6,
   "metadata": {
    "colab": {
     "base_uri": "https://localhost:8080/",
     "height": 363
    },
    "executionInfo": {
     "elapsed": 870,
     "status": "ok",
     "timestamp": 1616703366614,
     "user": {
      "displayName": "Stephen Bootcamp",
      "photoUrl": "",
      "userId": "14668239942868133606"
     },
     "user_tz": 240
    },
    "id": "CqWw7ROI8Zn7",
    "outputId": "6db8949f-d763-4624-cbb1-40890a6a9ddb"
   },
   "outputs": [
    {
     "data": {
      "text/html": [
       "<div>\n",
       "<style scoped>\n",
       "    .dataframe tbody tr th:only-of-type {\n",
       "        vertical-align: middle;\n",
       "    }\n",
       "\n",
       "    .dataframe tbody tr th {\n",
       "        vertical-align: top;\n",
       "    }\n",
       "\n",
       "    .dataframe thead th {\n",
       "        text-align: right;\n",
       "    }\n",
       "</style>\n",
       "<table border=\"1\" class=\"dataframe\">\n",
       "  <thead>\n",
       "    <tr style=\"text-align: right;\">\n",
       "      <th></th>\n",
       "      <th>Score</th>\n",
       "      <th>Signal</th>\n",
       "      <th>Action</th>\n",
       "    </tr>\n",
       "    <tr>\n",
       "      <th>Stock</th>\n",
       "      <th></th>\n",
       "      <th></th>\n",
       "      <th></th>\n",
       "    </tr>\n",
       "  </thead>\n",
       "  <tbody>\n",
       "    <tr>\n",
       "      <th>AAPL</th>\n",
       "      <td>2.0</td>\n",
       "      <td>1</td>\n",
       "      <td>Buy</td>\n",
       "    </tr>\n",
       "    <tr>\n",
       "      <th>MSFT</th>\n",
       "      <td>1.7</td>\n",
       "      <td>1</td>\n",
       "      <td>Buy</td>\n",
       "    </tr>\n",
       "    <tr>\n",
       "      <th>AMZN</th>\n",
       "      <td>1.6</td>\n",
       "      <td>1</td>\n",
       "      <td>Buy</td>\n",
       "    </tr>\n",
       "    <tr>\n",
       "      <th>FB</th>\n",
       "      <td>1.8</td>\n",
       "      <td>1</td>\n",
       "      <td>Buy</td>\n",
       "    </tr>\n",
       "    <tr>\n",
       "      <th>GOOGL</th>\n",
       "      <td>1.7</td>\n",
       "      <td>1</td>\n",
       "      <td>Buy</td>\n",
       "    </tr>\n",
       "    <tr>\n",
       "      <th>GOOG</th>\n",
       "      <td>1.5</td>\n",
       "      <td>1</td>\n",
       "      <td>Strong Buy</td>\n",
       "    </tr>\n",
       "    <tr>\n",
       "      <th>TSLA</th>\n",
       "      <td>2.9</td>\n",
       "      <td>0</td>\n",
       "      <td>Hold</td>\n",
       "    </tr>\n",
       "    <tr>\n",
       "      <th>JPM</th>\n",
       "      <td>2.2</td>\n",
       "      <td>0</td>\n",
       "      <td>Buy</td>\n",
       "    </tr>\n",
       "    <tr>\n",
       "      <th>JNJ</th>\n",
       "      <td>1.9</td>\n",
       "      <td>1</td>\n",
       "      <td>Buy</td>\n",
       "    </tr>\n",
       "  </tbody>\n",
       "</table>\n",
       "</div>"
      ],
      "text/plain": [
       "       Score  Signal      Action\n",
       "Stock                           \n",
       "AAPL     2.0       1         Buy\n",
       "MSFT     1.7       1         Buy\n",
       "AMZN     1.6       1         Buy\n",
       "FB       1.8       1         Buy\n",
       "GOOGL    1.7       1         Buy\n",
       "GOOG     1.5       1  Strong Buy\n",
       "TSLA     2.9       0        Hold\n",
       "JPM      2.2       0         Buy\n",
       "JNJ      1.9       1         Buy"
      ]
     },
     "execution_count": 6,
     "metadata": {
      "tags": []
     },
     "output_type": "execute_result"
    }
   ],
   "source": [
    "def stock_score(row):\n",
    "    if row['Score'] <= 2.0:\n",
    "        signal = 1\n",
    "    elif row['Score'] >= 4.0:\n",
    "        signal = -1\n",
    "    else:\n",
    "        signal = 0     \n",
    "    return signal\n",
    "\n",
    "df['Signal'] = df.apply(stock_score, axis=1)\n",
    "df['Action'] = [\"Strong Buy\" if x <= 1.5 else \"Buy\" if x <= 2.5 else \"Hold\" if x < 3.5 else \"Hard Sell\" if x >= 4.5 else \"Sell\" for x in df['Score']]\n",
    "df"
   ]
  },
  {
   "cell_type": "code",
   "execution_count": null,
   "metadata": {
    "executionInfo": {
     "elapsed": 3988,
     "status": "aborted",
     "timestamp": 1616671510359,
     "user": {
      "displayName": "Stephen Bootcamp",
      "photoUrl": "",
      "userId": "14668239942868133606"
     },
     "user_tz": 240
    },
    "id": "b_m2Aap3-8vw"
   },
   "outputs": [],
   "source": [
    "df2.to_csv('yf_signal_action.csv')"
   ]
  }
 ],
 "metadata": {
  "colab": {
   "authorship_tag": "ABX9TyPAdtegkFEfWzVp6JRDPUX0",
   "collapsed_sections": [],
   "name": "new_yf_recommendation.ipynb",
   "provenance": []
  },
  "kernelspec": {
   "display_name": "Python 3",
   "language": "python",
   "name": "python3"
  },
  "language_info": {
   "codemirror_mode": {
    "name": "ipython",
    "version": 3
   },
   "file_extension": ".py",
   "mimetype": "text/x-python",
   "name": "python",
   "nbconvert_exporter": "python",
   "pygments_lexer": "ipython3",
   "version": "3.8.3"
  }
 },
 "nbformat": 4,
 "nbformat_minor": 4
}
